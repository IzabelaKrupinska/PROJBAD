{
  "nbformat": 4,
  "nbformat_minor": 0,
  "metadata": {
    "colab": {
      "name": "BOW_and_ALL_MEASURES_FUNCTIONS.ipynb",
      "provenance": [],
      "collapsed_sections": []
    },
    "kernelspec": {
      "display_name": "Python 3",
      "name": "python3"
    },
    "widgets": {
      "application/vnd.jupyter.widget-state+json": {
        "d662b2e29e964fd8b1d89a40cbbc0be8": {
          "model_module": "@jupyter-widgets/controls",
          "model_name": "HBoxModel",
          "state": {
            "_view_name": "HBoxView",
            "_dom_classes": [],
            "_model_name": "HBoxModel",
            "_view_module": "@jupyter-widgets/controls",
            "_model_module_version": "1.5.0",
            "_view_count": null,
            "_view_module_version": "1.5.0",
            "box_style": "",
            "layout": "IPY_MODEL_aecbd2b7653a4d7ca8b9f20c696ebf04",
            "_model_module": "@jupyter-widgets/controls",
            "children": [
              "IPY_MODEL_f450f06dc50547dbb2e8ab8b1bf502da",
              "IPY_MODEL_9514d5adf32c4984a6c5b1c9161845bf"
            ]
          }
        },
        "aecbd2b7653a4d7ca8b9f20c696ebf04": {
          "model_module": "@jupyter-widgets/base",
          "model_name": "LayoutModel",
          "state": {
            "_view_name": "LayoutView",
            "grid_template_rows": null,
            "right": null,
            "justify_content": null,
            "_view_module": "@jupyter-widgets/base",
            "overflow": null,
            "_model_module_version": "1.2.0",
            "_view_count": null,
            "flex_flow": null,
            "width": null,
            "min_width": null,
            "border": null,
            "align_items": null,
            "bottom": null,
            "_model_module": "@jupyter-widgets/base",
            "top": null,
            "grid_column": null,
            "overflow_y": null,
            "overflow_x": null,
            "grid_auto_flow": null,
            "grid_area": null,
            "grid_template_columns": null,
            "flex": null,
            "_model_name": "LayoutModel",
            "justify_items": null,
            "grid_row": null,
            "max_height": null,
            "align_content": null,
            "visibility": null,
            "align_self": null,
            "height": null,
            "min_height": null,
            "padding": null,
            "grid_auto_rows": null,
            "grid_gap": null,
            "max_width": null,
            "order": null,
            "_view_module_version": "1.2.0",
            "grid_template_areas": null,
            "object_position": null,
            "object_fit": null,
            "grid_auto_columns": null,
            "margin": null,
            "display": null,
            "left": null
          }
        },
        "f450f06dc50547dbb2e8ab8b1bf502da": {
          "model_module": "@jupyter-widgets/controls",
          "model_name": "FloatProgressModel",
          "state": {
            "_view_name": "ProgressView",
            "style": "IPY_MODEL_db950aa906174713a0ceafd88b517668",
            "_dom_classes": [],
            "description": "",
            "_model_name": "FloatProgressModel",
            "bar_style": "success",
            "max": 1,
            "_view_module": "@jupyter-widgets/controls",
            "_model_module_version": "1.5.0",
            "value": 1,
            "_view_count": null,
            "_view_module_version": "1.5.0",
            "orientation": "horizontal",
            "min": 0,
            "description_tooltip": null,
            "_model_module": "@jupyter-widgets/controls",
            "layout": "IPY_MODEL_163091ead9f746cabdb171ca6bb969d3"
          }
        },
        "9514d5adf32c4984a6c5b1c9161845bf": {
          "model_module": "@jupyter-widgets/controls",
          "model_name": "HTMLModel",
          "state": {
            "_view_name": "HTMLView",
            "style": "IPY_MODEL_e3e7538f67244dfca469f878ae4f953a",
            "_dom_classes": [],
            "description": "",
            "_model_name": "HTMLModel",
            "placeholder": "​",
            "_view_module": "@jupyter-widgets/controls",
            "_model_module_version": "1.5.0",
            "value": " 400000/? [00:21&lt;00:00, 18184.26it/s]",
            "_view_count": null,
            "_view_module_version": "1.5.0",
            "description_tooltip": null,
            "_model_module": "@jupyter-widgets/controls",
            "layout": "IPY_MODEL_94db1d72334844cd9634647996ade2b3"
          }
        },
        "db950aa906174713a0ceafd88b517668": {
          "model_module": "@jupyter-widgets/controls",
          "model_name": "ProgressStyleModel",
          "state": {
            "_view_name": "StyleView",
            "_model_name": "ProgressStyleModel",
            "description_width": "initial",
            "_view_module": "@jupyter-widgets/base",
            "_model_module_version": "1.5.0",
            "_view_count": null,
            "_view_module_version": "1.2.0",
            "bar_color": null,
            "_model_module": "@jupyter-widgets/controls"
          }
        },
        "163091ead9f746cabdb171ca6bb969d3": {
          "model_module": "@jupyter-widgets/base",
          "model_name": "LayoutModel",
          "state": {
            "_view_name": "LayoutView",
            "grid_template_rows": null,
            "right": null,
            "justify_content": null,
            "_view_module": "@jupyter-widgets/base",
            "overflow": null,
            "_model_module_version": "1.2.0",
            "_view_count": null,
            "flex_flow": null,
            "width": null,
            "min_width": null,
            "border": null,
            "align_items": null,
            "bottom": null,
            "_model_module": "@jupyter-widgets/base",
            "top": null,
            "grid_column": null,
            "overflow_y": null,
            "overflow_x": null,
            "grid_auto_flow": null,
            "grid_area": null,
            "grid_template_columns": null,
            "flex": null,
            "_model_name": "LayoutModel",
            "justify_items": null,
            "grid_row": null,
            "max_height": null,
            "align_content": null,
            "visibility": null,
            "align_self": null,
            "height": null,
            "min_height": null,
            "padding": null,
            "grid_auto_rows": null,
            "grid_gap": null,
            "max_width": null,
            "order": null,
            "_view_module_version": "1.2.0",
            "grid_template_areas": null,
            "object_position": null,
            "object_fit": null,
            "grid_auto_columns": null,
            "margin": null,
            "display": null,
            "left": null
          }
        },
        "e3e7538f67244dfca469f878ae4f953a": {
          "model_module": "@jupyter-widgets/controls",
          "model_name": "DescriptionStyleModel",
          "state": {
            "_view_name": "StyleView",
            "_model_name": "DescriptionStyleModel",
            "description_width": "",
            "_view_module": "@jupyter-widgets/base",
            "_model_module_version": "1.5.0",
            "_view_count": null,
            "_view_module_version": "1.2.0",
            "_model_module": "@jupyter-widgets/controls"
          }
        },
        "94db1d72334844cd9634647996ade2b3": {
          "model_module": "@jupyter-widgets/base",
          "model_name": "LayoutModel",
          "state": {
            "_view_name": "LayoutView",
            "grid_template_rows": null,
            "right": null,
            "justify_content": null,
            "_view_module": "@jupyter-widgets/base",
            "overflow": null,
            "_model_module_version": "1.2.0",
            "_view_count": null,
            "flex_flow": null,
            "width": null,
            "min_width": null,
            "border": null,
            "align_items": null,
            "bottom": null,
            "_model_module": "@jupyter-widgets/base",
            "top": null,
            "grid_column": null,
            "overflow_y": null,
            "overflow_x": null,
            "grid_auto_flow": null,
            "grid_area": null,
            "grid_template_columns": null,
            "flex": null,
            "_model_name": "LayoutModel",
            "justify_items": null,
            "grid_row": null,
            "max_height": null,
            "align_content": null,
            "visibility": null,
            "align_self": null,
            "height": null,
            "min_height": null,
            "padding": null,
            "grid_auto_rows": null,
            "grid_gap": null,
            "max_width": null,
            "order": null,
            "_view_module_version": "1.2.0",
            "grid_template_areas": null,
            "object_position": null,
            "object_fit": null,
            "grid_auto_columns": null,
            "margin": null,
            "display": null,
            "left": null
          }
        },
        "a76b830ce30642ad8ae2db61c9b9f409": {
          "model_module": "@jupyter-widgets/controls",
          "model_name": "HBoxModel",
          "state": {
            "_view_name": "HBoxView",
            "_dom_classes": [],
            "_model_name": "HBoxModel",
            "_view_module": "@jupyter-widgets/controls",
            "_model_module_version": "1.5.0",
            "_view_count": null,
            "_view_module_version": "1.5.0",
            "box_style": "",
            "layout": "IPY_MODEL_5befd956cf9845bebf6f3e0e7b636bb1",
            "_model_module": "@jupyter-widgets/controls",
            "children": [
              "IPY_MODEL_505e90e6d4eb4d5899b5cd4c90f22353",
              "IPY_MODEL_373766cc8ccb40b89fcb75f9a802e02a"
            ]
          }
        },
        "5befd956cf9845bebf6f3e0e7b636bb1": {
          "model_module": "@jupyter-widgets/base",
          "model_name": "LayoutModel",
          "state": {
            "_view_name": "LayoutView",
            "grid_template_rows": null,
            "right": null,
            "justify_content": null,
            "_view_module": "@jupyter-widgets/base",
            "overflow": null,
            "_model_module_version": "1.2.0",
            "_view_count": null,
            "flex_flow": null,
            "width": null,
            "min_width": null,
            "border": null,
            "align_items": null,
            "bottom": null,
            "_model_module": "@jupyter-widgets/base",
            "top": null,
            "grid_column": null,
            "overflow_y": null,
            "overflow_x": null,
            "grid_auto_flow": null,
            "grid_area": null,
            "grid_template_columns": null,
            "flex": null,
            "_model_name": "LayoutModel",
            "justify_items": null,
            "grid_row": null,
            "max_height": null,
            "align_content": null,
            "visibility": null,
            "align_self": null,
            "height": null,
            "min_height": null,
            "padding": null,
            "grid_auto_rows": null,
            "grid_gap": null,
            "max_width": null,
            "order": null,
            "_view_module_version": "1.2.0",
            "grid_template_areas": null,
            "object_position": null,
            "object_fit": null,
            "grid_auto_columns": null,
            "margin": null,
            "display": null,
            "left": null
          }
        },
        "505e90e6d4eb4d5899b5cd4c90f22353": {
          "model_module": "@jupyter-widgets/controls",
          "model_name": "FloatProgressModel",
          "state": {
            "_view_name": "ProgressView",
            "style": "IPY_MODEL_397f9eb7f90f4c13ab9e32250b5edb8d",
            "_dom_classes": [],
            "description": "100%",
            "_model_name": "FloatProgressModel",
            "bar_style": "success",
            "max": 2063,
            "_view_module": "@jupyter-widgets/controls",
            "_model_module_version": "1.5.0",
            "value": 2063,
            "_view_count": null,
            "_view_module_version": "1.5.0",
            "orientation": "horizontal",
            "min": 0,
            "description_tooltip": null,
            "_model_module": "@jupyter-widgets/controls",
            "layout": "IPY_MODEL_8be74be4f9cb47a2a4f94bb168806575"
          }
        },
        "373766cc8ccb40b89fcb75f9a802e02a": {
          "model_module": "@jupyter-widgets/controls",
          "model_name": "HTMLModel",
          "state": {
            "_view_name": "HTMLView",
            "style": "IPY_MODEL_c129b50090a148018886c799bb47f2dd",
            "_dom_classes": [],
            "description": "",
            "_model_name": "HTMLModel",
            "placeholder": "​",
            "_view_module": "@jupyter-widgets/controls",
            "_model_module_version": "1.5.0",
            "value": " 2063/2063 [00:00&lt;00:00, 3047.26it/s]",
            "_view_count": null,
            "_view_module_version": "1.5.0",
            "description_tooltip": null,
            "_model_module": "@jupyter-widgets/controls",
            "layout": "IPY_MODEL_7b6810918145444cad34c3e55b8a0f3c"
          }
        },
        "397f9eb7f90f4c13ab9e32250b5edb8d": {
          "model_module": "@jupyter-widgets/controls",
          "model_name": "ProgressStyleModel",
          "state": {
            "_view_name": "StyleView",
            "_model_name": "ProgressStyleModel",
            "description_width": "initial",
            "_view_module": "@jupyter-widgets/base",
            "_model_module_version": "1.5.0",
            "_view_count": null,
            "_view_module_version": "1.2.0",
            "bar_color": null,
            "_model_module": "@jupyter-widgets/controls"
          }
        },
        "8be74be4f9cb47a2a4f94bb168806575": {
          "model_module": "@jupyter-widgets/base",
          "model_name": "LayoutModel",
          "state": {
            "_view_name": "LayoutView",
            "grid_template_rows": null,
            "right": null,
            "justify_content": null,
            "_view_module": "@jupyter-widgets/base",
            "overflow": null,
            "_model_module_version": "1.2.0",
            "_view_count": null,
            "flex_flow": null,
            "width": null,
            "min_width": null,
            "border": null,
            "align_items": null,
            "bottom": null,
            "_model_module": "@jupyter-widgets/base",
            "top": null,
            "grid_column": null,
            "overflow_y": null,
            "overflow_x": null,
            "grid_auto_flow": null,
            "grid_area": null,
            "grid_template_columns": null,
            "flex": null,
            "_model_name": "LayoutModel",
            "justify_items": null,
            "grid_row": null,
            "max_height": null,
            "align_content": null,
            "visibility": null,
            "align_self": null,
            "height": null,
            "min_height": null,
            "padding": null,
            "grid_auto_rows": null,
            "grid_gap": null,
            "max_width": null,
            "order": null,
            "_view_module_version": "1.2.0",
            "grid_template_areas": null,
            "object_position": null,
            "object_fit": null,
            "grid_auto_columns": null,
            "margin": null,
            "display": null,
            "left": null
          }
        },
        "c129b50090a148018886c799bb47f2dd": {
          "model_module": "@jupyter-widgets/controls",
          "model_name": "DescriptionStyleModel",
          "state": {
            "_view_name": "StyleView",
            "_model_name": "DescriptionStyleModel",
            "description_width": "",
            "_view_module": "@jupyter-widgets/base",
            "_model_module_version": "1.5.0",
            "_view_count": null,
            "_view_module_version": "1.2.0",
            "_model_module": "@jupyter-widgets/controls"
          }
        },
        "7b6810918145444cad34c3e55b8a0f3c": {
          "model_module": "@jupyter-widgets/base",
          "model_name": "LayoutModel",
          "state": {
            "_view_name": "LayoutView",
            "grid_template_rows": null,
            "right": null,
            "justify_content": null,
            "_view_module": "@jupyter-widgets/base",
            "overflow": null,
            "_model_module_version": "1.2.0",
            "_view_count": null,
            "flex_flow": null,
            "width": null,
            "min_width": null,
            "border": null,
            "align_items": null,
            "bottom": null,
            "_model_module": "@jupyter-widgets/base",
            "top": null,
            "grid_column": null,
            "overflow_y": null,
            "overflow_x": null,
            "grid_auto_flow": null,
            "grid_area": null,
            "grid_template_columns": null,
            "flex": null,
            "_model_name": "LayoutModel",
            "justify_items": null,
            "grid_row": null,
            "max_height": null,
            "align_content": null,
            "visibility": null,
            "align_self": null,
            "height": null,
            "min_height": null,
            "padding": null,
            "grid_auto_rows": null,
            "grid_gap": null,
            "max_width": null,
            "order": null,
            "_view_module_version": "1.2.0",
            "grid_template_areas": null,
            "object_position": null,
            "object_fit": null,
            "grid_auto_columns": null,
            "margin": null,
            "display": null,
            "left": null
          }
        }
      }
    },
    "accelerator": "GPU"
  },
  "cells": [
    {
      "cell_type": "code",
      "metadata": {
        "id": "ew3zDv46j3_J",
        "colab": {
          "base_uri": "https://localhost:8080/"
        },
        "outputId": "303da3b7-1f66-4cba-da3a-1ed8e39e95c7"
      },
      "source": [
        "tf_version = !pip3 show tensorflow | grep Version\r\n",
        "if '2.2' not in tf_version[0]:\r\n",
        "  print(\"downgrading tensorflow\")\r\n",
        "  !pip3 uninstall --yes tensorflow\r\n",
        "  !pip3 install tensorflow==2.2\r\n",
        "\r\n",
        "keras_version = !pip3 show keras | grep Version\r\n",
        "if '2.3.1' not in keras_version[0]:\r\n",
        "  print(\"downgrading keras\")\r\n",
        "  !pip3 uninstall --yes keras\r\n",
        "  !pip3 install keras==2.3.1"
      ],
      "execution_count": null,
      "outputs": [
        {
          "output_type": "stream",
          "text": [
            "downgrading tensorflow\n",
            "Uninstalling tensorflow-2.4.0:\n",
            "  Successfully uninstalled tensorflow-2.4.0\n",
            "Collecting tensorflow==2.2\n",
            "\u001b[?25l  Downloading https://files.pythonhosted.org/packages/3d/be/679ce5254a8c8d07470efb4a4c00345fae91f766e64f1c2aece8796d7218/tensorflow-2.2.0-cp36-cp36m-manylinux2010_x86_64.whl (516.2MB)\n",
            "\u001b[K     |████████████████████████████████| 516.2MB 33kB/s \n",
            "\u001b[?25hRequirement already satisfied: wrapt>=1.11.1 in /usr/local/lib/python3.6/dist-packages (from tensorflow==2.2) (1.12.1)\n",
            "Collecting tensorboard<2.3.0,>=2.2.0\n",
            "\u001b[?25l  Downloading https://files.pythonhosted.org/packages/1d/74/0a6fcb206dcc72a6da9a62dd81784bfdbff5fedb099982861dc2219014fb/tensorboard-2.2.2-py3-none-any.whl (3.0MB)\n",
            "\u001b[K     |████████████████████████████████| 3.0MB 33kB/s \n",
            "\u001b[?25hRequirement already satisfied: six>=1.12.0 in /usr/local/lib/python3.6/dist-packages (from tensorflow==2.2) (1.15.0)\n",
            "Requirement already satisfied: wheel>=0.26; python_version >= \"3\" in /usr/local/lib/python3.6/dist-packages (from tensorflow==2.2) (0.36.2)\n",
            "Requirement already satisfied: h5py<2.11.0,>=2.10.0 in /usr/local/lib/python3.6/dist-packages (from tensorflow==2.2) (2.10.0)\n",
            "Requirement already satisfied: keras-preprocessing>=1.1.0 in /usr/local/lib/python3.6/dist-packages (from tensorflow==2.2) (1.1.2)\n",
            "Requirement already satisfied: gast==0.3.3 in /usr/local/lib/python3.6/dist-packages (from tensorflow==2.2) (0.3.3)\n",
            "Requirement already satisfied: termcolor>=1.1.0 in /usr/local/lib/python3.6/dist-packages (from tensorflow==2.2) (1.1.0)\n",
            "Requirement already satisfied: numpy<2.0,>=1.16.0 in /usr/local/lib/python3.6/dist-packages (from tensorflow==2.2) (1.19.5)\n",
            "Requirement already satisfied: google-pasta>=0.1.8 in /usr/local/lib/python3.6/dist-packages (from tensorflow==2.2) (0.2.0)\n",
            "Collecting tensorflow-estimator<2.3.0,>=2.2.0\n",
            "\u001b[?25l  Downloading https://files.pythonhosted.org/packages/a4/f5/926ae53d6a226ec0fda5208e0e581cffed895ccc89e36ba76a8e60895b78/tensorflow_estimator-2.2.0-py2.py3-none-any.whl (454kB)\n",
            "\u001b[K     |████████████████████████████████| 460kB 44.4MB/s \n",
            "\u001b[?25hRequirement already satisfied: protobuf>=3.8.0 in /usr/local/lib/python3.6/dist-packages (from tensorflow==2.2) (3.12.4)\n",
            "Requirement already satisfied: grpcio>=1.8.6 in /usr/local/lib/python3.6/dist-packages (from tensorflow==2.2) (1.32.0)\n",
            "Requirement already satisfied: scipy==1.4.1; python_version >= \"3\" in /usr/local/lib/python3.6/dist-packages (from tensorflow==2.2) (1.4.1)\n",
            "Requirement already satisfied: astunparse==1.6.3 in /usr/local/lib/python3.6/dist-packages (from tensorflow==2.2) (1.6.3)\n",
            "Requirement already satisfied: opt-einsum>=2.3.2 in /usr/local/lib/python3.6/dist-packages (from tensorflow==2.2) (3.3.0)\n",
            "Requirement already satisfied: absl-py>=0.7.0 in /usr/local/lib/python3.6/dist-packages (from tensorflow==2.2) (0.10.0)\n",
            "Requirement already satisfied: google-auth<2,>=1.6.3 in /usr/local/lib/python3.6/dist-packages (from tensorboard<2.3.0,>=2.2.0->tensorflow==2.2) (1.17.2)\n",
            "Requirement already satisfied: markdown>=2.6.8 in /usr/local/lib/python3.6/dist-packages (from tensorboard<2.3.0,>=2.2.0->tensorflow==2.2) (3.3.3)\n",
            "Requirement already satisfied: setuptools>=41.0.0 in /usr/local/lib/python3.6/dist-packages (from tensorboard<2.3.0,>=2.2.0->tensorflow==2.2) (51.1.1)\n",
            "Requirement already satisfied: tensorboard-plugin-wit>=1.6.0 in /usr/local/lib/python3.6/dist-packages (from tensorboard<2.3.0,>=2.2.0->tensorflow==2.2) (1.7.0)\n",
            "Requirement already satisfied: google-auth-oauthlib<0.5,>=0.4.1 in /usr/local/lib/python3.6/dist-packages (from tensorboard<2.3.0,>=2.2.0->tensorflow==2.2) (0.4.2)\n",
            "Requirement already satisfied: requests<3,>=2.21.0 in /usr/local/lib/python3.6/dist-packages (from tensorboard<2.3.0,>=2.2.0->tensorflow==2.2) (2.23.0)\n",
            "Requirement already satisfied: werkzeug>=0.11.15 in /usr/local/lib/python3.6/dist-packages (from tensorboard<2.3.0,>=2.2.0->tensorflow==2.2) (1.0.1)\n",
            "Requirement already satisfied: rsa<5,>=3.1.4; python_version >= \"3\" in /usr/local/lib/python3.6/dist-packages (from google-auth<2,>=1.6.3->tensorboard<2.3.0,>=2.2.0->tensorflow==2.2) (4.6)\n",
            "Requirement already satisfied: cachetools<5.0,>=2.0.0 in /usr/local/lib/python3.6/dist-packages (from google-auth<2,>=1.6.3->tensorboard<2.3.0,>=2.2.0->tensorflow==2.2) (4.2.0)\n",
            "Requirement already satisfied: pyasn1-modules>=0.2.1 in /usr/local/lib/python3.6/dist-packages (from google-auth<2,>=1.6.3->tensorboard<2.3.0,>=2.2.0->tensorflow==2.2) (0.2.8)\n",
            "Requirement already satisfied: importlib-metadata; python_version < \"3.8\" in /usr/local/lib/python3.6/dist-packages (from markdown>=2.6.8->tensorboard<2.3.0,>=2.2.0->tensorflow==2.2) (3.3.0)\n",
            "Requirement already satisfied: requests-oauthlib>=0.7.0 in /usr/local/lib/python3.6/dist-packages (from google-auth-oauthlib<0.5,>=0.4.1->tensorboard<2.3.0,>=2.2.0->tensorflow==2.2) (1.3.0)\n",
            "Requirement already satisfied: urllib3!=1.25.0,!=1.25.1,<1.26,>=1.21.1 in /usr/local/lib/python3.6/dist-packages (from requests<3,>=2.21.0->tensorboard<2.3.0,>=2.2.0->tensorflow==2.2) (1.24.3)\n",
            "Requirement already satisfied: certifi>=2017.4.17 in /usr/local/lib/python3.6/dist-packages (from requests<3,>=2.21.0->tensorboard<2.3.0,>=2.2.0->tensorflow==2.2) (2020.12.5)\n",
            "Requirement already satisfied: idna<3,>=2.5 in /usr/local/lib/python3.6/dist-packages (from requests<3,>=2.21.0->tensorboard<2.3.0,>=2.2.0->tensorflow==2.2) (2.10)\n",
            "Requirement already satisfied: chardet<4,>=3.0.2 in /usr/local/lib/python3.6/dist-packages (from requests<3,>=2.21.0->tensorboard<2.3.0,>=2.2.0->tensorflow==2.2) (3.0.4)\n",
            "Requirement already satisfied: pyasn1>=0.1.3 in /usr/local/lib/python3.6/dist-packages (from rsa<5,>=3.1.4; python_version >= \"3\"->google-auth<2,>=1.6.3->tensorboard<2.3.0,>=2.2.0->tensorflow==2.2) (0.4.8)\n",
            "Requirement already satisfied: zipp>=0.5 in /usr/local/lib/python3.6/dist-packages (from importlib-metadata; python_version < \"3.8\"->markdown>=2.6.8->tensorboard<2.3.0,>=2.2.0->tensorflow==2.2) (3.4.0)\n",
            "Requirement already satisfied: typing-extensions>=3.6.4; python_version < \"3.8\" in /usr/local/lib/python3.6/dist-packages (from importlib-metadata; python_version < \"3.8\"->markdown>=2.6.8->tensorboard<2.3.0,>=2.2.0->tensorflow==2.2) (3.7.4.3)\n",
            "Requirement already satisfied: oauthlib>=3.0.0 in /usr/local/lib/python3.6/dist-packages (from requests-oauthlib>=0.7.0->google-auth-oauthlib<0.5,>=0.4.1->tensorboard<2.3.0,>=2.2.0->tensorflow==2.2) (3.1.0)\n",
            "Installing collected packages: tensorboard, tensorflow-estimator, tensorflow\n",
            "  Found existing installation: tensorboard 2.4.0\n",
            "    Uninstalling tensorboard-2.4.0:\n",
            "      Successfully uninstalled tensorboard-2.4.0\n",
            "  Found existing installation: tensorflow-estimator 2.4.0\n",
            "    Uninstalling tensorflow-estimator-2.4.0:\n",
            "      Successfully uninstalled tensorflow-estimator-2.4.0\n",
            "Successfully installed tensorboard-2.2.2 tensorflow-2.2.0 tensorflow-estimator-2.2.0\n",
            "downgrading keras\n",
            "Uninstalling Keras-2.4.3:\n",
            "  Successfully uninstalled Keras-2.4.3\n",
            "Collecting keras==2.3.1\n",
            "\u001b[?25l  Downloading https://files.pythonhosted.org/packages/ad/fd/6bfe87920d7f4fd475acd28500a42482b6b84479832bdc0fe9e589a60ceb/Keras-2.3.1-py2.py3-none-any.whl (377kB)\n",
            "\u001b[K     |████████████████████████████████| 378kB 14.5MB/s \n",
            "\u001b[?25hRequirement already satisfied: h5py in /usr/local/lib/python3.6/dist-packages (from keras==2.3.1) (2.10.0)\n",
            "Requirement already satisfied: numpy>=1.9.1 in /usr/local/lib/python3.6/dist-packages (from keras==2.3.1) (1.19.5)\n",
            "Collecting keras-applications>=1.0.6\n",
            "\u001b[?25l  Downloading https://files.pythonhosted.org/packages/71/e3/19762fdfc62877ae9102edf6342d71b28fbfd9dea3d2f96a882ce099b03f/Keras_Applications-1.0.8-py3-none-any.whl (50kB)\n",
            "\u001b[K     |████████████████████████████████| 51kB 6.4MB/s \n",
            "\u001b[?25hRequirement already satisfied: keras-preprocessing>=1.0.5 in /usr/local/lib/python3.6/dist-packages (from keras==2.3.1) (1.1.2)\n",
            "Requirement already satisfied: six>=1.9.0 in /usr/local/lib/python3.6/dist-packages (from keras==2.3.1) (1.15.0)\n",
            "Requirement already satisfied: pyyaml in /usr/local/lib/python3.6/dist-packages (from keras==2.3.1) (3.13)\n",
            "Requirement already satisfied: scipy>=0.14 in /usr/local/lib/python3.6/dist-packages (from keras==2.3.1) (1.4.1)\n",
            "Installing collected packages: keras-applications, keras\n",
            "Successfully installed keras-2.3.1 keras-applications-1.0.8\n"
          ],
          "name": "stdout"
        }
      ]
    },
    {
      "cell_type": "code",
      "metadata": {
        "id": "wptY0CkYlB9M",
        "colab": {
          "base_uri": "https://localhost:8080/"
        },
        "outputId": "c7dee23d-d6f8-40d8-8b51-8281c42dbc1a"
      },
      "source": [
        "import numpy as np\r\n",
        "from numpy import array\r\n",
        "import pandas as pd\r\n",
        "import matplotlib.pyplot as plt \r\n",
        "import string\r\n",
        "import os\r\n",
        "from PIL import Image\r\n",
        "import glob\r\n",
        "from pickle import dump, load\r\n",
        "from tqdm import tqdm_notebook as tqdm\r\n",
        "from keras.preprocessing import sequence\r\n",
        "from keras.models import load_model\r\n",
        "from keras.layers import Embedding, Reshape\r\n",
        "from keras.layers.merge import add\r\n",
        "from keras.preprocessing import image\r\n",
        "from keras.models import Model\r\n",
        "from keras.preprocessing.text import Tokenizer\r\n",
        "from keras.preprocessing.sequence import pad_sequences\r\n",
        "\r\n",
        "try:\r\n",
        "    import dill as pickle\r\n",
        "except ImportError:\r\n",
        "    import pickle"
      ],
      "execution_count": null,
      "outputs": [
        {
          "output_type": "stream",
          "text": [
            "Using TensorFlow backend.\n"
          ],
          "name": "stderr"
        }
      ]
    },
    {
      "cell_type": "code",
      "metadata": {
        "colab": {
          "base_uri": "https://localhost:8080/"
        },
        "id": "UQeazqvDlGBi",
        "outputId": "5a193450-2bdb-4058-8203-d513f94aeefc"
      },
      "source": [
        "from google.colab import drive\r\n",
        "drive.mount('/content/drive')"
      ],
      "execution_count": null,
      "outputs": [
        {
          "output_type": "stream",
          "text": [
            "Mounted at /content/drive\n"
          ],
          "name": "stdout"
        }
      ]
    },
    {
      "cell_type": "code",
      "metadata": {
        "id": "P1VfrXFllHl0"
      },
      "source": [
        "# load doc into memory\r\n",
        "def load_doc(filename): \r\n",
        "    file = open(filename, 'r') \r\n",
        "    text = file.read() \r\n",
        "    file.close()\r\n",
        "    return text\r\n",
        "\r\n",
        "base_dir = \"/content/drive/My Drive/IK/\"\r\n",
        "dataset_dir = \"/content/drive/My Drive/\"\r\n",
        "descriptions_filename = dataset_dir + \"Flickr8k_text/Flickr8k.token.txt\"\r\n",
        "# load descriptions\r\n",
        "descriptions_doc = load_doc(descriptions_filename)"
      ],
      "execution_count": null,
      "outputs": []
    },
    {
      "cell_type": "code",
      "metadata": {
        "id": "OpnPcGCAlKxw",
        "colab": {
          "base_uri": "https://localhost:8080/"
        },
        "outputId": "987ec677-1c9d-4801-835f-8d878750ec10"
      },
      "source": [
        "def load_descriptions(doc):\r\n",
        "    mapping = dict()\r\n",
        "    \r\n",
        "    for line in doc.split('\\n'):\r\n",
        "        \r\n",
        "        if len(line) < 2:\r\n",
        "            continue\r\n",
        "        tokens = line.split()\r\n",
        "        \r\n",
        "        image_id, image_desc = tokens[0], tokens[1:]\r\n",
        "        \r\n",
        "        image_id = image_id.split('.')[0]\r\n",
        "        \r\n",
        "        image_desc = ' '.join(image_desc)\r\n",
        "        \r\n",
        "        if image_id not in mapping:\r\n",
        "            mapping[image_id] = list()\r\n",
        "        \r\n",
        "        mapping[image_id].append(image_desc)\r\n",
        "    return mapping\r\n",
        "\r\n",
        "descriptions = load_descriptions(descriptions_doc)\r\n",
        "print('Loaded: %d ' % len(descriptions))"
      ],
      "execution_count": null,
      "outputs": [
        {
          "output_type": "stream",
          "text": [
            "Loaded: 8092 \n"
          ],
          "name": "stdout"
        }
      ]
    },
    {
      "cell_type": "code",
      "metadata": {
        "id": "IVw9aSp5lPJk"
      },
      "source": [
        "from nltk.tokenize import RegexpTokenizer\r\n",
        "tokenizer = RegexpTokenizer(r'\\w+')\r\n",
        "\r\n",
        "def clean_descriptions(descriptions):\r\n",
        "    table = str.maketrans('', '', string.punctuation)\r\n",
        "    for key, desc_list in descriptions.items():\r\n",
        "        for i in range(len(desc_list)):\r\n",
        "            desc = desc_list[i]\r\n",
        "            \r\n",
        "            # create tokens from sentence\r\n",
        "            desc = tokenizer.tokenize(desc)\r\n",
        "            \r\n",
        "            # make tokens lowercase\r\n",
        "            desc = [word.lower() for word in desc]\r\n",
        "            \r\n",
        "            # filter one letter tokens\r\n",
        "            desc = [word for word in desc if len(word)>1]\r\n",
        "            \r\n",
        "            # merge into one string\r\n",
        "            desc_list[i] =  ' '.join(desc)\r\n",
        "\r\n",
        "clean_descriptions(descriptions)"
      ],
      "execution_count": null,
      "outputs": []
    },
    {
      "cell_type": "code",
      "metadata": {
        "colab": {
          "base_uri": "https://localhost:8080/"
        },
        "id": "1l_xdKqynKdJ",
        "outputId": "67874705-c0b5-4eea-b226-caa34d43602d"
      },
      "source": [
        "# convert the loaded descriptions into a vocabulary of words\r\n",
        "def getVocabulary(descriptions):\r\n",
        "    # build a list of all description strings\r\n",
        "    all_desc = set()\r\n",
        "    for key in descriptions.keys():\r\n",
        "        [all_desc.update(tokenizer.tokenize(d)) for d in descriptions[key]]\r\n",
        "    return all_desc\r\n",
        "\r\n",
        "# summarize vocabulary\r\n",
        "vocabulary = getVocabulary(descriptions)\r\n",
        "print('Original Vocabulary Size: %d' % len(vocabulary))"
      ],
      "execution_count": null,
      "outputs": [
        {
          "output_type": "stream",
          "text": [
            "Original Vocabulary Size: 8464\n"
          ],
          "name": "stdout"
        }
      ]
    },
    {
      "cell_type": "code",
      "metadata": {
        "colab": {
          "base_uri": "https://localhost:8080/"
        },
        "id": "4B74xlUrt2vU",
        "outputId": "a554c409-c25a-4e0d-f69f-02ff9a27e454"
      },
      "source": [
        "def load_set(filename):\r\n",
        "    doc = load_doc(filename)\r\n",
        "    dataset = list()\r\n",
        "    \r\n",
        "    for line in doc.split('\\n'):\r\n",
        "        \r\n",
        "        if len(line) < 1:\r\n",
        "            continue\r\n",
        " \r\n",
        "        dataset.append(line)\r\n",
        "    return (dataset)\r\n",
        " \r\n",
        "filename = dataset_dir + 'Flickr8k_text/Flickr_8k.trainImages.txt'\r\n",
        "train_names = load_set(filename)\r\n",
        "print('Train size: %d' % len(train_names))\r\n",
        "\r\n",
        "Directroy_path = dataset_dir + 'Flickr8k_Dataset/Flicker8k_Dataset/'\r\n",
        "train_img= [Directroy_path+i  for i in train_names]"
      ],
      "execution_count": null,
      "outputs": [
        {
          "output_type": "stream",
          "text": [
            "Train size: 6000\n"
          ],
          "name": "stdout"
        }
      ]
    },
    {
      "cell_type": "code",
      "metadata": {
        "colab": {
          "base_uri": "https://localhost:8080/"
        },
        "id": "0FxRJ9fnuNHj",
        "outputId": "6fe7e3a6-9e99-4391-8374-aafab2c874c5"
      },
      "source": [
        "# Loading test data, \r\n",
        "def load_set(filename):\r\n",
        "    doc = load_doc(filename)\r\n",
        "    dataset = list()\r\n",
        "    \r\n",
        "    for line in doc.split('\\n'):\r\n",
        "        \r\n",
        "        if len(line) < 1:\r\n",
        "            continue\r\n",
        " \r\n",
        "        dataset.append(line)\r\n",
        "    return (dataset)\r\n",
        " \r\n",
        "filename = dataset_dir + 'Flickr8k_text/Flickr_8k.testImages.txt'\r\n",
        "test_names = load_set(filename)\r\n",
        "print('Test Size: %d' % len(test_names))\r\n",
        "\r\n",
        "Directroy_path = dataset_dir + 'Flickr8k_Dataset/Flicker8k_Dataset/'\r\n",
        "test_img= [Directroy_path+i  for i in test_names]"
      ],
      "execution_count": null,
      "outputs": [
        {
          "output_type": "stream",
          "text": [
            "Test Size: 1000\n"
          ],
          "name": "stdout"
        }
      ]
    },
    {
      "cell_type": "code",
      "metadata": {
        "colab": {
          "base_uri": "https://localhost:8080/"
        },
        "id": "B408nOeQuPBu",
        "outputId": "835a77a9-0960-4d83-bb0f-d4eefb29d172"
      },
      "source": [
        "# we r extracting train data captions such that, each captions starts with 'startseq' and ends with 'endseq\r\n",
        "def load_clean_descriptions(filename, dataset):\r\n",
        "    # load document\r\n",
        "    dataset = [i.split('.')[0] for i in dataset]\r\n",
        "    doc = load_doc(filename)\r\n",
        "    descriptions = dict()\r\n",
        "    for line in doc.split('\\n'):\r\n",
        "        \r\n",
        "        tokens = line.split()\r\n",
        "        \r\n",
        "        image_id, image_desc = tokens[0], tokens[1:]\r\n",
        "        \r\n",
        "        if image_id in dataset:\r\n",
        "            \r\n",
        "            if image_id not in descriptions:\r\n",
        "                descriptions[image_id] = list()\r\n",
        "            \r\n",
        "            desc = 'startseq ' + ' '.join(image_desc) + ' endseq'\r\n",
        "            \r\n",
        "            descriptions[image_id].append(desc)\r\n",
        "    return descriptions\r\n",
        "\r\n",
        "# descriptions\r\n",
        "train_descriptions = load_clean_descriptions(base_dir + 'descriptions.txt', train_names)\r\n",
        "print('Descriptions: train=%d' % len(train_descriptions))\r\n",
        "\r\n",
        "test_descriptions = load_clean_descriptions(base_dir + 'descriptions.txt', test_names)\r\n",
        "print('Descriptions: test=%d' % len(test_descriptions))"
      ],
      "execution_count": null,
      "outputs": [
        {
          "output_type": "stream",
          "text": [
            "Descriptions: train=6000\n",
            "Descriptions: test=1000\n"
          ],
          "name": "stdout"
        }
      ]
    },
    {
      "cell_type": "code",
      "metadata": {
        "colab": {
          "base_uri": "https://localhost:8080/"
        },
        "id": "TWRZiP3PujsI",
        "outputId": "97d07875-8797-4bb3-b860-3fb03878010f"
      },
      "source": [
        "# Loading Image Features\r\n",
        "train_features = load(open(base_dir + \"encoded_train_images.pkl\", \"rb\"))\r\n",
        "print('Photos: train=%d' % len(train_features))\r\n",
        "# Loading Image Features\r\n",
        "test_features = load(open(base_dir + \"encoded_test_images.pkl\", \"rb\"))\r\n",
        "print('Photos: test=%d' % len(test_features))\r\n",
        "# Load Train Descriptions, which contains, 5 captions corresponding to a key\r\n",
        "train_descriptions = load(open(base_dir + \"train_descriptions.pkl\", \"rb\"))\r\n",
        "print('Photos: train=%d' % len(train_descriptions))\r\n",
        "test_descriptions = load(open(base_dir + \"test_descriptions.pkl\", \"rb\"))\r\n",
        "print('Photos: test=%d' % len(test_descriptions))"
      ],
      "execution_count": null,
      "outputs": [
        {
          "output_type": "stream",
          "text": [
            "Photos: train=6000\n",
            "Photos: test=1000\n",
            "Photos: train=6000\n",
            "Photos: test=1000\n"
          ],
          "name": "stdout"
        }
      ]
    },
    {
      "cell_type": "code",
      "metadata": {
        "colab": {
          "base_uri": "https://localhost:8080/"
        },
        "id": "utX5x4X1xUv_",
        "outputId": "66e91d75-021e-46f5-b81f-c4e80c0463f7"
      },
      "source": [
        "# Create a list of all the training captions\r\n",
        "train_captions = []\r\n",
        "for key, val in train_descriptions.items():\r\n",
        "    for cap in val:\r\n",
        "        train_captions.append(cap)\r\n",
        "len(train_captions)"
      ],
      "execution_count": null,
      "outputs": [
        {
          "output_type": "execute_result",
          "data": {
            "text/plain": [
              "30000"
            ]
          },
          "metadata": {
            "tags": []
          },
          "execution_count": 12
        }
      ]
    },
    {
      "cell_type": "code",
      "metadata": {
        "colab": {
          "base_uri": "https://localhost:8080/"
        },
        "id": "6Ep9GlHlxRfo",
        "outputId": "a3d35647-60e2-487f-8afe-6473c4dc16a5"
      },
      "source": [
        "threshold = 7\r\n",
        "word_counts = {}\r\n",
        "nsents = 0\r\n",
        "for sent in train_captions:\r\n",
        "    nsents += 1\r\n",
        "    for w in sent.split(' '):\r\n",
        "        if w not in word_counts:\r\n",
        "            word_counts[w] = 0\r\n",
        "        word_counts[w] += 1\r\n",
        "\r\n",
        "vocab = [w for w in word_counts if word_counts[w] >= threshold]\r\n",
        "print('preprocessed words %d -> %d' % (len(word_counts), len(vocab)))"
      ],
      "execution_count": null,
      "outputs": [
        {
          "output_type": "stream",
          "text": [
            "preprocessed words 7350 -> 2063\n"
          ],
          "name": "stdout"
        }
      ]
    },
    {
      "cell_type": "code",
      "metadata": {
        "colab": {
          "base_uri": "https://localhost:8080/"
        },
        "id": "MRwZYcTjxNVI",
        "outputId": "0741fca6-6e50-4a5a-e529-14a65132f2c0"
      },
      "source": [
        "ixtoword = {}\r\n",
        "wordtoix = {}\r\n",
        "\r\n",
        "ix = 1\r\n",
        "for w in vocab:\r\n",
        "    wordtoix[w] = ix\r\n",
        "    ixtoword[ix] = w\r\n",
        "    ix += 1\r\n",
        "\r\n",
        "vocab_size = len(ixtoword) + 1 # one for appended 0's\r\n",
        "vocab_size"
      ],
      "execution_count": null,
      "outputs": [
        {
          "output_type": "execute_result",
          "data": {
            "text/plain": [
              "2064"
            ]
          },
          "metadata": {
            "tags": []
          },
          "execution_count": 14
        }
      ]
    },
    {
      "cell_type": "code",
      "metadata": {
        "colab": {
          "base_uri": "https://localhost:8080/",
          "height": 142,
          "referenced_widgets": [
            "d662b2e29e964fd8b1d89a40cbbc0be8",
            "aecbd2b7653a4d7ca8b9f20c696ebf04",
            "f450f06dc50547dbb2e8ab8b1bf502da",
            "9514d5adf32c4984a6c5b1c9161845bf",
            "db950aa906174713a0ceafd88b517668",
            "163091ead9f746cabdb171ca6bb969d3",
            "e3e7538f67244dfca469f878ae4f953a",
            "94db1d72334844cd9634647996ade2b3"
          ]
        },
        "id": "kp8_-MgcxdZr",
        "outputId": "f58c2218-d710-4ede-e94c-a5b3ef142d99"
      },
      "source": [
        "# Load Glove vectors, which contains vectors(200 Dimension) corresponding to words. \r\n",
        "glove_dir = '/content/drive/My Drive/'\r\n",
        "embeddings_index = {}\r\n",
        "f = open(os.path.join(glove_dir, 'Kopia glove.6B.200d.txt'), encoding=\"utf-8\")\r\n",
        "\r\n",
        "for line in tqdm(f):\r\n",
        "    values = line.split()\r\n",
        "    word = values[0]\r\n",
        "    coefs = np.asarray(values[1:], dtype='float32')\r\n",
        "    embeddings_index[word] = coefs\r\n",
        "f.close()\r\n",
        "print('Found %s word vectors.' % len(embeddings_index))"
      ],
      "execution_count": null,
      "outputs": [
        {
          "output_type": "stream",
          "text": [
            "/usr/local/lib/python3.6/dist-packages/ipykernel_launcher.py:6: TqdmDeprecationWarning: This function will be removed in tqdm==5.0.0\n",
            "Please use `tqdm.notebook.tqdm` instead of `tqdm.tqdm_notebook`\n",
            "  \n"
          ],
          "name": "stderr"
        },
        {
          "output_type": "display_data",
          "data": {
            "application/vnd.jupyter.widget-view+json": {
              "model_id": "d662b2e29e964fd8b1d89a40cbbc0be8",
              "version_minor": 0,
              "version_major": 2
            },
            "text/plain": [
              "HBox(children=(FloatProgress(value=1.0, bar_style='info', max=1.0), HTML(value='')))"
            ]
          },
          "metadata": {
            "tags": []
          }
        },
        {
          "output_type": "stream",
          "text": [
            "\n",
            "Found 400000 word vectors.\n"
          ],
          "name": "stdout"
        }
      ]
    },
    {
      "cell_type": "code",
      "metadata": {
        "colab": {
          "base_uri": "https://localhost:8080/",
          "height": 123,
          "referenced_widgets": [
            "a76b830ce30642ad8ae2db61c9b9f409",
            "5befd956cf9845bebf6f3e0e7b636bb1",
            "505e90e6d4eb4d5899b5cd4c90f22353",
            "373766cc8ccb40b89fcb75f9a802e02a",
            "397f9eb7f90f4c13ab9e32250b5edb8d",
            "8be74be4f9cb47a2a4f94bb168806575",
            "c129b50090a148018886c799bb47f2dd",
            "7b6810918145444cad34c3e55b8a0f3c"
          ]
        },
        "id": "DFMSRfovxHEP",
        "outputId": "370985f3-a9e4-4228-f8af-978308070b4b"
      },
      "source": [
        "embedding_dim = 200\r\n",
        "\r\n",
        "embedding_matrix = np.zeros((vocab_size, embedding_dim))\r\n",
        "\r\n",
        "for word, i in tqdm(wordtoix.items()):\r\n",
        "    if word in embeddings_index:\r\n",
        "        embedding_vector = embeddings_index[word]\r\n",
        "        embedding_matrix[i] = embedding_vector"
      ],
      "execution_count": null,
      "outputs": [
        {
          "output_type": "stream",
          "text": [
            "/usr/local/lib/python3.6/dist-packages/ipykernel_launcher.py:5: TqdmDeprecationWarning: This function will be removed in tqdm==5.0.0\n",
            "Please use `tqdm.notebook.tqdm` instead of `tqdm.tqdm_notebook`\n",
            "  \"\"\"\n"
          ],
          "name": "stderr"
        },
        {
          "output_type": "display_data",
          "data": {
            "application/vnd.jupyter.widget-view+json": {
              "model_id": "a76b830ce30642ad8ae2db61c9b9f409",
              "version_minor": 0,
              "version_major": 2
            },
            "text/plain": [
              "HBox(children=(FloatProgress(value=0.0, max=2063.0), HTML(value='')))"
            ]
          },
          "metadata": {
            "tags": []
          }
        },
        {
          "output_type": "stream",
          "text": [
            "\n"
          ],
          "name": "stdout"
        }
      ]
    },
    {
      "cell_type": "code",
      "metadata": {
        "id": "yjpieQdivKIv"
      },
      "source": [
        "with open(base_dir + 'Embedding_Matrix.pkl', 'wb') as embedding_pickle:\r\n",
        "    pickle.dump(embedding_matrix, embedding_pickle)"
      ],
      "execution_count": null,
      "outputs": []
    },
    {
      "cell_type": "code",
      "metadata": {
        "id": "m38eDWjbvLiG"
      },
      "source": [
        "with open(base_dir + 'wordtoix.pkl', 'wb') as wti_pickle:\r\n",
        "    pickle.dump(wordtoix, wti_pickle)"
      ],
      "execution_count": null,
      "outputs": []
    },
    {
      "cell_type": "code",
      "metadata": {
        "colab": {
          "base_uri": "https://localhost:8080/"
        },
        "id": "hPg4m5ghvL0X",
        "outputId": "be31f9a3-f0e8-4ca7-b793-ed074a0c38fd"
      },
      "source": [
        "# Loading Image Features\r\n",
        "train_features = load(open(base_dir + \"encoded_train_images.pkl\", \"rb\"))\r\n",
        "print('Photos: train=%d' % len(train_features))"
      ],
      "execution_count": null,
      "outputs": [
        {
          "output_type": "stream",
          "text": [
            "Photos: train=6000\n"
          ],
          "name": "stdout"
        }
      ]
    },
    {
      "cell_type": "code",
      "metadata": {
        "colab": {
          "base_uri": "https://localhost:8080/"
        },
        "id": "QVJ6y5OkvP9W",
        "outputId": "f4a9b748-4d98-44a9-c7fa-bcc94fa15e4c"
      },
      "source": [
        "# Loading embedding_matrix\r\n",
        "embedding_matrix = load(open(base_dir + \"Embedding_Matrix.pkl\", \"rb\"))\r\n",
        "print('Embedding Matrix shape = (%d, %d)' % (embedding_matrix.shape))"
      ],
      "execution_count": null,
      "outputs": [
        {
          "output_type": "stream",
          "text": [
            "Embedding Matrix shape = (2064, 200)\n"
          ],
          "name": "stdout"
        }
      ]
    },
    {
      "cell_type": "code",
      "metadata": {
        "colab": {
          "base_uri": "https://localhost:8080/"
        },
        "id": "UynoOL6hvRke",
        "outputId": "6373720a-7ed4-4810-db50-0c6845eb2121"
      },
      "source": [
        "# Loading wordtoix\r\n",
        "wordtoix = load(open(base_dir + \"wordtoix.pkl\", \"rb\"))\r\n",
        "print('Wordtoix Length = %d' % len(wordtoix))"
      ],
      "execution_count": null,
      "outputs": [
        {
          "output_type": "stream",
          "text": [
            "Wordtoix Length = 2063\n"
          ],
          "name": "stdout"
        }
      ]
    },
    {
      "cell_type": "code",
      "metadata": {
        "id": "YL9BRxRevS-i"
      },
      "source": [
        "model = load_model(base_dir + 'model_39.h5')"
      ],
      "execution_count": null,
      "outputs": []
    },
    {
      "cell_type": "code",
      "metadata": {
        "id": "Ok_nLeUvvbVe"
      },
      "source": [
        "with open(base_dir + \"encoded_test_images.pkl\", \"rb\") as encoded_pickle:\r\n",
        "    encoding_test = load(encoded_pickle)"
      ],
      "execution_count": null,
      "outputs": []
    },
    {
      "cell_type": "code",
      "metadata": {
        "id": "cEAOycTh9jJd"
      },
      "source": [
        "with open(base_dir + \"encoded_train_images.pkl\", \"rb\") as encoded_pickle:\r\n",
        "    encoding_train = load(encoded_pickle)"
      ],
      "execution_count": null,
      "outputs": []
    },
    {
      "cell_type": "code",
      "metadata": {
        "id": "TJ5lV7TxvgFi"
      },
      "source": [
        "ixtoword = {}\r\n",
        "for word, i in wordtoix.items():\r\n",
        "    ixtoword[i] = word"
      ],
      "execution_count": null,
      "outputs": []
    },
    {
      "cell_type": "code",
      "metadata": {
        "id": "5Jafp1dgviNH"
      },
      "source": [
        "Directory_path = dataset_dir + 'Flickr8k_Dataset/Flicker8k_Dataset/'"
      ],
      "execution_count": null,
      "outputs": []
    },
    {
      "cell_type": "code",
      "metadata": {
        "id": "DPZuKkk2vkWu"
      },
      "source": [
        "def greedySearch(photo):\r\n",
        "    in_text = 'startseq'\r\n",
        "    for i in range(max_length):\r\n",
        "        sequence = [wordtoix[w] for w in in_text.split() if w in wordtoix]\r\n",
        "        sequence = pad_sequences([sequence], maxlen=max_length)\r\n",
        "        yhat = model.predict([photo,sequence], verbose=0)\r\n",
        "        yhat = np.argmax(yhat)\r\n",
        "        word = ixtoword[yhat]\r\n",
        "        in_text += ' ' + word\r\n",
        "        if word == 'endseq':\r\n",
        "            break\r\n",
        "    final = in_text.split()\r\n",
        "    final = final[1:-1]\r\n",
        "    final = ' '.join(final)\r\n",
        "    return final"
      ],
      "execution_count": null,
      "outputs": []
    },
    {
      "cell_type": "code",
      "metadata": {
        "id": "alwHc9arvl6X"
      },
      "source": [
        "max_length = 35"
      ],
      "execution_count": null,
      "outputs": []
    },
    {
      "cell_type": "code",
      "metadata": {
        "colab": {
          "base_uri": "https://localhost:8080/"
        },
        "id": "QCgfoUhIRfVx",
        "outputId": "b7b4f724-ad42-47e0-e08f-28f645539e6e"
      },
      "source": [
        "import nltk\r\n",
        "nltk.download('all')\r\n",
        "from nltk.stem import PorterStemmer\r\n",
        "from nltk.stem import LancasterStemmer\r\n",
        "from nltk.stem.wordnet import WordNetLemmatizer"
      ],
      "execution_count": null,
      "outputs": [
        {
          "output_type": "stream",
          "text": [
            "[nltk_data] Downloading collection 'all'\n",
            "[nltk_data]    | \n",
            "[nltk_data]    | Downloading package abc to /root/nltk_data...\n",
            "[nltk_data]    |   Unzipping corpora/abc.zip.\n",
            "[nltk_data]    | Downloading package alpino to /root/nltk_data...\n",
            "[nltk_data]    |   Unzipping corpora/alpino.zip.\n",
            "[nltk_data]    | Downloading package biocreative_ppi to\n",
            "[nltk_data]    |     /root/nltk_data...\n",
            "[nltk_data]    |   Unzipping corpora/biocreative_ppi.zip.\n",
            "[nltk_data]    | Downloading package brown to /root/nltk_data...\n",
            "[nltk_data]    |   Unzipping corpora/brown.zip.\n",
            "[nltk_data]    | Downloading package brown_tei to /root/nltk_data...\n",
            "[nltk_data]    |   Unzipping corpora/brown_tei.zip.\n",
            "[nltk_data]    | Downloading package cess_cat to /root/nltk_data...\n",
            "[nltk_data]    |   Unzipping corpora/cess_cat.zip.\n",
            "[nltk_data]    | Downloading package cess_esp to /root/nltk_data...\n",
            "[nltk_data]    |   Unzipping corpora/cess_esp.zip.\n",
            "[nltk_data]    | Downloading package chat80 to /root/nltk_data...\n",
            "[nltk_data]    |   Unzipping corpora/chat80.zip.\n",
            "[nltk_data]    | Downloading package city_database to\n",
            "[nltk_data]    |     /root/nltk_data...\n",
            "[nltk_data]    |   Unzipping corpora/city_database.zip.\n",
            "[nltk_data]    | Downloading package cmudict to /root/nltk_data...\n",
            "[nltk_data]    |   Unzipping corpora/cmudict.zip.\n",
            "[nltk_data]    | Downloading package comparative_sentences to\n",
            "[nltk_data]    |     /root/nltk_data...\n",
            "[nltk_data]    |   Unzipping corpora/comparative_sentences.zip.\n",
            "[nltk_data]    | Downloading package comtrans to /root/nltk_data...\n",
            "[nltk_data]    | Downloading package conll2000 to /root/nltk_data...\n",
            "[nltk_data]    |   Unzipping corpora/conll2000.zip.\n",
            "[nltk_data]    | Downloading package conll2002 to /root/nltk_data...\n",
            "[nltk_data]    |   Unzipping corpora/conll2002.zip.\n",
            "[nltk_data]    | Downloading package conll2007 to /root/nltk_data...\n",
            "[nltk_data]    | Downloading package crubadan to /root/nltk_data...\n",
            "[nltk_data]    |   Unzipping corpora/crubadan.zip.\n",
            "[nltk_data]    | Downloading package dependency_treebank to\n",
            "[nltk_data]    |     /root/nltk_data...\n",
            "[nltk_data]    |   Unzipping corpora/dependency_treebank.zip.\n",
            "[nltk_data]    | Downloading package dolch to /root/nltk_data...\n",
            "[nltk_data]    |   Unzipping corpora/dolch.zip.\n",
            "[nltk_data]    | Downloading package europarl_raw to\n",
            "[nltk_data]    |     /root/nltk_data...\n",
            "[nltk_data]    |   Unzipping corpora/europarl_raw.zip.\n",
            "[nltk_data]    | Downloading package floresta to /root/nltk_data...\n",
            "[nltk_data]    |   Unzipping corpora/floresta.zip.\n",
            "[nltk_data]    | Downloading package framenet_v15 to\n",
            "[nltk_data]    |     /root/nltk_data...\n",
            "[nltk_data]    |   Unzipping corpora/framenet_v15.zip.\n",
            "[nltk_data]    | Downloading package framenet_v17 to\n",
            "[nltk_data]    |     /root/nltk_data...\n",
            "[nltk_data]    |   Unzipping corpora/framenet_v17.zip.\n",
            "[nltk_data]    | Downloading package gazetteers to /root/nltk_data...\n",
            "[nltk_data]    |   Unzipping corpora/gazetteers.zip.\n",
            "[nltk_data]    | Downloading package genesis to /root/nltk_data...\n",
            "[nltk_data]    |   Unzipping corpora/genesis.zip.\n",
            "[nltk_data]    | Downloading package gutenberg to /root/nltk_data...\n",
            "[nltk_data]    |   Unzipping corpora/gutenberg.zip.\n",
            "[nltk_data]    | Downloading package ieer to /root/nltk_data...\n",
            "[nltk_data]    |   Unzipping corpora/ieer.zip.\n",
            "[nltk_data]    | Downloading package inaugural to /root/nltk_data...\n",
            "[nltk_data]    |   Unzipping corpora/inaugural.zip.\n",
            "[nltk_data]    | Downloading package indian to /root/nltk_data...\n",
            "[nltk_data]    |   Unzipping corpora/indian.zip.\n",
            "[nltk_data]    | Downloading package jeita to /root/nltk_data...\n",
            "[nltk_data]    | Downloading package kimmo to /root/nltk_data...\n",
            "[nltk_data]    |   Unzipping corpora/kimmo.zip.\n",
            "[nltk_data]    | Downloading package knbc to /root/nltk_data...\n",
            "[nltk_data]    | Downloading package lin_thesaurus to\n",
            "[nltk_data]    |     /root/nltk_data...\n",
            "[nltk_data]    |   Unzipping corpora/lin_thesaurus.zip.\n",
            "[nltk_data]    | Downloading package mac_morpho to /root/nltk_data...\n",
            "[nltk_data]    |   Unzipping corpora/mac_morpho.zip.\n",
            "[nltk_data]    | Downloading package machado to /root/nltk_data...\n",
            "[nltk_data]    | Downloading package masc_tagged to /root/nltk_data...\n",
            "[nltk_data]    | Downloading package moses_sample to\n",
            "[nltk_data]    |     /root/nltk_data...\n",
            "[nltk_data]    |   Unzipping models/moses_sample.zip.\n",
            "[nltk_data]    | Downloading package movie_reviews to\n",
            "[nltk_data]    |     /root/nltk_data...\n",
            "[nltk_data]    |   Unzipping corpora/movie_reviews.zip.\n",
            "[nltk_data]    | Downloading package names to /root/nltk_data...\n",
            "[nltk_data]    |   Unzipping corpora/names.zip.\n",
            "[nltk_data]    | Downloading package nombank.1.0 to /root/nltk_data...\n",
            "[nltk_data]    | Downloading package nps_chat to /root/nltk_data...\n",
            "[nltk_data]    |   Unzipping corpora/nps_chat.zip.\n",
            "[nltk_data]    | Downloading package omw to /root/nltk_data...\n",
            "[nltk_data]    |   Unzipping corpora/omw.zip.\n",
            "[nltk_data]    | Downloading package opinion_lexicon to\n",
            "[nltk_data]    |     /root/nltk_data...\n",
            "[nltk_data]    |   Unzipping corpora/opinion_lexicon.zip.\n",
            "[nltk_data]    | Downloading package paradigms to /root/nltk_data...\n",
            "[nltk_data]    |   Unzipping corpora/paradigms.zip.\n",
            "[nltk_data]    | Downloading package pil to /root/nltk_data...\n",
            "[nltk_data]    |   Unzipping corpora/pil.zip.\n",
            "[nltk_data]    | Downloading package pl196x to /root/nltk_data...\n",
            "[nltk_data]    |   Unzipping corpora/pl196x.zip.\n",
            "[nltk_data]    | Downloading package ppattach to /root/nltk_data...\n",
            "[nltk_data]    |   Unzipping corpora/ppattach.zip.\n",
            "[nltk_data]    | Downloading package problem_reports to\n",
            "[nltk_data]    |     /root/nltk_data...\n",
            "[nltk_data]    |   Unzipping corpora/problem_reports.zip.\n",
            "[nltk_data]    | Downloading package propbank to /root/nltk_data...\n",
            "[nltk_data]    | Downloading package ptb to /root/nltk_data...\n",
            "[nltk_data]    |   Unzipping corpora/ptb.zip.\n",
            "[nltk_data]    | Downloading package product_reviews_1 to\n",
            "[nltk_data]    |     /root/nltk_data...\n",
            "[nltk_data]    |   Unzipping corpora/product_reviews_1.zip.\n",
            "[nltk_data]    | Downloading package product_reviews_2 to\n",
            "[nltk_data]    |     /root/nltk_data...\n",
            "[nltk_data]    |   Unzipping corpora/product_reviews_2.zip.\n",
            "[nltk_data]    | Downloading package pros_cons to /root/nltk_data...\n",
            "[nltk_data]    |   Unzipping corpora/pros_cons.zip.\n",
            "[nltk_data]    | Downloading package qc to /root/nltk_data...\n",
            "[nltk_data]    |   Unzipping corpora/qc.zip.\n",
            "[nltk_data]    | Downloading package reuters to /root/nltk_data...\n",
            "[nltk_data]    | Downloading package rte to /root/nltk_data...\n",
            "[nltk_data]    |   Unzipping corpora/rte.zip.\n",
            "[nltk_data]    | Downloading package semcor to /root/nltk_data...\n",
            "[nltk_data]    | Downloading package senseval to /root/nltk_data...\n",
            "[nltk_data]    |   Unzipping corpora/senseval.zip.\n",
            "[nltk_data]    | Downloading package sentiwordnet to\n",
            "[nltk_data]    |     /root/nltk_data...\n",
            "[nltk_data]    |   Unzipping corpora/sentiwordnet.zip.\n",
            "[nltk_data]    | Downloading package sentence_polarity to\n",
            "[nltk_data]    |     /root/nltk_data...\n",
            "[nltk_data]    |   Unzipping corpora/sentence_polarity.zip.\n",
            "[nltk_data]    | Downloading package shakespeare to /root/nltk_data...\n",
            "[nltk_data]    |   Unzipping corpora/shakespeare.zip.\n",
            "[nltk_data]    | Downloading package sinica_treebank to\n",
            "[nltk_data]    |     /root/nltk_data...\n",
            "[nltk_data]    |   Unzipping corpora/sinica_treebank.zip.\n",
            "[nltk_data]    | Downloading package smultron to /root/nltk_data...\n",
            "[nltk_data]    |   Unzipping corpora/smultron.zip.\n",
            "[nltk_data]    | Downloading package state_union to /root/nltk_data...\n",
            "[nltk_data]    |   Unzipping corpora/state_union.zip.\n",
            "[nltk_data]    | Downloading package stopwords to /root/nltk_data...\n",
            "[nltk_data]    |   Unzipping corpora/stopwords.zip.\n",
            "[nltk_data]    | Downloading package subjectivity to\n",
            "[nltk_data]    |     /root/nltk_data...\n",
            "[nltk_data]    |   Unzipping corpora/subjectivity.zip.\n",
            "[nltk_data]    | Downloading package swadesh to /root/nltk_data...\n",
            "[nltk_data]    |   Unzipping corpora/swadesh.zip.\n",
            "[nltk_data]    | Downloading package switchboard to /root/nltk_data...\n",
            "[nltk_data]    |   Unzipping corpora/switchboard.zip.\n",
            "[nltk_data]    | Downloading package timit to /root/nltk_data...\n",
            "[nltk_data]    |   Unzipping corpora/timit.zip.\n",
            "[nltk_data]    | Downloading package toolbox to /root/nltk_data...\n",
            "[nltk_data]    |   Unzipping corpora/toolbox.zip.\n",
            "[nltk_data]    | Downloading package treebank to /root/nltk_data...\n",
            "[nltk_data]    |   Unzipping corpora/treebank.zip.\n",
            "[nltk_data]    | Downloading package twitter_samples to\n",
            "[nltk_data]    |     /root/nltk_data...\n",
            "[nltk_data]    |   Unzipping corpora/twitter_samples.zip.\n",
            "[nltk_data]    | Downloading package udhr to /root/nltk_data...\n",
            "[nltk_data]    |   Unzipping corpora/udhr.zip.\n",
            "[nltk_data]    | Downloading package udhr2 to /root/nltk_data...\n",
            "[nltk_data]    |   Unzipping corpora/udhr2.zip.\n",
            "[nltk_data]    | Downloading package unicode_samples to\n",
            "[nltk_data]    |     /root/nltk_data...\n",
            "[nltk_data]    |   Unzipping corpora/unicode_samples.zip.\n",
            "[nltk_data]    | Downloading package universal_treebanks_v20 to\n",
            "[nltk_data]    |     /root/nltk_data...\n",
            "[nltk_data]    | Downloading package verbnet to /root/nltk_data...\n",
            "[nltk_data]    |   Unzipping corpora/verbnet.zip.\n",
            "[nltk_data]    | Downloading package verbnet3 to /root/nltk_data...\n",
            "[nltk_data]    |   Unzipping corpora/verbnet3.zip.\n",
            "[nltk_data]    | Downloading package webtext to /root/nltk_data...\n",
            "[nltk_data]    |   Unzipping corpora/webtext.zip.\n",
            "[nltk_data]    | Downloading package wordnet to /root/nltk_data...\n",
            "[nltk_data]    |   Unzipping corpora/wordnet.zip.\n",
            "[nltk_data]    | Downloading package wordnet_ic to /root/nltk_data...\n",
            "[nltk_data]    |   Unzipping corpora/wordnet_ic.zip.\n",
            "[nltk_data]    | Downloading package words to /root/nltk_data...\n",
            "[nltk_data]    |   Unzipping corpora/words.zip.\n",
            "[nltk_data]    | Downloading package ycoe to /root/nltk_data...\n",
            "[nltk_data]    |   Unzipping corpora/ycoe.zip.\n",
            "[nltk_data]    | Downloading package rslp to /root/nltk_data...\n",
            "[nltk_data]    |   Unzipping stemmers/rslp.zip.\n",
            "[nltk_data]    | Downloading package maxent_treebank_pos_tagger to\n",
            "[nltk_data]    |     /root/nltk_data...\n",
            "[nltk_data]    |   Unzipping taggers/maxent_treebank_pos_tagger.zip.\n",
            "[nltk_data]    | Downloading package universal_tagset to\n",
            "[nltk_data]    |     /root/nltk_data...\n",
            "[nltk_data]    |   Unzipping taggers/universal_tagset.zip.\n",
            "[nltk_data]    | Downloading package maxent_ne_chunker to\n",
            "[nltk_data]    |     /root/nltk_data...\n",
            "[nltk_data]    |   Unzipping chunkers/maxent_ne_chunker.zip.\n",
            "[nltk_data]    | Downloading package punkt to /root/nltk_data...\n",
            "[nltk_data]    |   Unzipping tokenizers/punkt.zip.\n",
            "[nltk_data]    | Downloading package book_grammars to\n",
            "[nltk_data]    |     /root/nltk_data...\n",
            "[nltk_data]    |   Unzipping grammars/book_grammars.zip.\n",
            "[nltk_data]    | Downloading package sample_grammars to\n",
            "[nltk_data]    |     /root/nltk_data...\n",
            "[nltk_data]    |   Unzipping grammars/sample_grammars.zip.\n",
            "[nltk_data]    | Downloading package spanish_grammars to\n",
            "[nltk_data]    |     /root/nltk_data...\n",
            "[nltk_data]    |   Unzipping grammars/spanish_grammars.zip.\n",
            "[nltk_data]    | Downloading package basque_grammars to\n",
            "[nltk_data]    |     /root/nltk_data...\n",
            "[nltk_data]    |   Unzipping grammars/basque_grammars.zip.\n",
            "[nltk_data]    | Downloading package large_grammars to\n",
            "[nltk_data]    |     /root/nltk_data...\n",
            "[nltk_data]    |   Unzipping grammars/large_grammars.zip.\n",
            "[nltk_data]    | Downloading package tagsets to /root/nltk_data...\n",
            "[nltk_data]    |   Unzipping help/tagsets.zip.\n",
            "[nltk_data]    | Downloading package snowball_data to\n",
            "[nltk_data]    |     /root/nltk_data...\n",
            "[nltk_data]    | Downloading package bllip_wsj_no_aux to\n",
            "[nltk_data]    |     /root/nltk_data...\n",
            "[nltk_data]    |   Unzipping models/bllip_wsj_no_aux.zip.\n",
            "[nltk_data]    | Downloading package word2vec_sample to\n",
            "[nltk_data]    |     /root/nltk_data...\n",
            "[nltk_data]    |   Unzipping models/word2vec_sample.zip.\n",
            "[nltk_data]    | Downloading package panlex_swadesh to\n",
            "[nltk_data]    |     /root/nltk_data...\n",
            "[nltk_data]    | Downloading package mte_teip5 to /root/nltk_data...\n",
            "[nltk_data]    |   Unzipping corpora/mte_teip5.zip.\n",
            "[nltk_data]    | Downloading package averaged_perceptron_tagger to\n",
            "[nltk_data]    |     /root/nltk_data...\n",
            "[nltk_data]    |   Unzipping taggers/averaged_perceptron_tagger.zip.\n",
            "[nltk_data]    | Downloading package averaged_perceptron_tagger_ru to\n",
            "[nltk_data]    |     /root/nltk_data...\n",
            "[nltk_data]    |   Unzipping\n",
            "[nltk_data]    |       taggers/averaged_perceptron_tagger_ru.zip.\n",
            "[nltk_data]    | Downloading package perluniprops to\n",
            "[nltk_data]    |     /root/nltk_data...\n",
            "[nltk_data]    |   Unzipping misc/perluniprops.zip.\n",
            "[nltk_data]    | Downloading package nonbreaking_prefixes to\n",
            "[nltk_data]    |     /root/nltk_data...\n",
            "[nltk_data]    |   Unzipping corpora/nonbreaking_prefixes.zip.\n",
            "[nltk_data]    | Downloading package vader_lexicon to\n",
            "[nltk_data]    |     /root/nltk_data...\n",
            "[nltk_data]    | Downloading package porter_test to /root/nltk_data...\n",
            "[nltk_data]    |   Unzipping stemmers/porter_test.zip.\n",
            "[nltk_data]    | Downloading package wmt15_eval to /root/nltk_data...\n",
            "[nltk_data]    |   Unzipping models/wmt15_eval.zip.\n",
            "[nltk_data]    | Downloading package mwa_ppdb to /root/nltk_data...\n",
            "[nltk_data]    |   Unzipping misc/mwa_ppdb.zip.\n",
            "[nltk_data]    | \n",
            "[nltk_data]  Done downloading collection all\n"
          ],
          "name": "stdout"
        }
      ]
    },
    {
      "cell_type": "code",
      "metadata": {
        "id": "RfICnVJhSvFl"
      },
      "source": [
        "from nltk.corpus import stopwords"
      ],
      "execution_count": null,
      "outputs": []
    },
    {
      "cell_type": "code",
      "metadata": {
        "id": "PDLTivN-Sw6c"
      },
      "source": [
        "en_stops = set(stopwords.words('english'))"
      ],
      "execution_count": null,
      "outputs": []
    },
    {
      "cell_type": "code",
      "metadata": {
        "id": "Z8zNSIuwRSFM"
      },
      "source": [
        "#BOW dla pojedynczego obrazka treningowego, jest to worek słów\r\n",
        "porter = PorterStemmer()\r\n",
        "lancaster=LancasterStemmer()\r\n",
        "lemma=WordNetLemmatizer()\r\n",
        "def bow_words(image,encoding):\r\n",
        "  pic = list(encoding.keys())[image]\r\n",
        "  actual=descriptions[pic.split('.')[0]]\r\n",
        "  word_counts = []\r\n",
        "  for sent in actual:\r\n",
        "    for w in sent.split(' '):\r\n",
        "      w=lemma.lemmatize(w)\r\n",
        "      w=porter.stem(w)\r\n",
        "      if w not in word_counts:\r\n",
        "        if w not in en_stops:\r\n",
        "          word_counts.append(w)\r\n",
        "  return word_counts"
      ],
      "execution_count": null,
      "outputs": []
    },
    {
      "cell_type": "code",
      "metadata": {
        "id": "vLZMmiWHRSnl",
        "colab": {
          "base_uri": "https://localhost:8080/"
        },
        "outputId": "ed87b3ee-c4ca-4460-f536-7b951906de07"
      },
      "source": [
        "bow_words(1,encoding_train)"
      ],
      "execution_count": null,
      "outputs": [
        {
          "output_type": "execute_result",
          "data": {
            "text/plain": [
              "['littl',\n",
              " 'babi',\n",
              " 'play',\n",
              " 'croquet',\n",
              " 'girl',\n",
              " 'next',\n",
              " 'truck',\n",
              " 'child',\n",
              " 'croquett',\n",
              " 'kid',\n",
              " 'front',\n",
              " 'car',\n",
              " 'put',\n",
              " 'ball',\n",
              " 'boy',\n",
              " 'hammer',\n",
              " 'besid']"
            ]
          },
          "metadata": {
            "tags": []
          },
          "execution_count": 34
        }
      ]
    },
    {
      "cell_type": "code",
      "metadata": {
        "id": "Tt5WgF6fTiPM"
      },
      "source": [
        "#BOW dla zbioru treningowego\r\n",
        "train=[]\r\n",
        "for i in range(len(encoding_train)):\r\n",
        "  bow1=bow_words(i, encoding_train)\r\n",
        "  train.append(bow1)"
      ],
      "execution_count": null,
      "outputs": []
    },
    {
      "cell_type": "code",
      "metadata": {
        "id": "5O8r6JLJRF4L"
      },
      "source": [
        "def predicted_edited(image, encoding):\r\n",
        "  pic = list(encoding.keys())[image]\r\n",
        "  image = encoding[pic].reshape((1,2048))\r\n",
        "  predicted = greedySearch(image)\r\n",
        "  #print(predicted)\r\n",
        "  word_counts = []\r\n",
        "  for w in predicted.split(' '):\r\n",
        "    #print(w)\r\n",
        "    w=lemma.lemmatize(w)\r\n",
        "    w=porter.stem(w)\r\n",
        "    #print(w)\r\n",
        "    if w not in word_counts:\r\n",
        "      if w not in en_stops:\r\n",
        "        word_counts.append(w)\r\n",
        "  return word_counts"
      ],
      "execution_count": null,
      "outputs": []
    },
    {
      "cell_type": "code",
      "metadata": {
        "id": "8BQs_J65S-v9",
        "colab": {
          "base_uri": "https://localhost:8080/"
        },
        "outputId": "890fdc94-9d08-499c-a546-a6d76a71a5dc"
      },
      "source": [
        "predicted_edited(1, encoding_train)"
      ],
      "execution_count": null,
      "outputs": [
        {
          "output_type": "execute_result",
          "data": {
            "text/plain": [
              "['littl', 'boy', 'walk', 'street', 'hi', 'toy']"
            ]
          },
          "metadata": {
            "tags": []
          },
          "execution_count": 37
        }
      ]
    },
    {
      "cell_type": "code",
      "metadata": {
        "id": "5M-y0UBu8CYE"
      },
      "source": [
        "from operator import itemgetter "
      ],
      "execution_count": null,
      "outputs": []
    },
    {
      "cell_type": "code",
      "metadata": {
        "id": "-CK4Ypjq3Zwy"
      },
      "source": [
        "def percentage_bow(images, encoding): #wartość dla konkretnego obrazka, wartości predykcji\r\n",
        "  pic = list(encoding.keys())[images]\r\n",
        "  actual=descriptions[pic.split('.')[0]]\r\n",
        "  pred=predicted_edited(images, encoding)\r\n",
        "  word_counts = []\r\n",
        "  for sent in actual:\r\n",
        "    for w in sent.split(' '):\r\n",
        "      w=lemma.lemmatize(w)\r\n",
        "      w=porter.stem(w)\r\n",
        "      if w not in en_stops:\r\n",
        "        if w not in word_counts:\r\n",
        "          word_counts.append(w)\r\n",
        "  licznik=0\r\n",
        "  for x in pred:\r\n",
        "    if x in word_counts:\r\n",
        "      licznik+=1\r\n",
        "  return licznik/len(pred)"
      ],
      "execution_count": null,
      "outputs": []
    },
    {
      "cell_type": "code",
      "metadata": {
        "colab": {
          "base_uri": "https://localhost:8080/"
        },
        "id": "dIsLl_FyT3ou",
        "outputId": "4b992f20-4bf8-4ee4-b8ae-34a6a6f25189"
      },
      "source": [
        "#BOW train predicted/listy wszystkich treningowych\r\n",
        "z=900\r\n",
        "predi=predicted_edited(z, encoding_train)\r\n",
        "output_train=[]\r\n",
        "#for i in range(1,4):\r\n",
        "#for i in range(len(encoding_train)):\r\n",
        "for i,j in enumerate(encoding_train):\r\n",
        "  licznik = 0\r\n",
        "  for x in predi:\r\n",
        "    if x in train[i]:\r\n",
        "      licznik+=1\r\n",
        "  out=licznik/len(predi)\r\n",
        "  output_train.append((i,out))\r\n",
        "#print(output_train)\r\n",
        "#print(sorted(output_train, key=itemgetter(1)))\r\n",
        "wartosc=max(output_train, key=itemgetter(1))[0]\r\n",
        "print(wartosc)\r\n",
        "output_train.sort(key=itemgetter(1))\r\n",
        "print(output_train)\r\n",
        "values=[]\r\n",
        "val_z=percentage_bow(z, encoding_train)\r\n",
        "print(val_z)\r\n",
        "for i, j in output_train:\r\n",
        "  if j not in values:\r\n",
        "    values.append(j)\r\n",
        "print(sorted(values, reverse=True))\r\n",
        "val=0\r\n",
        "for x, y in enumerate(sorted(values, reverse=True)):\r\n",
        "  if y == val_z:\r\n",
        "    if y>= 0.5 and x <= (0.4*len(values)):\r\n",
        "      val+=1\r\n",
        "print(val)\r\n",
        "\r\n",
        "print('zbiór uczony', train[z])\r\n",
        "print('zbior naj', train[wartosc])"
      ],
      "execution_count": null,
      "outputs": [
        {
          "output_type": "stream",
          "text": [
            "252\n",
            "[(2, 0.0), (4, 0.0), (5, 0.0), (6, 0.0), (9, 0.0), (10, 0.0), (11, 0.0), (13, 0.0), (14, 0.0), (18, 0.0), (20, 0.0), (25, 0.0), (26, 0.0), (28, 0.0), (29, 0.0), (30, 0.0), (31, 0.0), (32, 0.0), (33, 0.0), (36, 0.0), (37, 0.0), (38, 0.0), (39, 0.0), (43, 0.0), (45, 0.0), (46, 0.0), (47, 0.0), (48, 0.0), (49, 0.0), (50, 0.0), (52, 0.0), (53, 0.0), (55, 0.0), (58, 0.0), (59, 0.0), (62, 0.0), (65, 0.0), (66, 0.0), (67, 0.0), (69, 0.0), (70, 0.0), (71, 0.0), (73, 0.0), (77, 0.0), (80, 0.0), (81, 0.0), (83, 0.0), (84, 0.0), (87, 0.0), (88, 0.0), (89, 0.0), (90, 0.0), (91, 0.0), (100, 0.0), (103, 0.0), (104, 0.0), (106, 0.0), (108, 0.0), (110, 0.0), (112, 0.0), (114, 0.0), (115, 0.0), (116, 0.0), (119, 0.0), (121, 0.0), (122, 0.0), (123, 0.0), (124, 0.0), (125, 0.0), (126, 0.0), (128, 0.0), (129, 0.0), (132, 0.0), (134, 0.0), (135, 0.0), (144, 0.0), (146, 0.0), (147, 0.0), (148, 0.0), (149, 0.0), (150, 0.0), (151, 0.0), (153, 0.0), (154, 0.0), (160, 0.0), (161, 0.0), (162, 0.0), (163, 0.0), (166, 0.0), (168, 0.0), (170, 0.0), (173, 0.0), (174, 0.0), (175, 0.0), (176, 0.0), (177, 0.0), (178, 0.0), (179, 0.0), (180, 0.0), (181, 0.0), (183, 0.0), (185, 0.0), (186, 0.0), (191, 0.0), (192, 0.0), (194, 0.0), (196, 0.0), (201, 0.0), (202, 0.0), (203, 0.0), (205, 0.0), (207, 0.0), (210, 0.0), (212, 0.0), (214, 0.0), (215, 0.0), (216, 0.0), (217, 0.0), (222, 0.0), (224, 0.0), (225, 0.0), (226, 0.0), (227, 0.0), (228, 0.0), (229, 0.0), (231, 0.0), (232, 0.0), (235, 0.0), (244, 0.0), (245, 0.0), (247, 0.0), (249, 0.0), (251, 0.0), (258, 0.0), (259, 0.0), (261, 0.0), (266, 0.0), (268, 0.0), (273, 0.0), (274, 0.0), (275, 0.0), (277, 0.0), (278, 0.0), (281, 0.0), (286, 0.0), (287, 0.0), (291, 0.0), (292, 0.0), (293, 0.0), (294, 0.0), (295, 0.0), (296, 0.0), (300, 0.0), (301, 0.0), (302, 0.0), (304, 0.0), (305, 0.0), (308, 0.0), (309, 0.0), (313, 0.0), (319, 0.0), (320, 0.0), (324, 0.0), (325, 0.0), (327, 0.0), (328, 0.0), (329, 0.0), (330, 0.0), (332, 0.0), (333, 0.0), (334, 0.0), (341, 0.0), (342, 0.0), (347, 0.0), (350, 0.0), (351, 0.0), (353, 0.0), (358, 0.0), (359, 0.0), (360, 0.0), (364, 0.0), (366, 0.0), (367, 0.0), (369, 0.0), (374, 0.0), (375, 0.0), (377, 0.0), (382, 0.0), (386, 0.0), (387, 0.0), (389, 0.0), (391, 0.0), (393, 0.0), (396, 0.0), (399, 0.0), (400, 0.0), (401, 0.0), (402, 0.0), (406, 0.0), (409, 0.0), (412, 0.0), (413, 0.0), (414, 0.0), (416, 0.0), (417, 0.0), (418, 0.0), (419, 0.0), (421, 0.0), (422, 0.0), (423, 0.0), (425, 0.0), (427, 0.0), (428, 0.0), (429, 0.0), (430, 0.0), (432, 0.0), (435, 0.0), (436, 0.0), (437, 0.0), (438, 0.0), (439, 0.0), (440, 0.0), (441, 0.0), (443, 0.0), (445, 0.0), (446, 0.0), (447, 0.0), (448, 0.0), (449, 0.0), (452, 0.0), (454, 0.0), (456, 0.0), (457, 0.0), (458, 0.0), (460, 0.0), (461, 0.0), (462, 0.0), (464, 0.0), (466, 0.0), (469, 0.0), (470, 0.0), (471, 0.0), (474, 0.0), (475, 0.0), (478, 0.0), (482, 0.0), (483, 0.0), (484, 0.0), (486, 0.0), (492, 0.0), (494, 0.0), (495, 0.0), (502, 0.0), (507, 0.0), (508, 0.0), (509, 0.0), (510, 0.0), (514, 0.0), (515, 0.0), (518, 0.0), (519, 0.0), (520, 0.0), (521, 0.0), (522, 0.0), (523, 0.0), (525, 0.0), (527, 0.0), (528, 0.0), (529, 0.0), (531, 0.0), (536, 0.0), (538, 0.0), (540, 0.0), (542, 0.0), (543, 0.0), (545, 0.0), (547, 0.0), (552, 0.0), (555, 0.0), (556, 0.0), (559, 0.0), (561, 0.0), (563, 0.0), (564, 0.0), (568, 0.0), (570, 0.0), (572, 0.0), (574, 0.0), (575, 0.0), (578, 0.0), (579, 0.0), (580, 0.0), (583, 0.0), (584, 0.0), (589, 0.0), (590, 0.0), (591, 0.0), (592, 0.0), (593, 0.0), (594, 0.0), (595, 0.0), (596, 0.0), (597, 0.0), (600, 0.0), (604, 0.0), (612, 0.0), (613, 0.0), (614, 0.0), (615, 0.0), (616, 0.0), (618, 0.0), (619, 0.0), (620, 0.0), (621, 0.0), (624, 0.0), (627, 0.0), (629, 0.0), (632, 0.0), (633, 0.0), (634, 0.0), (635, 0.0), (636, 0.0), (637, 0.0), (640, 0.0), (642, 0.0), (645, 0.0), (646, 0.0), (649, 0.0), (654, 0.0), (661, 0.0), (663, 0.0), (665, 0.0), (669, 0.0), (673, 0.0), (674, 0.0), (675, 0.0), (677, 0.0), (679, 0.0), (680, 0.0), (681, 0.0), (682, 0.0), (686, 0.0), (688, 0.0), (690, 0.0), (691, 0.0), (694, 0.0), (695, 0.0), (698, 0.0), (700, 0.0), (702, 0.0), (703, 0.0), (706, 0.0), (707, 0.0), (709, 0.0), (710, 0.0), (711, 0.0), (712, 0.0), (713, 0.0), (715, 0.0), (716, 0.0), (717, 0.0), (720, 0.0), (723, 0.0), (726, 0.0), (728, 0.0), (730, 0.0), (733, 0.0), (734, 0.0), (737, 0.0), (738, 0.0), (739, 0.0), (741, 0.0), (743, 0.0), (747, 0.0), (749, 0.0), (750, 0.0), (754, 0.0), (755, 0.0), (757, 0.0), (760, 0.0), (761, 0.0), (762, 0.0), (763, 0.0), (764, 0.0), (766, 0.0), (768, 0.0), (769, 0.0), (774, 0.0), (777, 0.0), (778, 0.0), (779, 0.0), (780, 0.0), (781, 0.0), (782, 0.0), (786, 0.0), (788, 0.0), (790, 0.0), (791, 0.0), (793, 0.0), (798, 0.0), (801, 0.0), (802, 0.0), (803, 0.0), (807, 0.0), (808, 0.0), (812, 0.0), (813, 0.0), (814, 0.0), (815, 0.0), (819, 0.0), (820, 0.0), (826, 0.0), (829, 0.0), (831, 0.0), (834, 0.0), (836, 0.0), (837, 0.0), (839, 0.0), (841, 0.0), (842, 0.0), (843, 0.0), (844, 0.0), (845, 0.0), (846, 0.0), (850, 0.0), (852, 0.0), (853, 0.0), (854, 0.0), (855, 0.0), (856, 0.0), (859, 0.0), (860, 0.0), (861, 0.0), (870, 0.0), (871, 0.0), (872, 0.0), (873, 0.0), (874, 0.0), (876, 0.0), (878, 0.0), (880, 0.0), (884, 0.0), (885, 0.0), (886, 0.0), (887, 0.0), (898, 0.0), (899, 0.0), (903, 0.0), (904, 0.0), (908, 0.0), (909, 0.0), (911, 0.0), (912, 0.0), (913, 0.0), (914, 0.0), (918, 0.0), (927, 0.0), (929, 0.0), (930, 0.0), (935, 0.0), (938, 0.0), (941, 0.0), (943, 0.0), (944, 0.0), (945, 0.0), (946, 0.0), (948, 0.0), (949, 0.0), (951, 0.0), (952, 0.0), (953, 0.0), (957, 0.0), (960, 0.0), (963, 0.0), (964, 0.0), (965, 0.0), (966, 0.0), (968, 0.0), (969, 0.0), (971, 0.0), (973, 0.0), (976, 0.0), (977, 0.0), (978, 0.0), (979, 0.0), (980, 0.0), (981, 0.0), (982, 0.0), (983, 0.0), (984, 0.0), (987, 0.0), (989, 0.0), (991, 0.0), (992, 0.0), (996, 0.0), (998, 0.0), (1001, 0.0), (1002, 0.0), (1009, 0.0), (1011, 0.0), (1018, 0.0), (1019, 0.0), (1020, 0.0), (1023, 0.0), (1028, 0.0), (1030, 0.0), (1033, 0.0), (1034, 0.0), (1035, 0.0), (1036, 0.0), (1037, 0.0), (1039, 0.0), (1040, 0.0), (1041, 0.0), (1042, 0.0), (1044, 0.0), (1045, 0.0), (1049, 0.0), (1050, 0.0), (1052, 0.0), (1053, 0.0), (1056, 0.0), (1057, 0.0), (1058, 0.0), (1060, 0.0), (1062, 0.0), (1063, 0.0), (1064, 0.0), (1066, 0.0), (1067, 0.0), (1068, 0.0), (1069, 0.0), (1070, 0.0), (1071, 0.0), (1073, 0.0), (1075, 0.0), (1082, 0.0), (1083, 0.0), (1085, 0.0), (1086, 0.0), (1087, 0.0), (1092, 0.0), (1095, 0.0), (1096, 0.0), (1097, 0.0), (1098, 0.0), (1099, 0.0), (1100, 0.0), (1103, 0.0), (1104, 0.0), (1109, 0.0), (1112, 0.0), (1113, 0.0), (1114, 0.0), (1116, 0.0), (1117, 0.0), (1118, 0.0), (1119, 0.0), (1120, 0.0), (1122, 0.0), (1123, 0.0), (1124, 0.0), (1126, 0.0), (1127, 0.0), (1129, 0.0), (1131, 0.0), (1132, 0.0), (1135, 0.0), (1138, 0.0), (1139, 0.0), (1142, 0.0), (1143, 0.0), (1144, 0.0), (1145, 0.0), (1146, 0.0), (1148, 0.0), (1151, 0.0), (1152, 0.0), (1153, 0.0), (1154, 0.0), (1155, 0.0), (1160, 0.0), (1161, 0.0), (1164, 0.0), (1166, 0.0), (1167, 0.0), (1171, 0.0), (1172, 0.0), (1173, 0.0), (1175, 0.0), (1179, 0.0), (1180, 0.0), (1181, 0.0), (1182, 0.0), (1183, 0.0), (1184, 0.0), (1186, 0.0), (1187, 0.0), (1188, 0.0), (1189, 0.0), (1190, 0.0), (1191, 0.0), (1192, 0.0), (1194, 0.0), (1195, 0.0), (1199, 0.0), (1201, 0.0), (1205, 0.0), (1207, 0.0), (1212, 0.0), (1213, 0.0), (1214, 0.0), (1216, 0.0), (1217, 0.0), (1225, 0.0), (1229, 0.0), (1232, 0.0), (1234, 0.0), (1235, 0.0), (1238, 0.0), (1240, 0.0), (1244, 0.0), (1246, 0.0), (1248, 0.0), (1249, 0.0), (1250, 0.0), (1252, 0.0), (1253, 0.0), (1254, 0.0), (1255, 0.0), (1256, 0.0), (1261, 0.0), (1264, 0.0), (1265, 0.0), (1268, 0.0), (1273, 0.0), (1274, 0.0), (1279, 0.0), (1280, 0.0), (1281, 0.0), (1283, 0.0), (1284, 0.0), (1286, 0.0), (1287, 0.0), (1288, 0.0), (1291, 0.0), (1294, 0.0), (1301, 0.0), (1303, 0.0), (1304, 0.0), (1305, 0.0), (1306, 0.0), (1307, 0.0), (1309, 0.0), (1312, 0.0), (1313, 0.0), (1315, 0.0), (1316, 0.0), (1319, 0.0), (1320, 0.0), (1321, 0.0), (1323, 0.0), (1325, 0.0), (1326, 0.0), (1329, 0.0), (1330, 0.0), (1331, 0.0), (1332, 0.0), (1333, 0.0), (1335, 0.0), (1336, 0.0), (1337, 0.0), (1339, 0.0), (1340, 0.0), (1342, 0.0), (1343, 0.0), (1344, 0.0), (1345, 0.0), (1348, 0.0), (1349, 0.0), (1350, 0.0), (1355, 0.0), (1357, 0.0), (1360, 0.0), (1361, 0.0), (1365, 0.0), (1366, 0.0), (1367, 0.0), (1368, 0.0), (1369, 0.0), (1372, 0.0), (1374, 0.0), (1375, 0.0), (1376, 0.0), (1377, 0.0), (1379, 0.0), (1380, 0.0), (1381, 0.0), (1382, 0.0), (1383, 0.0), (1385, 0.0), (1387, 0.0), (1390, 0.0), (1392, 0.0), (1393, 0.0), (1398, 0.0), (1399, 0.0), (1401, 0.0), (1402, 0.0), (1405, 0.0), (1407, 0.0), (1409, 0.0), (1411, 0.0), (1412, 0.0), (1418, 0.0), (1420, 0.0), (1421, 0.0), (1422, 0.0), (1423, 0.0), (1424, 0.0), (1428, 0.0), (1429, 0.0), (1430, 0.0), (1431, 0.0), (1433, 0.0), (1434, 0.0), (1435, 0.0), (1436, 0.0), (1438, 0.0), (1441, 0.0), (1442, 0.0), (1443, 0.0), (1444, 0.0), (1445, 0.0), (1446, 0.0), (1448, 0.0), (1449, 0.0), (1451, 0.0), (1452, 0.0), (1455, 0.0), (1457, 0.0), (1459, 0.0), (1460, 0.0), (1461, 0.0), (1462, 0.0), (1465, 0.0), (1471, 0.0), (1473, 0.0), (1475, 0.0), (1476, 0.0), (1477, 0.0), (1478, 0.0), (1479, 0.0), (1482, 0.0), (1486, 0.0), (1487, 0.0), (1488, 0.0), (1490, 0.0), (1492, 0.0), (1493, 0.0), (1494, 0.0), (1495, 0.0), (1496, 0.0), (1503, 0.0), (1504, 0.0), (1505, 0.0), (1506, 0.0), (1509, 0.0), (1510, 0.0), (1511, 0.0), (1518, 0.0), (1520, 0.0), (1523, 0.0), (1525, 0.0), (1529, 0.0), (1530, 0.0), (1531, 0.0), (1533, 0.0), (1536, 0.0), (1539, 0.0), (1540, 0.0), (1541, 0.0), (1543, 0.0), (1544, 0.0), (1545, 0.0), (1546, 0.0), (1547, 0.0), (1548, 0.0), (1550, 0.0), (1551, 0.0), (1553, 0.0), (1555, 0.0), (1558, 0.0), (1562, 0.0), (1563, 0.0), (1565, 0.0), (1567, 0.0), (1568, 0.0), (1569, 0.0), (1570, 0.0), (1572, 0.0), (1575, 0.0), (1576, 0.0), (1580, 0.0), (1581, 0.0), (1582, 0.0), (1583, 0.0), (1586, 0.0), (1588, 0.0), (1589, 0.0), (1591, 0.0), (1596, 0.0), (1597, 0.0), (1601, 0.0), (1602, 0.0), (1603, 0.0), (1604, 0.0), (1605, 0.0), (1606, 0.0), (1607, 0.0), (1609, 0.0), (1611, 0.0), (1613, 0.0), (1619, 0.0), (1620, 0.0), (1622, 0.0), (1623, 0.0), (1626, 0.0), (1628, 0.0), (1629, 0.0), (1630, 0.0), (1631, 0.0), (1632, 0.0), (1635, 0.0), (1636, 0.0), (1637, 0.0), (1640, 0.0), (1643, 0.0), (1647, 0.0), (1649, 0.0), (1651, 0.0), (1652, 0.0), (1656, 0.0), (1657, 0.0), (1658, 0.0), (1660, 0.0), (1661, 0.0), (1664, 0.0), (1665, 0.0), (1667, 0.0), (1668, 0.0), (1669, 0.0), (1671, 0.0), (1674, 0.0), (1676, 0.0), (1678, 0.0), (1682, 0.0), (1686, 0.0), (1689, 0.0), (1690, 0.0), (1691, 0.0), (1697, 0.0), (1698, 0.0), (1703, 0.0), (1704, 0.0), (1706, 0.0), (1707, 0.0), (1708, 0.0), (1709, 0.0), (1711, 0.0), (1712, 0.0), (1716, 0.0), (1718, 0.0), (1719, 0.0), (1725, 0.0), (1728, 0.0), (1729, 0.0), (1732, 0.0), (1734, 0.0), (1735, 0.0), (1737, 0.0), (1738, 0.0), (1739, 0.0), (1741, 0.0), (1744, 0.0), (1745, 0.0), (1746, 0.0), (1748, 0.0), (1749, 0.0), (1750, 0.0), (1754, 0.0), (1759, 0.0), (1760, 0.0), (1762, 0.0), (1763, 0.0), (1765, 0.0), (1767, 0.0), (1772, 0.0), (1773, 0.0), (1775, 0.0), (1778, 0.0), (1779, 0.0), (1781, 0.0), (1783, 0.0), (1785, 0.0), (1788, 0.0), (1794, 0.0), (1797, 0.0), (1799, 0.0), (1800, 0.0), (1803, 0.0), (1804, 0.0), (1808, 0.0), (1809, 0.0), (1811, 0.0), (1813, 0.0), (1815, 0.0), (1817, 0.0), (1819, 0.0), (1820, 0.0), (1822, 0.0), (1823, 0.0), (1824, 0.0), (1825, 0.0), (1828, 0.0), (1829, 0.0), (1830, 0.0), (1831, 0.0), (1832, 0.0), (1834, 0.0), (1837, 0.0), (1838, 0.0), (1840, 0.0), (1845, 0.0), (1848, 0.0), (1849, 0.0), (1850, 0.0), (1851, 0.0), (1855, 0.0), (1856, 0.0), (1858, 0.0), (1861, 0.0), (1862, 0.0), (1863, 0.0), (1865, 0.0), (1866, 0.0), (1867, 0.0), (1869, 0.0), (1870, 0.0), (1871, 0.0), (1876, 0.0), (1877, 0.0), (1879, 0.0), (1881, 0.0), (1884, 0.0), (1887, 0.0), (1888, 0.0), (1889, 0.0), (1892, 0.0), (1893, 0.0), (1894, 0.0), (1899, 0.0), (1905, 0.0), (1906, 0.0), (1907, 0.0), (1908, 0.0), (1909, 0.0), (1912, 0.0), (1914, 0.0), (1915, 0.0), (1919, 0.0), (1920, 0.0), (1922, 0.0), (1923, 0.0), (1926, 0.0), (1927, 0.0), (1929, 0.0), (1931, 0.0), (1932, 0.0), (1933, 0.0), (1937, 0.0), (1940, 0.0), (1943, 0.0), (1944, 0.0), (1946, 0.0), (1947, 0.0), (1950, 0.0), (1951, 0.0), (1953, 0.0), (1954, 0.0), (1955, 0.0), (1956, 0.0), (1960, 0.0), (1963, 0.0), (1964, 0.0), (1965, 0.0), (1966, 0.0), (1973, 0.0), (1976, 0.0), (1978, 0.0), (1979, 0.0), (1980, 0.0), (1986, 0.0), (1987, 0.0), (1990, 0.0), (1992, 0.0), (1993, 0.0), (1994, 0.0), (1996, 0.0), (1997, 0.0), (1998, 0.0), (2002, 0.0), (2005, 0.0), (2007, 0.0), (2009, 0.0), (2018, 0.0), (2021, 0.0), (2024, 0.0), (2032, 0.0), (2033, 0.0), (2034, 0.0), (2035, 0.0), (2038, 0.0), (2039, 0.0), (2041, 0.0), (2042, 0.0), (2044, 0.0), (2045, 0.0), (2046, 0.0), (2049, 0.0), (2050, 0.0), (2052, 0.0), (2053, 0.0), (2057, 0.0), (2060, 0.0), (2061, 0.0), (2064, 0.0), (2065, 0.0), (2068, 0.0), (2070, 0.0), (2074, 0.0), (2076, 0.0), (2077, 0.0), (2082, 0.0), (2083, 0.0), (2084, 0.0), (2088, 0.0), (2093, 0.0), (2095, 0.0), (2096, 0.0), (2099, 0.0), (2100, 0.0), (2102, 0.0), (2106, 0.0), (2108, 0.0), (2110, 0.0), (2111, 0.0), (2112, 0.0), (2115, 0.0), (2120, 0.0), (2123, 0.0), (2125, 0.0), (2126, 0.0), (2130, 0.0), (2131, 0.0), (2133, 0.0), (2136, 0.0), (2137, 0.0), (2138, 0.0), (2139, 0.0), (2141, 0.0), (2142, 0.0), (2143, 0.0), (2144, 0.0), (2145, 0.0), (2150, 0.0), (2152, 0.0), (2153, 0.0), (2154, 0.0), (2155, 0.0), (2156, 0.0), (2157, 0.0), (2161, 0.0), (2163, 0.0), (2165, 0.0), (2167, 0.0), (2168, 0.0), (2170, 0.0), (2173, 0.0), (2174, 0.0), (2177, 0.0), (2180, 0.0), (2187, 0.0), (2188, 0.0), (2191, 0.0), (2193, 0.0), (2194, 0.0), (2197, 0.0), (2202, 0.0), (2203, 0.0), (2204, 0.0), (2206, 0.0), (2209, 0.0), (2213, 0.0), (2215, 0.0), (2217, 0.0), (2218, 0.0), (2220, 0.0), (2221, 0.0), (2223, 0.0), (2225, 0.0), (2229, 0.0), (2234, 0.0), (2235, 0.0), (2237, 0.0), (2239, 0.0), (2243, 0.0), (2244, 0.0), (2245, 0.0), (2247, 0.0), (2248, 0.0), (2249, 0.0), (2250, 0.0), (2251, 0.0), (2252, 0.0), (2256, 0.0), (2259, 0.0), (2262, 0.0), (2265, 0.0), (2268, 0.0), (2270, 0.0), (2271, 0.0), (2273, 0.0), (2274, 0.0), (2276, 0.0), (2277, 0.0), (2279, 0.0), (2281, 0.0), (2282, 0.0), (2283, 0.0), (2287, 0.0), (2288, 0.0), (2289, 0.0), (2290, 0.0), (2294, 0.0), (2297, 0.0), (2298, 0.0), (2299, 0.0), (2300, 0.0), (2301, 0.0), (2302, 0.0), (2303, 0.0), (2304, 0.0), (2306, 0.0), (2309, 0.0), (2310, 0.0), (2312, 0.0), (2317, 0.0), (2319, 0.0), (2321, 0.0), (2324, 0.0), (2325, 0.0), (2327, 0.0), (2329, 0.0), (2330, 0.0), (2331, 0.0), (2334, 0.0), (2335, 0.0), (2336, 0.0), (2338, 0.0), (2339, 0.0), (2342, 0.0), (2344, 0.0), (2345, 0.0), (2347, 0.0), (2350, 0.0), (2354, 0.0), (2356, 0.0), (2363, 0.0), (2366, 0.0), (2371, 0.0), (2372, 0.0), (2374, 0.0), (2377, 0.0), (2381, 0.0), (2382, 0.0), (2384, 0.0), (2385, 0.0), (2386, 0.0), (2388, 0.0), (2397, 0.0), (2398, 0.0), (2399, 0.0), (2401, 0.0), (2404, 0.0), (2405, 0.0), (2406, 0.0), (2407, 0.0), (2408, 0.0), (2411, 0.0), (2412, 0.0), (2415, 0.0), (2417, 0.0), (2419, 0.0), (2421, 0.0), (2422, 0.0), (2423, 0.0), (2424, 0.0), (2425, 0.0), (2426, 0.0), (2429, 0.0), (2431, 0.0), (2433, 0.0), (2434, 0.0), (2435, 0.0), (2437, 0.0), (2443, 0.0), (2444, 0.0), (2445, 0.0), (2447, 0.0), (2448, 0.0), (2450, 0.0), (2452, 0.0), (2457, 0.0), (2459, 0.0), (2461, 0.0), (2462, 0.0), (2463, 0.0), (2464, 0.0), (2470, 0.0), (2471, 0.0), (2472, 0.0), (2473, 0.0), (2474, 0.0), (2481, 0.0), (2482, 0.0), (2488, 0.0), (2492, 0.0), (2497, 0.0), (2498, 0.0), (2501, 0.0), (2502, 0.0), (2503, 0.0), (2509, 0.0), (2510, 0.0), (2511, 0.0), (2521, 0.0), (2522, 0.0), (2526, 0.0), (2528, 0.0), (2529, 0.0), (2530, 0.0), (2532, 0.0), (2533, 0.0), (2534, 0.0), (2537, 0.0), (2538, 0.0), (2539, 0.0), (2541, 0.0), (2542, 0.0), (2543, 0.0), (2552, 0.0), (2554, 0.0), (2555, 0.0), (2556, 0.0), (2559, 0.0), (2563, 0.0), (2564, 0.0), (2566, 0.0), (2569, 0.0), (2570, 0.0), (2573, 0.0), (2579, 0.0), (2580, 0.0), (2581, 0.0), (2585, 0.0), (2587, 0.0), (2588, 0.0), (2589, 0.0), (2604, 0.0), (2612, 0.0), (2613, 0.0), (2618, 0.0), (2621, 0.0), (2623, 0.0), (2625, 0.0), (2630, 0.0), (2633, 0.0), (2634, 0.0), (2635, 0.0), (2652, 0.0), (2659, 0.0), (2660, 0.0), (2663, 0.0), (2664, 0.0), (2665, 0.0), (2667, 0.0), (2669, 0.0), (2671, 0.0), (2673, 0.0), (2675, 0.0), (2681, 0.0), (2685, 0.0), (2687, 0.0), (2688, 0.0), (2692, 0.0), (2697, 0.0), (2698, 0.0), (2702, 0.0), (2703, 0.0), (2707, 0.0), (2709, 0.0), (2710, 0.0), (2711, 0.0), (2712, 0.0), (2713, 0.0), (2716, 0.0), (2717, 0.0), (2718, 0.0), (2722, 0.0), (2726, 0.0), (2729, 0.0), (2732, 0.0), (2736, 0.0), (2739, 0.0), (2740, 0.0), (2742, 0.0), (2744, 0.0), (2746, 0.0), (2750, 0.0), (2754, 0.0), (2759, 0.0), (2760, 0.0), (2762, 0.0), (2765, 0.0), (2768, 0.0), (2770, 0.0), (2771, 0.0), (2774, 0.0), (2775, 0.0), (2776, 0.0), (2781, 0.0), (2784, 0.0), (2786, 0.0), (2787, 0.0), (2792, 0.0), (2793, 0.0), (2798, 0.0), (2801, 0.0), (2804, 0.0), (2808, 0.0), (2811, 0.0), (2812, 0.0), (2815, 0.0), (2820, 0.0), (2821, 0.0), (2822, 0.0), (2823, 0.0), (2824, 0.0), (2825, 0.0), (2828, 0.0), (2831, 0.0), (2832, 0.0), (2835, 0.0), (2838, 0.0), (2839, 0.0), (2843, 0.0), (2845, 0.0), (2846, 0.0), (2847, 0.0), (2848, 0.0), (2851, 0.0), (2855, 0.0), (2859, 0.0), (2860, 0.0), (2861, 0.0), (2862, 0.0), (2863, 0.0), (2864, 0.0), (2867, 0.0), (2869, 0.0), (2870, 0.0), (2871, 0.0), (2872, 0.0), (2873, 0.0), (2877, 0.0), (2880, 0.0), (2882, 0.0), (2887, 0.0), (2890, 0.0), (2892, 0.0), (2893, 0.0), (2894, 0.0), (2897, 0.0), (2898, 0.0), (2899, 0.0), (2900, 0.0), (2902, 0.0), (2906, 0.0), (2907, 0.0), (2908, 0.0), (2909, 0.0), (2911, 0.0), (2914, 0.0), (2915, 0.0), (2916, 0.0), (2917, 0.0), (2918, 0.0), (2919, 0.0), (2920, 0.0), (2921, 0.0), (2922, 0.0), (2924, 0.0), (2926, 0.0), (2927, 0.0), (2928, 0.0), (2932, 0.0), (2933, 0.0), (2934, 0.0), (2937, 0.0), (2940, 0.0), (2944, 0.0), (2945, 0.0), (2948, 0.0), (2949, 0.0), (2950, 0.0), (2953, 0.0), (2954, 0.0), (2958, 0.0), (2962, 0.0), (2966, 0.0), (2968, 0.0), (2969, 0.0), (2971, 0.0), (2976, 0.0), (2977, 0.0), (2979, 0.0), (2982, 0.0), (2986, 0.0), (2987, 0.0), (2989, 0.0), (2991, 0.0), (2993, 0.0), (2994, 0.0), (2996, 0.0), (2997, 0.0), (2999, 0.0), (3000, 0.0), (3002, 0.0), (3005, 0.0), (3006, 0.0), (3007, 0.0), (3010, 0.0), (3013, 0.0), (3014, 0.0), (3016, 0.0), (3017, 0.0), (3022, 0.0), (3023, 0.0), (3025, 0.0), (3026, 0.0), (3028, 0.0), (3032, 0.0), (3034, 0.0), (3035, 0.0), (3036, 0.0), (3037, 0.0), (3040, 0.0), (3041, 0.0), (3045, 0.0), (3046, 0.0), (3047, 0.0), (3049, 0.0), (3050, 0.0), (3051, 0.0), (3052, 0.0), (3053, 0.0), (3062, 0.0), (3065, 0.0), (3070, 0.0), (3075, 0.0), (3076, 0.0), (3079, 0.0), (3081, 0.0), (3089, 0.0), (3090, 0.0), (3092, 0.0), (3093, 0.0), (3095, 0.0), (3101, 0.0), (3103, 0.0), (3104, 0.0), (3105, 0.0), (3107, 0.0), (3113, 0.0), (3116, 0.0), (3119, 0.0), (3120, 0.0), (3121, 0.0), (3126, 0.0), (3127, 0.0), (3129, 0.0), (3130, 0.0), (3131, 0.0), (3132, 0.0), (3134, 0.0), (3137, 0.0), (3138, 0.0), (3145, 0.0), (3153, 0.0), (3156, 0.0), (3163, 0.0), (3164, 0.0), (3165, 0.0), (3166, 0.0), (3168, 0.0), (3169, 0.0), (3171, 0.0), (3173, 0.0), (3174, 0.0), (3178, 0.0), (3179, 0.0), (3180, 0.0), (3182, 0.0), (3184, 0.0), (3186, 0.0), (3187, 0.0), (3188, 0.0), (3189, 0.0), (3192, 0.0), (3195, 0.0), (3196, 0.0), (3197, 0.0), (3198, 0.0), (3199, 0.0), (3200, 0.0), (3203, 0.0), (3204, 0.0), (3206, 0.0), (3210, 0.0), (3215, 0.0), (3218, 0.0), (3223, 0.0), (3225, 0.0), (3227, 0.0), (3230, 0.0), (3231, 0.0), (3233, 0.0), (3234, 0.0), (3238, 0.0), (3239, 0.0), (3240, 0.0), (3242, 0.0), (3243, 0.0), (3244, 0.0), (3245, 0.0), (3248, 0.0), (3251, 0.0), (3252, 0.0), (3253, 0.0), (3254, 0.0), (3256, 0.0), (3257, 0.0), (3258, 0.0), (3262, 0.0), (3263, 0.0), (3265, 0.0), (3267, 0.0), (3268, 0.0), (3270, 0.0), (3272, 0.0), (3274, 0.0), (3276, 0.0), (3277, 0.0), (3278, 0.0), (3279, 0.0), (3280, 0.0), (3281, 0.0), (3284, 0.0), (3287, 0.0), (3289, 0.0), (3290, 0.0), (3291, 0.0), (3292, 0.0), (3293, 0.0), (3294, 0.0), (3298, 0.0), (3299, 0.0), (3301, 0.0), (3303, 0.0), (3305, 0.0), (3306, 0.0), (3308, 0.0), (3310, 0.0), (3311, 0.0), (3312, 0.0), (3314, 0.0), (3315, 0.0), (3319, 0.0), (3320, 0.0), (3322, 0.0), (3323, 0.0), (3325, 0.0), (3329, 0.0), (3330, 0.0), (3332, 0.0), (3333, 0.0), (3335, 0.0), (3338, 0.0), (3342, 0.0), (3343, 0.0), (3344, 0.0), (3346, 0.0), (3347, 0.0), (3348, 0.0), (3349, 0.0), (3350, 0.0), (3351, 0.0), (3353, 0.0), (3355, 0.0), (3358, 0.0), (3359, 0.0), (3362, 0.0), (3364, 0.0), (3367, 0.0), (3368, 0.0), (3370, 0.0), (3371, 0.0), (3372, 0.0), (3374, 0.0), (3375, 0.0), (3376, 0.0), (3378, 0.0), (3379, 0.0), (3380, 0.0), (3381, 0.0), (3383, 0.0), (3385, 0.0), (3386, 0.0), (3390, 0.0), (3391, 0.0), (3392, 0.0), (3393, 0.0), (3394, 0.0), (3397, 0.0), (3398, 0.0), (3401, 0.0), (3404, 0.0), (3406, 0.0), (3407, 0.0), (3410, 0.0), (3411, 0.0), (3412, 0.0), (3414, 0.0), (3417, 0.0), (3418, 0.0), (3420, 0.0), (3424, 0.0), (3425, 0.0), (3427, 0.0), (3429, 0.0), (3431, 0.0), (3437, 0.0), (3438, 0.0), (3440, 0.0), (3441, 0.0), (3442, 0.0), (3443, 0.0), (3445, 0.0), (3452, 0.0), (3454, 0.0), (3455, 0.0), (3459, 0.0), (3461, 0.0), (3462, 0.0), (3464, 0.0), (3466, 0.0), (3467, 0.0), (3468, 0.0), (3472, 0.0), (3476, 0.0), (3479, 0.0), (3480, 0.0), (3481, 0.0), (3483, 0.0), (3485, 0.0), (3486, 0.0), (3490, 0.0), (3491, 0.0), (3492, 0.0), (3493, 0.0), (3496, 0.0), (3500, 0.0), (3501, 0.0), (3505, 0.0), (3506, 0.0), (3509, 0.0), (3510, 0.0), (3511, 0.0), (3518, 0.0), (3520, 0.0), (3521, 0.0), (3522, 0.0), (3523, 0.0), (3525, 0.0), (3526, 0.0), (3529, 0.0), (3533, 0.0), (3539, 0.0), (3541, 0.0), (3545, 0.0), (3546, 0.0), (3547, 0.0), (3549, 0.0), (3550, 0.0), (3554, 0.0), (3555, 0.0), (3557, 0.0), (3560, 0.0), (3564, 0.0), (3567, 0.0), (3569, 0.0), (3571, 0.0), (3572, 0.0), (3573, 0.0), (3574, 0.0), (3575, 0.0), (3577, 0.0), (3588, 0.0), (3592, 0.0), (3593, 0.0), (3596, 0.0), (3597, 0.0), (3598, 0.0), (3599, 0.0), (3600, 0.0), (3602, 0.0), (3604, 0.0), (3608, 0.0), (3609, 0.0), (3612, 0.0), (3615, 0.0), (3620, 0.0), (3622, 0.0), (3623, 0.0), (3625, 0.0), (3626, 0.0), (3628, 0.0), (3629, 0.0), (3630, 0.0), (3632, 0.0), (3636, 0.0), (3637, 0.0), (3641, 0.0), (3642, 0.0), (3643, 0.0), (3648, 0.0), (3650, 0.0), (3652, 0.0), (3653, 0.0), (3655, 0.0), (3656, 0.0), (3657, 0.0), (3659, 0.0), (3660, 0.0), (3662, 0.0), (3664, 0.0), (3667, 0.0), (3669, 0.0), (3670, 0.0), (3671, 0.0), (3672, 0.0), (3673, 0.0), (3674, 0.0), (3676, 0.0), (3677, 0.0), (3679, 0.0), (3680, 0.0), (3683, 0.0), (3684, 0.0), (3687, 0.0), (3689, 0.0), (3691, 0.0), (3694, 0.0), (3698, 0.0), (3699, 0.0), (3700, 0.0), (3701, 0.0), (3702, 0.0), (3707, 0.0), (3708, 0.0), (3709, 0.0), (3710, 0.0), (3711, 0.0), (3713, 0.0), (3715, 0.0), (3717, 0.0), (3719, 0.0), (3722, 0.0), (3723, 0.0), (3725, 0.0), (3730, 0.0), (3731, 0.0), (3736, 0.0), (3737, 0.0), (3739, 0.0), (3740, 0.0), (3742, 0.0), (3743, 0.0), (3744, 0.0), (3745, 0.0), (3748, 0.0), (3749, 0.0), (3750, 0.0), (3751, 0.0), (3753, 0.0), (3754, 0.0), (3755, 0.0), (3759, 0.0), (3760, 0.0), (3761, 0.0), (3762, 0.0), (3766, 0.0), (3767, 0.0), (3769, 0.0), (3770, 0.0), (3773, 0.0), (3776, 0.0), (3777, 0.0), (3779, 0.0), (3783, 0.0), (3784, 0.0), (3789, 0.0), (3791, 0.0), (3796, 0.0), (3797, 0.0), (3800, 0.0), (3804, 0.0), (3808, 0.0), (3811, 0.0), (3816, 0.0), (3818, 0.0), (3820, 0.0), (3824, 0.0), (3826, 0.0), (3827, 0.0), (3828, 0.0), (3830, 0.0), (3831, 0.0), (3832, 0.0), (3835, 0.0), (3836, 0.0), (3838, 0.0), (3844, 0.0), (3845, 0.0), (3847, 0.0), (3848, 0.0), (3849, 0.0), (3851, 0.0), (3853, 0.0), (3855, 0.0), (3859, 0.0), (3867, 0.0), (3871, 0.0), (3872, 0.0), (3875, 0.0), (3876, 0.0), (3878, 0.0), (3880, 0.0), (3881, 0.0), (3882, 0.0), (3883, 0.0), (3884, 0.0), (3885, 0.0), (3887, 0.0), (3888, 0.0), (3889, 0.0), (3890, 0.0), (3891, 0.0), (3893, 0.0), (3894, 0.0), (3896, 0.0), (3898, 0.0), (3899, 0.0), (3900, 0.0), (3901, 0.0), (3903, 0.0), (3906, 0.0), (3907, 0.0), (3908, 0.0), (3909, 0.0), (3911, 0.0), (3912, 0.0), (3913, 0.0), (3917, 0.0), (3918, 0.0), (3919, 0.0), (3922, 0.0), (3924, 0.0), (3929, 0.0), (3930, 0.0), (3931, 0.0), (3933, 0.0), (3937, 0.0), (3938, 0.0), (3948, 0.0), (3950, 0.0), (3951, 0.0), (3953, 0.0), (3954, 0.0), (3959, 0.0), (3960, 0.0), (3961, 0.0), (3962, 0.0), (3964, 0.0), (3966, 0.0), (3971, 0.0), (3974, 0.0), (3976, 0.0), (3978, 0.0), (3981, 0.0), (3983, 0.0), (3984, 0.0), (3985, 0.0), (3991, 0.0), (3992, 0.0), (3993, 0.0), (3996, 0.0), (3997, 0.0), (3998, 0.0), (3999, 0.0), (4002, 0.0), (4006, 0.0), (4007, 0.0), (4008, 0.0), (4009, 0.0), (4010, 0.0), (4011, 0.0), (4012, 0.0), (4013, 0.0), (4015, 0.0), (4019, 0.0), (4023, 0.0), (4025, 0.0), (4027, 0.0), (4030, 0.0), (4031, 0.0), (4032, 0.0), (4041, 0.0), (4042, 0.0), (4044, 0.0), (4047, 0.0), (4049, 0.0), (4051, 0.0), (4054, 0.0), (4057, 0.0), (4059, 0.0), (4061, 0.0), (4062, 0.0), (4063, 0.0), (4064, 0.0), (4066, 0.0), (4067, 0.0), (4069, 0.0), (4070, 0.0), (4078, 0.0), (4081, 0.0), (4084, 0.0), (4087, 0.0), (4090, 0.0), (4091, 0.0), (4092, 0.0), (4094, 0.0), (4095, 0.0), (4096, 0.0), (4098, 0.0), (4099, 0.0), (4101, 0.0), (4103, 0.0), (4105, 0.0), (4106, 0.0), (4107, 0.0), (4115, 0.0), (4116, 0.0), (4119, 0.0), (4121, 0.0), (4122, 0.0), (4123, 0.0), (4124, 0.0), (4127, 0.0), (4128, 0.0), (4130, 0.0), (4132, 0.0), (4134, 0.0), (4136, 0.0), (4137, 0.0), (4138, 0.0), (4141, 0.0), (4146, 0.0), (4148, 0.0), (4149, 0.0), (4150, 0.0), (4151, 0.0), (4155, 0.0), (4160, 0.0), (4163, 0.0), (4164, 0.0), (4166, 0.0), (4167, 0.0), (4168, 0.0), (4169, 0.0), (4170, 0.0), (4173, 0.0), (4175, 0.0), (4176, 0.0), (4177, 0.0), (4178, 0.0), (4179, 0.0), (4180, 0.0), (4181, 0.0), (4182, 0.0), (4186, 0.0), (4188, 0.0), (4189, 0.0), (4190, 0.0), (4192, 0.0), (4193, 0.0), (4197, 0.0), (4200, 0.0), (4202, 0.0), (4203, 0.0), (4205, 0.0), (4207, 0.0), (4208, 0.0), (4213, 0.0), (4215, 0.0), (4218, 0.0), (4219, 0.0), (4221, 0.0), (4226, 0.0), (4229, 0.0), (4231, 0.0), (4235, 0.0), (4236, 0.0), (4237, 0.0), (4238, 0.0), (4240, 0.0), (4241, 0.0), (4247, 0.0), (4248, 0.0), (4250, 0.0), (4253, 0.0), (4254, 0.0), (4260, 0.0), (4262, 0.0), (4264, 0.0), (4265, 0.0), (4266, 0.0), (4270, 0.0), (4271, 0.0), (4273, 0.0), (4274, 0.0), (4275, 0.0), (4277, 0.0), (4278, 0.0), (4284, 0.0), (4285, 0.0), (4288, 0.0), (4292, 0.0), (4293, 0.0), (4296, 0.0), (4301, 0.0), (4302, 0.0), (4303, 0.0), (4304, 0.0), (4305, 0.0), (4306, 0.0), (4307, 0.0), (4308, 0.0), (4309, 0.0), (4310, 0.0), (4312, 0.0), (4315, 0.0), (4319, 0.0), (4321, 0.0), (4324, 0.0), (4325, 0.0), (4328, 0.0), (4332, 0.0), (4333, 0.0), (4334, 0.0), (4335, 0.0), (4338, 0.0), (4340, 0.0), (4342, 0.0), (4344, 0.0), (4347, 0.0), (4348, 0.0), (4351, 0.0), (4354, 0.0), (4355, 0.0), (4358, 0.0), (4360, 0.0), (4364, 0.0), (4365, 0.0), (4368, 0.0), (4369, 0.0), (4372, 0.0), (4376, 0.0), (4377, 0.0), (4379, 0.0), (4384, 0.0), (4390, 0.0), (4391, 0.0), (4395, 0.0), (4396, 0.0), (4397, 0.0), (4399, 0.0), (4400, 0.0), (4402, 0.0), (4404, 0.0), (4406, 0.0), (4407, 0.0), (4408, 0.0), (4409, 0.0), (4415, 0.0), (4417, 0.0), (4420, 0.0), (4423, 0.0), (4425, 0.0), (4429, 0.0), (4437, 0.0), (4438, 0.0), (4439, 0.0), (4444, 0.0), (4449, 0.0), (4451, 0.0), (4452, 0.0), (4454, 0.0), (4455, 0.0), (4456, 0.0), (4457, 0.0), (4459, 0.0), (4466, 0.0), (4471, 0.0), (4478, 0.0), (4483, 0.0), (4484, 0.0), (4485, 0.0), (4486, 0.0), (4490, 0.0), (4491, 0.0), (4500, 0.0), (4503, 0.0), (4505, 0.0), (4506, 0.0), (4508, 0.0), (4509, 0.0), (4510, 0.0), (4514, 0.0), (4515, 0.0), (4516, 0.0), (4518, 0.0), (4522, 0.0), (4524, 0.0), (4525, 0.0), (4526, 0.0), (4527, 0.0), (4529, 0.0), (4530, 0.0), (4532, 0.0), (4533, 0.0), (4534, 0.0), (4541, 0.0), (4542, 0.0), (4548, 0.0), (4549, 0.0), (4550, 0.0), (4552, 0.0), (4554, 0.0), (4555, 0.0), (4556, 0.0), (4558, 0.0), (4559, 0.0), (4561, 0.0), (4562, 0.0), (4572, 0.0), (4573, 0.0), (4574, 0.0), (4581, 0.0), (4582, 0.0), (4583, 0.0), (4584, 0.0), (4586, 0.0), (4587, 0.0), (4590, 0.0), (4591, 0.0), (4593, 0.0), (4594, 0.0), (4595, 0.0), (4596, 0.0), (4598, 0.0), (4601, 0.0), (4603, 0.0), (4605, 0.0), (4607, 0.0), (4609, 0.0), (4610, 0.0), (4614, 0.0), (4615, 0.0), (4616, 0.0), (4618, 0.0), (4620, 0.0), (4622, 0.0), (4626, 0.0), (4628, 0.0), (4629, 0.0), (4630, 0.0), (4631, 0.0), (4632, 0.0), (4633, 0.0), (4636, 0.0), (4641, 0.0), (4642, 0.0), (4648, 0.0), (4649, 0.0), (4651, 0.0), (4654, 0.0), (4655, 0.0), (4657, 0.0), (4658, 0.0), (4659, 0.0), (4661, 0.0), (4662, 0.0), (4663, 0.0), (4664, 0.0), (4665, 0.0), (4667, 0.0), (4668, 0.0), (4669, 0.0), (4670, 0.0), (4672, 0.0), (4674, 0.0), (4680, 0.0), (4682, 0.0), (4684, 0.0), (4685, 0.0), (4686, 0.0), (4687, 0.0), (4692, 0.0), (4695, 0.0), (4696, 0.0), (4697, 0.0), (4701, 0.0), (4702, 0.0), (4703, 0.0), (4704, 0.0), (4707, 0.0), (4709, 0.0), (4711, 0.0), (4712, 0.0), (4713, 0.0), (4715, 0.0), (4716, 0.0), (4719, 0.0), (4721, 0.0), (4722, 0.0), (4727, 0.0), (4728, 0.0), (4730, 0.0), (4733, 0.0), (4734, 0.0), (4736, 0.0), (4737, 0.0), (4742, 0.0), (4744, 0.0), (4745, 0.0), (4746, 0.0), (4749, 0.0), (4750, 0.0), (4751, 0.0), (4753, 0.0), (4757, 0.0), (4758, 0.0), (4759, 0.0), (4760, 0.0), (4761, 0.0), (4763, 0.0), (4764, 0.0), (4765, 0.0), (4767, 0.0), (4769, 0.0), (4771, 0.0), (4772, 0.0), (4775, 0.0), (4776, 0.0), (4777, 0.0), (4778, 0.0), (4781, 0.0), (4783, 0.0), (4784, 0.0), (4785, 0.0), (4786, 0.0), (4787, 0.0), (4790, 0.0), (4791, 0.0), (4795, 0.0), (4798, 0.0), (4799, 0.0), (4801, 0.0), (4802, 0.0), (4804, 0.0), (4805, 0.0), (4806, 0.0), (4807, 0.0), (4810, 0.0), (4811, 0.0), (4813, 0.0), (4814, 0.0), (4815, 0.0), (4816, 0.0), (4818, 0.0), (4823, 0.0), (4826, 0.0), (4827, 0.0), (4828, 0.0), (4829, 0.0), (4830, 0.0), (4841, 0.0), (4844, 0.0), (4846, 0.0), (4847, 0.0), (4849, 0.0), (4853, 0.0), (4858, 0.0), (4859, 0.0), (4861, 0.0), (4862, 0.0), (4864, 0.0), (4866, 0.0), (4869, 0.0), (4870, 0.0), (4871, 0.0), (4872, 0.0), (4877, 0.0), (4878, 0.0), (4882, 0.0), (4883, 0.0), (4885, 0.0), (4888, 0.0), (4894, 0.0), (4895, 0.0), (4897, 0.0), (4898, 0.0), (4899, 0.0), (4900, 0.0), (4903, 0.0), (4904, 0.0), (4905, 0.0), (4907, 0.0), (4913, 0.0), (4914, 0.0), (4915, 0.0), (4917, 0.0), (4920, 0.0), (4927, 0.0), (4931, 0.0), (4932, 0.0), (4933, 0.0), (4934, 0.0), (4936, 0.0), (4937, 0.0), (4939, 0.0), (4941, 0.0), (4944, 0.0), (4945, 0.0), (4947, 0.0), (4950, 0.0), (4952, 0.0), (4953, 0.0), (4956, 0.0), (4958, 0.0), (4959, 0.0), (4963, 0.0), (4964, 0.0), (4965, 0.0), (4966, 0.0), (4967, 0.0), (4969, 0.0), (4970, 0.0), (4972, 0.0), (4974, 0.0), (4975, 0.0), (4976, 0.0), (4978, 0.0), (4979, 0.0), (4984, 0.0), (4989, 0.0), (4992, 0.0), (4993, 0.0), (4994, 0.0), (4995, 0.0), (4996, 0.0), (4997, 0.0), (5001, 0.0), (5006, 0.0), (5008, 0.0), (5009, 0.0), (5011, 0.0), (5012, 0.0), (5013, 0.0), (5014, 0.0), (5015, 0.0), (5016, 0.0), (5020, 0.0), (5025, 0.0), (5026, 0.0), (5027, 0.0), (5028, 0.0), (5034, 0.0), (5035, 0.0), (5038, 0.0), (5043, 0.0), (5045, 0.0), (5047, 0.0), (5048, 0.0), (5049, 0.0), (5052, 0.0), (5054, 0.0), (5058, 0.0), (5061, 0.0), (5062, 0.0), (5063, 0.0), (5065, 0.0), (5066, 0.0), (5071, 0.0), (5072, 0.0), (5073, 0.0), (5075, 0.0), (5079, 0.0), (5083, 0.0), (5085, 0.0), (5092, 0.0), (5097, 0.0), (5098, 0.0), (5099, 0.0), (5100, 0.0), (5102, 0.0), (5104, 0.0), (5105, 0.0), (5106, 0.0), (5111, 0.0), (5112, 0.0), (5119, 0.0), (5120, 0.0), (5121, 0.0), (5123, 0.0), (5126, 0.0), (5128, 0.0), (5129, 0.0), (5131, 0.0), (5140, 0.0), (5141, 0.0), (5143, 0.0), (5144, 0.0), (5146, 0.0), (5149, 0.0), (5153, 0.0), (5155, 0.0), (5156, 0.0), (5158, 0.0), (5159, 0.0), (5162, 0.0), (5169, 0.0), (5173, 0.0), (5174, 0.0), (5176, 0.0), (5177, 0.0), (5178, 0.0), (5179, 0.0), (5182, 0.0), (5185, 0.0), (5189, 0.0), (5190, 0.0), (5191, 0.0), (5192, 0.0), (5196, 0.0), (5198, 0.0), (5199, 0.0), (5200, 0.0), (5205, 0.0), (5206, 0.0), (5207, 0.0), (5210, 0.0), (5215, 0.0), (5217, 0.0), (5221, 0.0), (5226, 0.0), (5230, 0.0), (5232, 0.0), (5236, 0.0), (5238, 0.0), (5243, 0.0), (5244, 0.0), (5249, 0.0), (5256, 0.0), (5259, 0.0), (5260, 0.0), (5262, 0.0), (5263, 0.0), (5266, 0.0), (5267, 0.0), (5268, 0.0), (5269, 0.0), (5272, 0.0), (5278, 0.0), (5280, 0.0), (5282, 0.0), (5283, 0.0), (5285, 0.0), (5288, 0.0), (5292, 0.0), (5295, 0.0), (5296, 0.0), (5297, 0.0), (5300, 0.0), (5302, 0.0), (5305, 0.0), (5306, 0.0), (5308, 0.0), (5311, 0.0), (5312, 0.0), (5315, 0.0), (5316, 0.0), (5319, 0.0), (5322, 0.0), (5323, 0.0), (5326, 0.0), (5327, 0.0), (5330, 0.0), (5331, 0.0), (5332, 0.0), (5333, 0.0), (5334, 0.0), (5335, 0.0), (5336, 0.0), (5339, 0.0), (5340, 0.0), (5342, 0.0), (5343, 0.0), (5347, 0.0), (5349, 0.0), (5355, 0.0), (5356, 0.0), (5357, 0.0), (5358, 0.0), (5360, 0.0), (5361, 0.0), (5362, 0.0), (5364, 0.0), (5365, 0.0), (5366, 0.0), (5368, 0.0), (5369, 0.0), (5374, 0.0), (5375, 0.0), (5377, 0.0), (5378, 0.0), (5380, 0.0), (5383, 0.0), (5384, 0.0), (5385, 0.0), (5386, 0.0), (5387, 0.0), (5391, 0.0), (5392, 0.0), (5395, 0.0), (5396, 0.0), (5397, 0.0), (5398, 0.0), (5399, 0.0), (5400, 0.0), (5405, 0.0), (5409, 0.0), (5413, 0.0), (5415, 0.0), (5416, 0.0), (5417, 0.0), (5419, 0.0), (5422, 0.0), (5423, 0.0), (5425, 0.0), (5432, 0.0), (5433, 0.0), (5434, 0.0), (5436, 0.0), (5440, 0.0), (5441, 0.0), (5444, 0.0), (5445, 0.0), (5446, 0.0), (5448, 0.0), (5449, 0.0), (5450, 0.0), (5455, 0.0), (5457, 0.0), (5461, 0.0), (5463, 0.0), (5464, 0.0), (5465, 0.0), (5466, 0.0), (5468, 0.0), (5470, 0.0), (5476, 0.0), (5479, 0.0), (5481, 0.0), (5483, 0.0), (5485, 0.0), (5486, 0.0), (5487, 0.0), (5490, 0.0), (5491, 0.0), (5495, 0.0), (5498, 0.0), (5500, 0.0), (5502, 0.0), (5503, 0.0), (5504, 0.0), (5506, 0.0), (5507, 0.0), (5510, 0.0), (5511, 0.0), (5514, 0.0), (5515, 0.0), (5517, 0.0), (5519, 0.0), (5520, 0.0), (5522, 0.0), (5523, 0.0), (5526, 0.0), (5527, 0.0), (5528, 0.0), (5530, 0.0), (5532, 0.0), (5533, 0.0), (5536, 0.0), (5539, 0.0), (5540, 0.0), (5541, 0.0), (5542, 0.0), (5543, 0.0), (5545, 0.0), (5547, 0.0), (5549, 0.0), (5553, 0.0), (5557, 0.0), (5560, 0.0), (5562, 0.0), (5563, 0.0), (5565, 0.0), (5570, 0.0), (5571, 0.0), (5578, 0.0), (5579, 0.0), (5580, 0.0), (5581, 0.0), (5586, 0.0), (5587, 0.0), (5588, 0.0), (5590, 0.0), (5593, 0.0), (5595, 0.0), (5597, 0.0), (5599, 0.0), (5603, 0.0), (5604, 0.0), (5605, 0.0), (5607, 0.0), (5609, 0.0), (5610, 0.0), (5612, 0.0), (5617, 0.0), (5618, 0.0), (5620, 0.0), (5621, 0.0), (5622, 0.0), (5623, 0.0), (5626, 0.0), (5627, 0.0), (5628, 0.0), (5630, 0.0), (5632, 0.0), (5639, 0.0), (5642, 0.0), (5644, 0.0), (5645, 0.0), (5648, 0.0), (5651, 0.0), (5656, 0.0), (5658, 0.0), (5659, 0.0), (5661, 0.0), (5662, 0.0), (5664, 0.0), (5665, 0.0), (5666, 0.0), (5667, 0.0), (5668, 0.0), (5669, 0.0), (5670, 0.0), (5673, 0.0), (5675, 0.0), (5679, 0.0), (5680, 0.0), (5681, 0.0), (5682, 0.0), (5685, 0.0), (5686, 0.0), (5689, 0.0), (5690, 0.0), (5693, 0.0), (5698, 0.0), (5699, 0.0), (5700, 0.0), (5709, 0.0), (5710, 0.0), (5718, 0.0), (5719, 0.0), (5723, 0.0), (5725, 0.0), (5726, 0.0), (5727, 0.0), (5728, 0.0), (5730, 0.0), (5733, 0.0), (5734, 0.0), (5737, 0.0), (5738, 0.0), (5739, 0.0), (5744, 0.0), (5745, 0.0), (5746, 0.0), (5747, 0.0), (5748, 0.0), (5757, 0.0), (5758, 0.0), (5759, 0.0), (5760, 0.0), (5762, 0.0), (5763, 0.0), (5765, 0.0), (5766, 0.0), (5767, 0.0), (5768, 0.0), (5770, 0.0), (5771, 0.0), (5772, 0.0), (5774, 0.0), (5775, 0.0), (5777, 0.0), (5781, 0.0), (5782, 0.0), (5786, 0.0), (5787, 0.0), (5793, 0.0), (5794, 0.0), (5795, 0.0), (5796, 0.0), (5797, 0.0), (5800, 0.0), (5806, 0.0), (5807, 0.0), (5808, 0.0), (5809, 0.0), (5810, 0.0), (5812, 0.0), (5813, 0.0), (5815, 0.0), (5818, 0.0), (5819, 0.0), (5822, 0.0), (5823, 0.0), (5825, 0.0), (5827, 0.0), (5829, 0.0), (5831, 0.0), (5832, 0.0), (5833, 0.0), (5840, 0.0), (5842, 0.0), (5846, 0.0), (5847, 0.0), (5848, 0.0), (5849, 0.0), (5850, 0.0), (5851, 0.0), (5853, 0.0), (5854, 0.0), (5855, 0.0), (5856, 0.0), (5860, 0.0), (5861, 0.0), (5862, 0.0), (5866, 0.0), (5868, 0.0), (5869, 0.0), (5870, 0.0), (5871, 0.0), (5881, 0.0), (5882, 0.0), (5888, 0.0), (5890, 0.0), (5892, 0.0), (5893, 0.0), (5895, 0.0), (5896, 0.0), (5897, 0.0), (5898, 0.0), (5902, 0.0), (5903, 0.0), (5904, 0.0), (5907, 0.0), (5908, 0.0), (5909, 0.0), (5910, 0.0), (5911, 0.0), (5912, 0.0), (5918, 0.0), (5919, 0.0), (5920, 0.0), (5921, 0.0), (5922, 0.0), (5924, 0.0), (5925, 0.0), (5926, 0.0), (5929, 0.0), (5932, 0.0), (5937, 0.0), (5939, 0.0), (5940, 0.0), (5941, 0.0), (5943, 0.0), (5944, 0.0), (5945, 0.0), (5946, 0.0), (5947, 0.0), (5949, 0.0), (5950, 0.0), (5951, 0.0), (5955, 0.0), (5957, 0.0), (5958, 0.0), (5959, 0.0), (5961, 0.0), (5966, 0.0), (5969, 0.0), (5970, 0.0), (5973, 0.0), (5976, 0.0), (5978, 0.0), (5979, 0.0), (5980, 0.0), (5985, 0.0), (5987, 0.0), (5992, 0.0), (5993, 0.0), (5995, 0.0), (5997, 0.0), (3, 0.25), (7, 0.25), (12, 0.25), (15, 0.25), (17, 0.25), (21, 0.25), (22, 0.25), (23, 0.25), (24, 0.25), (27, 0.25), (34, 0.25), (35, 0.25), (42, 0.25), (51, 0.25), (54, 0.25), (56, 0.25), (57, 0.25), (60, 0.25), (61, 0.25), (63, 0.25), (68, 0.25), (72, 0.25), (74, 0.25), (75, 0.25), (76, 0.25), (78, 0.25), (79, 0.25), (82, 0.25), (85, 0.25), (86, 0.25), (93, 0.25), (94, 0.25), (95, 0.25), (96, 0.25), (97, 0.25), (99, 0.25), (102, 0.25), (105, 0.25), (111, 0.25), (113, 0.25), (117, 0.25), (118, 0.25), (127, 0.25), (131, 0.25), (133, 0.25), (137, 0.25), (139, 0.25), (140, 0.25), (141, 0.25), (142, 0.25), (155, 0.25), (156, 0.25), (157, 0.25), (158, 0.25), (159, 0.25), (164, 0.25), (167, 0.25), (169, 0.25), (184, 0.25), (188, 0.25), (190, 0.25), (193, 0.25), (195, 0.25), (198, 0.25), (199, 0.25), (200, 0.25), (206, 0.25), (208, 0.25), (213, 0.25), (219, 0.25), (223, 0.25), (234, 0.25), (236, 0.25), (240, 0.25), (241, 0.25), (242, 0.25), (243, 0.25), (246, 0.25), (248, 0.25), (250, 0.25), (255, 0.25), (256, 0.25), (257, 0.25), (262, 0.25), (263, 0.25), (264, 0.25), (265, 0.25), (267, 0.25), (269, 0.25), (270, 0.25), (271, 0.25), (272, 0.25), (276, 0.25), (282, 0.25), (283, 0.25), (284, 0.25), (285, 0.25), (288, 0.25), (290, 0.25), (298, 0.25), (303, 0.25), (306, 0.25), (307, 0.25), (314, 0.25), (315, 0.25), (317, 0.25), (321, 0.25), (335, 0.25), (336, 0.25), (338, 0.25), (339, 0.25), (340, 0.25), (344, 0.25), (345, 0.25), (346, 0.25), (349, 0.25), (352, 0.25), (354, 0.25), (355, 0.25), (356, 0.25), (361, 0.25), (363, 0.25), (365, 0.25), (379, 0.25), (380, 0.25), (385, 0.25), (388, 0.25), (390, 0.25), (392, 0.25), (395, 0.25), (397, 0.25), (398, 0.25), (403, 0.25), (404, 0.25), (407, 0.25), (410, 0.25), (411, 0.25), (420, 0.25), (424, 0.25), (426, 0.25), (431, 0.25), (434, 0.25), (442, 0.25), (444, 0.25), (450, 0.25), (459, 0.25), (463, 0.25), (467, 0.25), (468, 0.25), (476, 0.25), (477, 0.25), (479, 0.25), (480, 0.25), (481, 0.25), (485, 0.25), (489, 0.25), (490, 0.25), (491, 0.25), (496, 0.25), (497, 0.25), (498, 0.25), (499, 0.25), (500, 0.25), (501, 0.25), (503, 0.25), (504, 0.25), (505, 0.25), (506, 0.25), (511, 0.25), (512, 0.25), (513, 0.25), (516, 0.25), (524, 0.25), (526, 0.25), (530, 0.25), (532, 0.25), (533, 0.25), (534, 0.25), (535, 0.25), (539, 0.25), (544, 0.25), (550, 0.25), (553, 0.25), (554, 0.25), (560, 0.25), (562, 0.25), (565, 0.25), (567, 0.25), (571, 0.25), (576, 0.25), (577, 0.25), (582, 0.25), (586, 0.25), (587, 0.25), (588, 0.25), (598, 0.25), (601, 0.25), (603, 0.25), (605, 0.25), (606, 0.25), (607, 0.25), (608, 0.25), (609, 0.25), (611, 0.25), (622, 0.25), (625, 0.25), (626, 0.25), (628, 0.25), (631, 0.25), (639, 0.25), (643, 0.25), (650, 0.25), (651, 0.25), (653, 0.25), (655, 0.25), (657, 0.25), (659, 0.25), (660, 0.25), (662, 0.25), (664, 0.25), (667, 0.25), (670, 0.25), (671, 0.25), (676, 0.25), (683, 0.25), (684, 0.25), (687, 0.25), (699, 0.25), (704, 0.25), (708, 0.25), (714, 0.25), (719, 0.25), (721, 0.25), (722, 0.25), (724, 0.25), (725, 0.25), (727, 0.25), (729, 0.25), (731, 0.25), (732, 0.25), (736, 0.25), (740, 0.25), (746, 0.25), (748, 0.25), (751, 0.25), (752, 0.25), (753, 0.25), (756, 0.25), (758, 0.25), (759, 0.25), (765, 0.25), (767, 0.25), (771, 0.25), (773, 0.25), (775, 0.25), (776, 0.25), (783, 0.25), (784, 0.25), (787, 0.25), (789, 0.25), (795, 0.25), (796, 0.25), (797, 0.25), (804, 0.25), (805, 0.25), (806, 0.25), (810, 0.25), (811, 0.25), (821, 0.25), (823, 0.25), (824, 0.25), (825, 0.25), (827, 0.25), (828, 0.25), (830, 0.25), (833, 0.25), (840, 0.25), (847, 0.25), (848, 0.25), (849, 0.25), (851, 0.25), (857, 0.25), (862, 0.25), (868, 0.25), (869, 0.25), (875, 0.25), (877, 0.25), (879, 0.25), (881, 0.25), (882, 0.25), (888, 0.25), (890, 0.25), (894, 0.25), (895, 0.25), (897, 0.25), (902, 0.25), (905, 0.25), (916, 0.25), (917, 0.25), (919, 0.25), (922, 0.25), (923, 0.25), (924, 0.25), (925, 0.25), (928, 0.25), (931, 0.25), (932, 0.25), (933, 0.25), (934, 0.25), (936, 0.25), (937, 0.25), (939, 0.25), (940, 0.25), (947, 0.25), (950, 0.25), (954, 0.25), (959, 0.25), (961, 0.25), (962, 0.25), (967, 0.25), (970, 0.25), (972, 0.25), (974, 0.25), (975, 0.25), (985, 0.25), (990, 0.25), (994, 0.25), (995, 0.25), (999, 0.25), (1000, 0.25), (1004, 0.25), (1005, 0.25), (1007, 0.25), (1008, 0.25), (1010, 0.25), (1013, 0.25), (1015, 0.25), (1016, 0.25), (1017, 0.25), (1024, 0.25), (1025, 0.25), (1027, 0.25), (1029, 0.25), (1031, 0.25), (1032, 0.25), (1043, 0.25), (1046, 0.25), (1047, 0.25), (1055, 0.25), (1072, 0.25), (1074, 0.25), (1077, 0.25), (1078, 0.25), (1081, 0.25), (1084, 0.25), (1088, 0.25), (1089, 0.25), (1094, 0.25), (1105, 0.25), (1107, 0.25), (1108, 0.25), (1111, 0.25), (1115, 0.25), (1121, 0.25), (1128, 0.25), (1133, 0.25), (1134, 0.25), (1136, 0.25), (1137, 0.25), (1140, 0.25), (1141, 0.25), (1147, 0.25), (1149, 0.25), (1156, 0.25), (1157, 0.25), (1158, 0.25), (1162, 0.25), (1165, 0.25), (1168, 0.25), (1169, 0.25), (1174, 0.25), (1178, 0.25), (1185, 0.25), (1196, 0.25), (1197, 0.25), (1198, 0.25), (1202, 0.25), (1203, 0.25), (1204, 0.25), (1206, 0.25), (1209, 0.25), (1215, 0.25), (1218, 0.25), (1219, 0.25), (1220, 0.25), (1221, 0.25), (1222, 0.25), (1223, 0.25), (1224, 0.25), (1226, 0.25), (1231, 0.25), (1236, 0.25), (1237, 0.25), (1239, 0.25), (1241, 0.25), (1242, 0.25), (1243, 0.25), (1245, 0.25), (1247, 0.25), (1251, 0.25), (1258, 0.25), (1262, 0.25), (1266, 0.25), (1267, 0.25), (1269, 0.25), (1270, 0.25), (1275, 0.25), (1276, 0.25), (1278, 0.25), (1282, 0.25), (1285, 0.25), (1290, 0.25), (1293, 0.25), (1297, 0.25), (1299, 0.25), (1302, 0.25), (1308, 0.25), (1310, 0.25), (1311, 0.25), (1314, 0.25), (1317, 0.25), (1318, 0.25), (1322, 0.25), (1324, 0.25), (1341, 0.25), (1347, 0.25), (1352, 0.25), (1353, 0.25), (1354, 0.25), (1356, 0.25), (1358, 0.25), (1359, 0.25), (1362, 0.25), (1364, 0.25), (1378, 0.25), (1384, 0.25), (1389, 0.25), (1391, 0.25), (1394, 0.25), (1395, 0.25), (1396, 0.25), (1397, 0.25), (1400, 0.25), (1404, 0.25), (1408, 0.25), (1410, 0.25), (1413, 0.25), (1414, 0.25), (1415, 0.25), (1416, 0.25), (1425, 0.25), (1426, 0.25), (1427, 0.25), (1437, 0.25), (1440, 0.25), (1450, 0.25), (1453, 0.25), (1454, 0.25), (1458, 0.25), (1463, 0.25), (1464, 0.25), (1467, 0.25), (1468, 0.25), (1469, 0.25), (1470, 0.25), (1472, 0.25), (1474, 0.25), (1480, 0.25), (1483, 0.25), (1489, 0.25), (1491, 0.25), (1497, 0.25), (1498, 0.25), (1500, 0.25), (1501, 0.25), (1502, 0.25), (1507, 0.25), (1508, 0.25), (1512, 0.25), (1513, 0.25), (1516, 0.25), (1517, 0.25), (1519, 0.25), (1526, 0.25), (1527, 0.25), (1534, 0.25), (1535, 0.25), (1538, 0.25), (1542, 0.25), (1549, 0.25), (1554, 0.25), (1556, 0.25), (1557, 0.25), (1560, 0.25), (1561, 0.25), (1566, 0.25), (1571, 0.25), (1573, 0.25), (1577, 0.25), (1578, 0.25), (1579, 0.25), (1584, 0.25), (1590, 0.25), (1593, 0.25), (1594, 0.25), (1595, 0.25), (1598, 0.25), (1608, 0.25), (1612, 0.25), (1618, 0.25), (1625, 0.25), (1627, 0.25), (1634, 0.25), (1639, 0.25), (1642, 0.25), (1644, 0.25), (1645, 0.25), (1646, 0.25), (1648, 0.25), (1653, 0.25), (1655, 0.25), (1666, 0.25), (1670, 0.25), (1672, 0.25), (1673, 0.25), (1675, 0.25), (1680, 0.25), (1683, 0.25), (1684, 0.25), (1685, 0.25), (1687, 0.25), (1688, 0.25), (1692, 0.25), (1693, 0.25), (1695, 0.25), (1699, 0.25), (1702, 0.25), (1713, 0.25), (1714, 0.25), (1715, 0.25), (1717, 0.25), (1720, 0.25), (1722, 0.25), (1730, 0.25), (1731, 0.25), (1736, 0.25), (1753, 0.25), (1755, 0.25), (1757, 0.25), (1758, 0.25), (1764, 0.25), (1766, 0.25), (1768, 0.25), (1769, 0.25), (1770, 0.25), (1774, 0.25), (1776, 0.25), (1777, 0.25), (1780, 0.25), (1786, 0.25), (1787, 0.25), (1789, 0.25), (1790, 0.25), (1792, 0.25), (1795, 0.25), (1796, 0.25), (1801, 0.25), (1802, 0.25), (1806, 0.25), (1810, 0.25), (1812, 0.25), (1816, 0.25), (1818, 0.25), (1821, 0.25), (1826, 0.25), (1827, 0.25), (1833, 0.25), (1841, 0.25), (1843, 0.25), (1844, 0.25), (1847, 0.25), (1852, 0.25), (1854, 0.25), (1859, 0.25), (1860, 0.25), (1864, 0.25), (1868, 0.25), (1872, 0.25), (1873, 0.25), (1874, 0.25), (1878, 0.25), (1880, 0.25), (1883, 0.25), (1885, 0.25), (1886, 0.25), (1890, 0.25), (1891, 0.25), (1895, 0.25), (1900, 0.25), (1902, 0.25), (1904, 0.25), (1910, 0.25), (1911, 0.25), (1913, 0.25), (1916, 0.25), (1917, 0.25), (1918, 0.25), (1921, 0.25), (1925, 0.25), (1928, 0.25), (1930, 0.25), (1934, 0.25), (1935, 0.25), (1938, 0.25), (1945, 0.25), (1948, 0.25), (1952, 0.25), (1958, 0.25), (1959, 0.25), (1961, 0.25), (1962, 0.25), (1969, 0.25), (1970, 0.25), (1971, 0.25), (1974, 0.25), (1977, 0.25), (1981, 0.25), (1983, 0.25), (1984, 0.25), (1985, 0.25), (1991, 0.25), (1999, 0.25), (2001, 0.25), (2003, 0.25), (2004, 0.25), (2008, 0.25), (2010, 0.25), (2012, 0.25), (2014, 0.25), (2015, 0.25), (2016, 0.25), (2019, 0.25), (2023, 0.25), (2025, 0.25), (2027, 0.25), (2028, 0.25), (2029, 0.25), (2031, 0.25), (2037, 0.25), (2040, 0.25), (2043, 0.25), (2047, 0.25), (2051, 0.25), (2054, 0.25), (2056, 0.25), (2058, 0.25), (2062, 0.25), (2066, 0.25), (2067, 0.25), (2069, 0.25), (2072, 0.25), (2075, 0.25), (2079, 0.25), (2081, 0.25), (2085, 0.25), (2089, 0.25), (2092, 0.25), (2094, 0.25), (2101, 0.25), (2103, 0.25), (2104, 0.25), (2107, 0.25), (2109, 0.25), (2113, 0.25), (2116, 0.25), (2117, 0.25), (2118, 0.25), (2121, 0.25), (2124, 0.25), (2127, 0.25), (2128, 0.25), (2129, 0.25), (2134, 0.25), (2135, 0.25), (2146, 0.25), (2147, 0.25), (2148, 0.25), (2149, 0.25), (2151, 0.25), (2159, 0.25), (2162, 0.25), (2164, 0.25), (2166, 0.25), (2171, 0.25), (2175, 0.25), (2176, 0.25), (2178, 0.25), (2179, 0.25), (2183, 0.25), (2185, 0.25), (2189, 0.25), (2190, 0.25), (2192, 0.25), (2195, 0.25), (2196, 0.25), (2201, 0.25), (2205, 0.25), (2207, 0.25), (2208, 0.25), (2210, 0.25), (2211, 0.25), (2212, 0.25), (2214, 0.25), (2216, 0.25), (2222, 0.25), (2226, 0.25), (2228, 0.25), (2230, 0.25), (2232, 0.25), (2233, 0.25), (2236, 0.25), (2238, 0.25), (2242, 0.25), (2246, 0.25), (2253, 0.25), (2255, 0.25), (2258, 0.25), (2260, 0.25), (2263, 0.25), (2264, 0.25), (2266, 0.25), (2267, 0.25), (2269, 0.25), (2272, 0.25), (2275, 0.25), (2278, 0.25), (2285, 0.25), (2286, 0.25), (2291, 0.25), (2293, 0.25), (2295, 0.25), (2296, 0.25), (2305, 0.25), (2313, 0.25), (2314, 0.25), (2316, 0.25), (2318, 0.25), (2322, 0.25), (2328, 0.25), (2332, 0.25), (2333, 0.25), (2337, 0.25), (2340, 0.25), (2343, 0.25), (2346, 0.25), (2348, 0.25), (2349, 0.25), (2351, 0.25), (2353, 0.25), (2355, 0.25), (2357, 0.25), (2360, 0.25), (2361, 0.25), (2362, 0.25), (2367, 0.25), (2368, 0.25), (2370, 0.25), (2373, 0.25), (2376, 0.25), (2379, 0.25), (2383, 0.25), (2389, 0.25), (2390, 0.25), (2391, 0.25), (2392, 0.25), (2393, 0.25), (2394, 0.25), (2396, 0.25), (2400, 0.25), (2402, 0.25), (2403, 0.25), (2409, 0.25), (2413, 0.25), (2420, 0.25), (2427, 0.25), (2438, 0.25), (2439, 0.25), (2440, 0.25), (2441, 0.25), (2442, 0.25), (2446, 0.25), (2449, 0.25), (2456, 0.25), (2460, 0.25), (2465, 0.25), (2466, 0.25), (2467, 0.25), (2469, 0.25), (2475, 0.25), (2478, 0.25), (2479, 0.25), (2480, 0.25), (2484, 0.25), (2486, 0.25), (2487, 0.25), (2490, 0.25), (2491, 0.25), (2494, 0.25), (2496, 0.25), (2506, 0.25), (2508, 0.25), (2512, 0.25), (2513, 0.25), (2514, 0.25), (2516, 0.25), (2517, 0.25), (2518, 0.25), (2523, 0.25), (2525, 0.25), (2527, 0.25), (2536, 0.25), (2544, 0.25), (2545, 0.25), (2546, 0.25), (2549, 0.25), (2550, 0.25), (2553, 0.25), (2558, 0.25), (2560, 0.25), (2562, 0.25), (2565, 0.25), (2567, 0.25), (2568, 0.25), (2571, 0.25), (2576, 0.25), (2577, 0.25), (2578, 0.25), (2582, 0.25), (2583, 0.25), (2590, 0.25), (2591, 0.25), (2592, 0.25), (2594, 0.25), (2595, 0.25), (2596, 0.25), (2598, 0.25), (2599, 0.25), (2603, 0.25), (2606, 0.25), (2607, 0.25), (2608, 0.25), (2609, 0.25), (2610, 0.25), (2615, 0.25), (2616, 0.25), (2622, 0.25), (2626, 0.25), (2628, 0.25), (2629, 0.25), (2631, 0.25), (2637, 0.25), (2639, 0.25), (2641, 0.25), (2644, 0.25), (2647, 0.25), (2649, 0.25), (2650, 0.25), (2651, 0.25), (2653, 0.25), (2654, 0.25), (2655, 0.25), (2657, 0.25), (2662, 0.25), (2666, 0.25), (2672, 0.25), (2674, 0.25), (2676, 0.25), (2677, 0.25), (2680, 0.25), (2683, 0.25), (2690, 0.25), (2691, 0.25), (2694, 0.25), (2696, 0.25), (2699, 0.25), (2701, 0.25), (2704, 0.25), (2706, 0.25), (2708, 0.25), (2714, 0.25), (2715, 0.25), (2719, 0.25), (2720, 0.25), (2721, 0.25), (2723, 0.25), (2725, 0.25), (2727, 0.25), (2728, 0.25), (2730, 0.25), (2731, 0.25), (2733, 0.25), (2734, 0.25), (2735, 0.25), (2738, 0.25), (2745, 0.25), (2747, 0.25), (2748, 0.25), (2749, 0.25), (2752, 0.25), (2753, 0.25), (2755, 0.25), (2756, 0.25), (2757, 0.25), (2763, 0.25), (2764, 0.25), (2766, 0.25), (2767, 0.25), (2773, 0.25), (2778, 0.25), (2779, 0.25), (2780, 0.25), (2785, 0.25), (2788, 0.25), (2791, 0.25), (2795, 0.25), (2797, 0.25), (2802, 0.25), (2806, 0.25), (2809, 0.25), (2810, 0.25), (2813, 0.25), (2814, 0.25), (2816, 0.25), (2818, 0.25), (2827, 0.25), (2829, 0.25), (2830, 0.25), (2833, 0.25), (2837, 0.25), (2840, 0.25), (2841, 0.25), (2849, 0.25), (2852, 0.25), (2853, 0.25), (2856, 0.25), (2857, 0.25), (2858, 0.25), (2865, 0.25), (2866, 0.25), (2868, 0.25), (2874, 0.25), (2875, 0.25), (2878, 0.25), (2879, 0.25), (2881, 0.25), (2883, 0.25), (2886, 0.25), (2889, 0.25), (2901, 0.25), (2905, 0.25), (2910, 0.25), (2913, 0.25), (2929, 0.25), (2930, 0.25), (2931, 0.25), (2935, 0.25), (2938, 0.25), (2939, 0.25), (2941, 0.25), (2942, 0.25), (2943, 0.25), (2951, 0.25), (2955, 0.25), (2956, 0.25), (2960, 0.25), (2961, 0.25), (2963, 0.25), (2965, 0.25), (2967, 0.25), (2970, 0.25), (2972, 0.25), (2973, 0.25), (2974, 0.25), (2978, 0.25), (2980, 0.25), (2981, 0.25), (2988, 0.25), (2990, 0.25), (2995, 0.25), (2998, 0.25), (3001, 0.25), (3004, 0.25), (3008, 0.25), (3009, 0.25), (3012, 0.25), (3019, 0.25), (3020, 0.25), (3021, 0.25), (3024, 0.25), (3029, 0.25), (3030, 0.25), (3033, 0.25), (3044, 0.25), (3048, 0.25), (3055, 0.25), (3056, 0.25), (3057, 0.25), (3058, 0.25), (3060, 0.25), (3061, 0.25), (3066, 0.25), (3068, 0.25), (3069, 0.25), (3071, 0.25), (3072, 0.25), (3077, 0.25), (3078, 0.25), (3080, 0.25), (3082, 0.25), (3084, 0.25), (3087, 0.25), (3096, 0.25), (3097, 0.25), (3099, 0.25), (3108, 0.25), (3109, 0.25), (3112, 0.25), (3114, 0.25), (3118, 0.25), (3122, 0.25), (3123, 0.25), (3125, 0.25), (3128, 0.25), (3133, 0.25), (3135, 0.25), (3139, 0.25), (3142, 0.25), (3143, 0.25), (3144, 0.25), (3147, 0.25), (3148, 0.25), (3149, 0.25), (3150, 0.25), (3151, 0.25), (3154, 0.25), (3157, 0.25), (3158, 0.25), (3159, 0.25), (3161, 0.25), (3162, 0.25), (3167, 0.25), (3170, 0.25), (3172, 0.25), (3175, 0.25), (3176, 0.25), (3181, 0.25), (3183, 0.25), (3185, 0.25), (3201, 0.25), (3202, 0.25), (3207, 0.25), (3208, 0.25), (3211, 0.25), (3213, 0.25), (3216, 0.25), (3219, 0.25), (3221, 0.25), (3224, 0.25), (3226, 0.25), (3228, 0.25), (3235, 0.25), (3241, 0.25), (3246, 0.25), (3259, 0.25), (3264, 0.25), (3266, 0.25), (3269, 0.25), (3282, 0.25), (3288, 0.25), (3296, 0.25), (3300, 0.25), (3304, 0.25), (3313, 0.25), (3316, 0.25), (3317, 0.25), (3321, 0.25), (3326, 0.25), (3327, 0.25), (3328, 0.25), (3331, 0.25), (3334, 0.25), (3336, 0.25), (3340, 0.25), (3345, 0.25), (3354, 0.25), (3356, 0.25), (3360, 0.25), (3363, 0.25), (3365, 0.25), (3366, 0.25), (3369, 0.25), (3382, 0.25), (3384, 0.25), (3388, 0.25), (3389, 0.25), (3395, 0.25), (3396, 0.25), (3399, 0.25), (3400, 0.25), (3402, 0.25), (3403, 0.25), (3408, 0.25), (3409, 0.25), (3416, 0.25), (3419, 0.25), (3421, 0.25), (3422, 0.25), (3423, 0.25), (3428, 0.25), (3430, 0.25), (3432, 0.25), (3434, 0.25), (3435, 0.25), (3436, 0.25), (3444, 0.25), (3446, 0.25), (3447, 0.25), (3448, 0.25), (3449, 0.25), (3457, 0.25), (3458, 0.25), (3460, 0.25), (3465, 0.25), (3469, 0.25), (3470, 0.25), (3471, 0.25), (3474, 0.25), (3475, 0.25), (3478, 0.25), (3484, 0.25), (3487, 0.25), (3488, 0.25), (3494, 0.25), (3495, 0.25), (3498, 0.25), (3504, 0.25), (3507, 0.25), (3512, 0.25), (3513, 0.25), (3515, 0.25), (3516, 0.25), (3527, 0.25), (3528, 0.25), (3530, 0.25), (3534, 0.25), (3535, 0.25), (3537, 0.25), (3538, 0.25), (3540, 0.25), (3542, 0.25), (3543, 0.25), (3548, 0.25), (3553, 0.25), (3556, 0.25), (3558, 0.25), (3559, 0.25), (3561, 0.25), (3562, 0.25), (3565, 0.25), (3566, 0.25), (3568, 0.25), (3570, 0.25), (3576, 0.25), (3579, 0.25), (3580, 0.25), (3582, 0.25), (3583, 0.25), (3584, 0.25), (3585, 0.25), (3587, 0.25), (3589, 0.25), (3595, 0.25), (3603, 0.25), (3605, 0.25), (3610, 0.25), (3611, 0.25), (3613, 0.25), (3614, 0.25), (3616, 0.25), (3617, 0.25), (3618, 0.25), (3619, 0.25), (3621, 0.25), (3624, 0.25), (3627, 0.25), (3631, 0.25), (3633, 0.25), (3639, 0.25), (3640, 0.25), (3644, 0.25), (3645, 0.25), (3646, 0.25), (3647, 0.25), (3649, 0.25), (3651, 0.25), (3654, 0.25), (3658, 0.25), (3663, 0.25), (3666, 0.25), (3668, 0.25), (3675, 0.25), (3681, 0.25), (3682, 0.25), (3685, 0.25), (3686, 0.25), (3688, 0.25), (3692, 0.25), (3693, 0.25), (3695, 0.25), (3696, 0.25), (3703, 0.25), (3704, 0.25), (3706, 0.25), (3714, 0.25), (3716, 0.25), (3718, 0.25), (3720, 0.25), (3726, 0.25), (3727, 0.25), (3728, 0.25), (3733, 0.25), (3734, 0.25), (3735, 0.25), (3746, 0.25), (3752, 0.25), (3757, 0.25), (3758, 0.25), (3764, 0.25), (3765, 0.25), (3772, 0.25), (3774, 0.25), (3775, 0.25), (3778, 0.25), (3780, 0.25), (3781, 0.25), (3782, 0.25), (3785, 0.25), (3787, 0.25), (3788, 0.25), (3790, 0.25), (3792, 0.25), (3793, 0.25), (3795, 0.25), (3799, 0.25), (3805, 0.25), (3807, 0.25), (3809, 0.25), (3810, 0.25), (3812, 0.25), (3814, 0.25), (3815, 0.25), (3817, 0.25), (3819, 0.25), (3821, 0.25), (3822, 0.25), (3823, 0.25), (3825, 0.25), (3833, 0.25), (3834, 0.25), (3840, 0.25), (3843, 0.25), (3852, 0.25), (3854, 0.25), (3856, 0.25), (3857, 0.25), (3858, 0.25), (3861, 0.25), (3862, 0.25), (3868, 0.25), (3873, 0.25), (3874, 0.25), (3877, 0.25), (3886, 0.25), (3892, 0.25), (3895, 0.25), (3897, 0.25), (3902, 0.25), (3904, 0.25), (3905, 0.25), (3914, 0.25), (3915, 0.25), (3916, 0.25), (3921, 0.25), (3925, 0.25), (3927, 0.25), (3934, 0.25), (3939, 0.25), (3940, 0.25), (3941, 0.25), (3943, 0.25), (3944, 0.25), (3946, 0.25), (3947, 0.25), (3956, 0.25), (3957, 0.25), (3958, 0.25), (3967, 0.25), (3970, 0.25), (3973, 0.25), (3975, 0.25), (3977, 0.25), (3980, 0.25), (3987, 0.25), (3988, 0.25), (3989, 0.25), (3990, 0.25), (3995, 0.25), (4004, 0.25), (4005, 0.25), (4014, 0.25), (4016, 0.25), (4020, 0.25), (4021, 0.25), (4022, 0.25), (4024, 0.25), (4026, 0.25), (4029, 0.25), (4034, 0.25), (4035, 0.25), (4036, 0.25), (4037, 0.25), (4038, 0.25), (4039, 0.25), (4040, 0.25), (4043, 0.25), (4045, 0.25), (4046, 0.25), (4048, 0.25), (4056, 0.25), (4060, 0.25), (4071, 0.25), (4073, 0.25), (4074, 0.25), (4075, 0.25), (4076, 0.25), (4077, 0.25), (4083, 0.25), (4085, 0.25), (4086, 0.25), (4088, 0.25), (4089, 0.25), (4097, 0.25), (4102, 0.25), (4104, 0.25), (4108, 0.25), (4109, 0.25), (4111, 0.25), (4114, 0.25), (4118, 0.25), (4120, 0.25), (4125, 0.25), (4129, 0.25), (4131, 0.25), (4133, 0.25), (4139, 0.25), (4140, 0.25), (4142, 0.25), (4143, 0.25), (4144, 0.25), (4152, 0.25), (4153, 0.25), (4154, 0.25), (4157, 0.25), (4158, 0.25), (4159, 0.25), (4161, 0.25), (4171, 0.25), (4183, 0.25), (4184, 0.25), (4185, 0.25), (4187, 0.25), (4194, 0.25), (4195, 0.25), (4196, 0.25), (4199, 0.25), (4204, 0.25), (4206, 0.25), (4210, 0.25), (4211, 0.25), (4212, 0.25), (4216, 0.25), (4220, 0.25), (4224, 0.25), (4228, 0.25), (4232, 0.25), (4233, 0.25), (4242, 0.25), (4244, 0.25), (4245, 0.25), (4246, 0.25), (4249, 0.25), (4251, 0.25), (4252, 0.25), (4255, 0.25), (4256, 0.25), (4257, 0.25), (4258, 0.25), (4261, 0.25), (4263, 0.25), (4267, 0.25), (4268, 0.25), (4269, 0.25), (4272, 0.25), (4279, 0.25), (4283, 0.25), (4286, 0.25), (4287, 0.25), (4289, 0.25), (4290, 0.25), (4291, 0.25), (4294, 0.25), (4297, 0.25), (4298, 0.25), (4299, 0.25), (4313, 0.25), (4314, 0.25), (4317, 0.25), (4320, 0.25), (4323, 0.25), (4327, 0.25), (4329, 0.25), (4330, 0.25), (4331, 0.25), (4336, 0.25), (4337, 0.25), (4339, 0.25), (4341, 0.25), (4343, 0.25), (4345, 0.25), (4346, 0.25), (4349, 0.25), (4352, 0.25), (4353, 0.25), (4359, 0.25), (4362, 0.25), (4363, 0.25), (4366, 0.25), (4367, 0.25), (4370, 0.25), (4373, 0.25), (4374, 0.25), (4375, 0.25), (4378, 0.25), (4382, 0.25), (4383, 0.25), (4385, 0.25), (4387, 0.25), (4394, 0.25), (4401, 0.25), (4405, 0.25), (4410, 0.25), (4411, 0.25), (4413, 0.25), (4416, 0.25), (4418, 0.25), (4422, 0.25), (4424, 0.25), (4428, 0.25), (4430, 0.25), (4435, 0.25), (4436, 0.25), (4440, 0.25), (4441, 0.25), (4442, 0.25), (4443, 0.25), (4445, 0.25), (4446, 0.25), (4448, 0.25), (4453, 0.25), (4460, 0.25), (4462, 0.25), (4463, 0.25), (4467, 0.25), (4468, 0.25), (4469, 0.25), (4470, 0.25), (4472, 0.25), (4473, 0.25), (4475, 0.25), (4476, 0.25), (4477, 0.25), (4481, 0.25), (4482, 0.25), (4487, 0.25), (4489, 0.25), (4493, 0.25), (4495, 0.25), (4497, 0.25), (4498, 0.25), (4501, 0.25), (4502, 0.25), (4504, 0.25), (4507, 0.25), (4511, 0.25), (4513, 0.25), (4519, 0.25), (4520, 0.25), (4523, 0.25), (4528, 0.25), (4536, 0.25), (4537, 0.25), (4538, 0.25), (4539, 0.25), (4540, 0.25), (4543, 0.25), (4544, 0.25), (4545, 0.25), (4547, 0.25), (4551, 0.25), (4553, 0.25), (4557, 0.25), (4563, 0.25), (4564, 0.25), (4565, 0.25), (4566, 0.25), (4567, 0.25), (4568, 0.25), (4569, 0.25), (4570, 0.25), (4575, 0.25), (4576, 0.25), (4577, 0.25), (4579, 0.25), (4580, 0.25), (4585, 0.25), (4588, 0.25), (4589, 0.25), (4592, 0.25), (4599, 0.25), (4600, 0.25), (4602, 0.25), (4608, 0.25), (4611, 0.25), (4613, 0.25), (4617, 0.25), (4619, 0.25), (4621, 0.25), (4623, 0.25), (4634, 0.25), (4639, 0.25), (4643, 0.25), (4644, 0.25), (4645, 0.25), (4647, 0.25), (4650, 0.25), (4652, 0.25), (4653, 0.25), (4656, 0.25), (4666, 0.25), (4673, 0.25), (4675, 0.25), (4676, 0.25), (4678, 0.25), (4679, 0.25), (4681, 0.25), (4688, 0.25), (4689, 0.25), (4691, 0.25), (4698, 0.25), (4699, 0.25), (4700, 0.25), (4706, 0.25), (4710, 0.25), (4714, 0.25), (4717, 0.25), (4718, 0.25), (4720, 0.25), (4723, 0.25), (4724, 0.25), (4725, 0.25), (4726, 0.25), (4729, 0.25), (4732, 0.25), (4735, 0.25), (4738, 0.25), (4739, 0.25), (4741, 0.25), (4752, 0.25), (4754, 0.25), (4755, 0.25), (4756, 0.25), (4762, 0.25), (4766, 0.25), (4768, 0.25), (4770, 0.25), (4773, 0.25), (4774, 0.25), (4782, 0.25), (4788, 0.25), (4789, 0.25), (4792, 0.25), (4794, 0.25), (4796, 0.25), (4803, 0.25), (4808, 0.25), (4809, 0.25), (4812, 0.25), (4817, 0.25), (4819, 0.25), (4821, 0.25), (4822, 0.25), (4824, 0.25), (4825, 0.25), (4831, 0.25), (4832, 0.25), (4833, 0.25), (4837, 0.25), (4838, 0.25), (4839, 0.25), (4840, 0.25), (4843, 0.25), (4845, 0.25), (4848, 0.25), (4850, 0.25), (4852, 0.25), (4854, 0.25), (4855, 0.25), (4856, 0.25), (4860, 0.25), (4863, 0.25), (4865, 0.25), (4867, 0.25), (4868, 0.25), (4873, 0.25), (4875, 0.25), (4879, 0.25), (4880, 0.25), (4881, 0.25), (4887, 0.25), (4891, 0.25), (4892, 0.25), (4893, 0.25), (4896, 0.25), (4902, 0.25), (4908, 0.25), (4909, 0.25), (4910, 0.25), (4911, 0.25), (4918, 0.25), (4921, 0.25), (4923, 0.25), (4924, 0.25), (4925, 0.25), (4928, 0.25), (4930, 0.25), (4935, 0.25), (4938, 0.25), (4940, 0.25), (4942, 0.25), (4943, 0.25), (4948, 0.25), (4954, 0.25), (4960, 0.25), (4961, 0.25), (4962, 0.25), (4968, 0.25), (4971, 0.25), (4973, 0.25), (4983, 0.25), (4985, 0.25), (4986, 0.25), (4998, 0.25), (4999, 0.25), (5000, 0.25), (5002, 0.25), (5003, 0.25), (5004, 0.25), (5005, 0.25), (5010, 0.25), (5017, 0.25), (5019, 0.25), (5021, 0.25), (5022, 0.25), (5023, 0.25), (5024, 0.25), (5029, 0.25), (5031, 0.25), (5033, 0.25), (5039, 0.25), (5040, 0.25), (5041, 0.25), (5042, 0.25), (5044, 0.25), (5051, 0.25), (5055, 0.25), (5059, 0.25), (5060, 0.25), (5064, 0.25), (5067, 0.25), (5068, 0.25), (5074, 0.25), (5076, 0.25), (5080, 0.25), (5084, 0.25), (5088, 0.25), (5089, 0.25), (5090, 0.25), (5094, 0.25), (5096, 0.25), (5101, 0.25), (5108, 0.25), (5109, 0.25), (5113, 0.25), (5114, 0.25), (5115, 0.25), (5116, 0.25), (5117, 0.25), (5118, 0.25), (5124, 0.25), (5125, 0.25), (5127, 0.25), (5132, 0.25), (5133, 0.25), (5134, 0.25), (5135, 0.25), (5137, 0.25), (5138, 0.25), (5139, 0.25), (5145, 0.25), (5148, 0.25), (5151, 0.25), (5152, 0.25), (5154, 0.25), (5157, 0.25), (5160, 0.25), (5161, 0.25), (5164, 0.25), (5167, 0.25), (5168, 0.25), (5170, 0.25), (5172, 0.25), (5180, 0.25), (5181, 0.25), (5184, 0.25), (5187, 0.25), (5194, 0.25), (5195, 0.25), (5201, 0.25), (5202, 0.25), (5208, 0.25), (5209, 0.25), (5211, 0.25), (5212, 0.25), (5214, 0.25), (5216, 0.25), (5218, 0.25), (5219, 0.25), (5220, 0.25), (5224, 0.25), (5227, 0.25), (5228, 0.25), (5229, 0.25), (5231, 0.25), (5237, 0.25), (5240, 0.25), (5242, 0.25), (5245, 0.25), (5246, 0.25), (5247, 0.25), (5251, 0.25), (5252, 0.25), (5257, 0.25), (5258, 0.25), (5261, 0.25), (5265, 0.25), (5270, 0.25), (5271, 0.25), (5274, 0.25), (5275, 0.25), (5277, 0.25), (5281, 0.25), (5284, 0.25), (5286, 0.25), (5291, 0.25), (5293, 0.25), (5294, 0.25), (5298, 0.25), (5299, 0.25), (5303, 0.25), (5307, 0.25), (5309, 0.25), (5310, 0.25), (5313, 0.25), (5318, 0.25), (5320, 0.25), (5321, 0.25), (5325, 0.25), (5338, 0.25), (5344, 0.25), (5345, 0.25), (5348, 0.25), (5350, 0.25), (5351, 0.25), (5352, 0.25), (5354, 0.25), (5359, 0.25), (5363, 0.25), (5367, 0.25), (5370, 0.25), (5371, 0.25), (5372, 0.25), (5373, 0.25), (5376, 0.25), (5379, 0.25), (5381, 0.25), (5388, 0.25), (5393, 0.25), (5394, 0.25), (5401, 0.25), (5402, 0.25), (5403, 0.25), (5406, 0.25), (5407, 0.25), (5408, 0.25), (5410, 0.25), (5411, 0.25), (5412, 0.25), (5414, 0.25), (5418, 0.25), (5424, 0.25), (5426, 0.25), (5428, 0.25), (5430, 0.25), (5431, 0.25), (5435, 0.25), (5437, 0.25), (5442, 0.25), (5447, 0.25), (5452, 0.25), (5453, 0.25), (5456, 0.25), (5458, 0.25), (5459, 0.25), (5460, 0.25), (5462, 0.25), (5467, 0.25), (5469, 0.25), (5472, 0.25), (5473, 0.25), (5474, 0.25), (5475, 0.25), (5477, 0.25), (5480, 0.25), (5482, 0.25), (5484, 0.25), (5489, 0.25), (5493, 0.25), (5494, 0.25), (5501, 0.25), (5505, 0.25), (5508, 0.25), (5509, 0.25), (5512, 0.25), (5516, 0.25), (5518, 0.25), (5524, 0.25), (5529, 0.25), (5531, 0.25), (5537, 0.25), (5538, 0.25), (5544, 0.25), (5546, 0.25), (5548, 0.25), (5551, 0.25), (5552, 0.25), (5555, 0.25), (5556, 0.25), (5558, 0.25), (5559, 0.25), (5561, 0.25), (5564, 0.25), (5566, 0.25), (5567, 0.25), (5572, 0.25), (5573, 0.25), (5574, 0.25), (5575, 0.25), (5576, 0.25), (5577, 0.25), (5584, 0.25), (5585, 0.25), (5589, 0.25), (5591, 0.25), (5594, 0.25), (5598, 0.25), (5600, 0.25), (5602, 0.25), (5606, 0.25), (5615, 0.25), (5619, 0.25), (5624, 0.25), (5625, 0.25), (5629, 0.25), (5633, 0.25), (5634, 0.25), (5635, 0.25), (5636, 0.25), (5637, 0.25), (5638, 0.25), (5641, 0.25), (5643, 0.25), (5646, 0.25), (5647, 0.25), (5650, 0.25), (5652, 0.25), (5654, 0.25), (5655, 0.25), (5657, 0.25), (5660, 0.25), (5663, 0.25), (5671, 0.25), (5672, 0.25), (5676, 0.25), (5677, 0.25), (5684, 0.25), (5688, 0.25), (5692, 0.25), (5694, 0.25), (5695, 0.25), (5696, 0.25), (5702, 0.25), (5703, 0.25), (5704, 0.25), (5705, 0.25), (5706, 0.25), (5711, 0.25), (5712, 0.25), (5713, 0.25), (5714, 0.25), (5716, 0.25), (5717, 0.25), (5721, 0.25), (5722, 0.25), (5724, 0.25), (5729, 0.25), (5731, 0.25), (5732, 0.25), (5736, 0.25), (5740, 0.25), (5743, 0.25), (5749, 0.25), (5750, 0.25), (5751, 0.25), (5752, 0.25), (5753, 0.25), (5754, 0.25), (5756, 0.25), (5761, 0.25), (5769, 0.25), (5776, 0.25), (5780, 0.25), (5783, 0.25), (5784, 0.25), (5785, 0.25), (5789, 0.25), (5790, 0.25), (5791, 0.25), (5798, 0.25), (5801, 0.25), (5802, 0.25), (5803, 0.25), (5804, 0.25), (5814, 0.25), (5817, 0.25), (5820, 0.25), (5821, 0.25), (5830, 0.25), (5835, 0.25), (5836, 0.25), (5838, 0.25), (5839, 0.25), (5841, 0.25), (5844, 0.25), (5845, 0.25), (5857, 0.25), (5864, 0.25), (5865, 0.25), (5867, 0.25), (5872, 0.25), (5873, 0.25), (5874, 0.25), (5875, 0.25), (5877, 0.25), (5878, 0.25), (5879, 0.25), (5880, 0.25), (5884, 0.25), (5885, 0.25), (5889, 0.25), (5891, 0.25), (5894, 0.25), (5899, 0.25), (5901, 0.25), (5905, 0.25), (5906, 0.25), (5913, 0.25), (5914, 0.25), (5915, 0.25), (5916, 0.25), (5917, 0.25), (5923, 0.25), (5927, 0.25), (5928, 0.25), (5931, 0.25), (5936, 0.25), (5942, 0.25), (5952, 0.25), (5953, 0.25), (5960, 0.25), (5963, 0.25), (5964, 0.25), (5965, 0.25), (5967, 0.25), (5971, 0.25), (5975, 0.25), (5977, 0.25), (5982, 0.25), (5983, 0.25), (5986, 0.25), (5988, 0.25), (5989, 0.25), (5990, 0.25), (5991, 0.25), (5994, 0.25), (5998, 0.25), (5999, 0.25), (1, 0.5), (8, 0.5), (16, 0.5), (19, 0.5), (40, 0.5), (41, 0.5), (64, 0.5), (92, 0.5), (98, 0.5), (101, 0.5), (107, 0.5), (109, 0.5), (120, 0.5), (130, 0.5), (136, 0.5), (143, 0.5), (145, 0.5), (152, 0.5), (165, 0.5), (171, 0.5), (187, 0.5), (189, 0.5), (197, 0.5), (204, 0.5), (209, 0.5), (211, 0.5), (218, 0.5), (220, 0.5), (233, 0.5), (237, 0.5), (238, 0.5), (239, 0.5), (253, 0.5), (279, 0.5), (280, 0.5), (289, 0.5), (297, 0.5), (299, 0.5), (311, 0.5), (316, 0.5), (318, 0.5), (323, 0.5), (326, 0.5), (331, 0.5), (337, 0.5), (357, 0.5), (362, 0.5), (368, 0.5), (371, 0.5), (372, 0.5), (373, 0.5), (378, 0.5), (381, 0.5), (383, 0.5), (384, 0.5), (408, 0.5), (415, 0.5), (433, 0.5), (451, 0.5), (472, 0.5), (473, 0.5), (487, 0.5), (488, 0.5), (493, 0.5), (517, 0.5), (537, 0.5), (546, 0.5), (548, 0.5), (557, 0.5), (566, 0.5), (569, 0.5), (573, 0.5), (581, 0.5), (617, 0.5), (623, 0.5), (630, 0.5), (641, 0.5), (644, 0.5), (647, 0.5), (648, 0.5), (652, 0.5), (656, 0.5), (658, 0.5), (666, 0.5), (668, 0.5), (672, 0.5), (678, 0.5), (685, 0.5), (689, 0.5), (692, 0.5), (693, 0.5), (696, 0.5), (701, 0.5), (705, 0.5), (718, 0.5), (742, 0.5), (744, 0.5), (745, 0.5), (770, 0.5), (772, 0.5), (785, 0.5), (792, 0.5), (794, 0.5), (800, 0.5), (809, 0.5), (817, 0.5), (818, 0.5), (822, 0.5), (832, 0.5), (835, 0.5), (838, 0.5), (858, 0.5), (863, 0.5), (864, 0.5), (867, 0.5), (883, 0.5), (889, 0.5), (891, 0.5), (893, 0.5), (896, 0.5), (900, 0.5), (901, 0.5), (906, 0.5), (907, 0.5), (910, 0.5), (915, 0.5), (926, 0.5), (942, 0.5), (955, 0.5), (956, 0.5), (958, 0.5), (986, 0.5), (988, 0.5), (993, 0.5), (997, 0.5), (1006, 0.5), (1014, 0.5), (1021, 0.5), (1022, 0.5), (1026, 0.5), (1038, 0.5), (1048, 0.5), (1051, 0.5), (1054, 0.5), (1059, 0.5), (1061, 0.5), (1065, 0.5), (1076, 0.5), (1079, 0.5), (1080, 0.5), (1090, 0.5), (1091, 0.5), (1093, 0.5), (1102, 0.5), (1110, 0.5), (1130, 0.5), (1150, 0.5), (1159, 0.5), (1163, 0.5), (1170, 0.5), (1176, 0.5), (1177, 0.5), (1210, 0.5), (1211, 0.5), (1227, 0.5), (1228, 0.5), (1257, 0.5), (1259, 0.5), (1260, 0.5), (1263, 0.5), (1271, 0.5), (1272, 0.5), (1277, 0.5), (1289, 0.5), (1292, 0.5), (1295, 0.5), (1296, 0.5), (1298, 0.5), (1300, 0.5), (1327, 0.5), (1328, 0.5), (1334, 0.5), (1338, 0.5), (1351, 0.5), (1363, 0.5), (1370, 0.5), (1371, 0.5), (1373, 0.5), (1386, 0.5), (1403, 0.5), (1406, 0.5), (1417, 0.5), (1419, 0.5), (1447, 0.5), (1456, 0.5), (1481, 0.5), (1484, 0.5), (1485, 0.5), (1514, 0.5), (1515, 0.5), (1522, 0.5), (1524, 0.5), (1528, 0.5), (1532, 0.5), (1537, 0.5), (1552, 0.5), (1559, 0.5), (1564, 0.5), (1574, 0.5), (1585, 0.5), (1587, 0.5), (1592, 0.5), (1599, 0.5), (1600, 0.5), (1610, 0.5), (1614, 0.5), (1615, 0.5), (1617, 0.5), (1621, 0.5), (1633, 0.5), (1638, 0.5), (1641, 0.5), (1650, 0.5), (1654, 0.5), (1659, 0.5), (1663, 0.5), (1679, 0.5), (1681, 0.5), (1694, 0.5), (1696, 0.5), (1700, 0.5), (1705, 0.5), (1710, 0.5), (1721, 0.5), (1723, 0.5), (1724, 0.5), (1726, 0.5), (1727, 0.5), (1733, 0.5), (1740, 0.5), (1747, 0.5), (1752, 0.5), (1756, 0.5), (1761, 0.5), (1771, 0.5), (1782, 0.5), (1791, 0.5), (1793, 0.5), (1798, 0.5), (1807, 0.5), (1814, 0.5), (1836, 0.5), (1839, 0.5), (1846, 0.5), (1853, 0.5), (1857, 0.5), (1875, 0.5), (1896, 0.5), (1897, 0.5), (1898, 0.5), (1901, 0.5), (1903, 0.5), (1924, 0.5), (1939, 0.5), (1941, 0.5), (1942, 0.5), (1949, 0.5), (1957, 0.5), (1968, 0.5), (1972, 0.5), (1975, 0.5), (1982, 0.5), (1988, 0.5), (1995, 0.5), (2006, 0.5), (2011, 0.5), (2013, 0.5), (2017, 0.5), (2020, 0.5), (2022, 0.5), (2030, 0.5), (2036, 0.5), (2048, 0.5), (2055, 0.5), (2063, 0.5), (2071, 0.5), (2073, 0.5), (2078, 0.5), (2080, 0.5), (2086, 0.5), (2090, 0.5), (2091, 0.5), (2097, 0.5), (2098, 0.5), (2105, 0.5), (2119, 0.5), (2122, 0.5), (2132, 0.5), (2158, 0.5), (2160, 0.5), (2169, 0.5), (2172, 0.5), (2182, 0.5), (2184, 0.5), (2186, 0.5), (2198, 0.5), (2199, 0.5), (2224, 0.5), (2231, 0.5), (2240, 0.5), (2241, 0.5), (2254, 0.5), (2257, 0.5), (2261, 0.5), (2280, 0.5), (2284, 0.5), (2308, 0.5), (2311, 0.5), (2315, 0.5), (2320, 0.5), (2323, 0.5), (2358, 0.5), (2359, 0.5), (2364, 0.5), (2365, 0.5), (2369, 0.5), (2375, 0.5), (2378, 0.5), (2380, 0.5), (2387, 0.5), (2395, 0.5), (2410, 0.5), (2414, 0.5), (2416, 0.5), (2418, 0.5), (2428, 0.5), (2430, 0.5), (2432, 0.5), (2436, 0.5), (2451, 0.5), (2453, 0.5), (2454, 0.5), (2455, 0.5), (2468, 0.5), (2476, 0.5), (2485, 0.5), (2489, 0.5), (2493, 0.5), (2499, 0.5), (2500, 0.5), (2505, 0.5), (2519, 0.5), (2520, 0.5), (2531, 0.5), (2535, 0.5), (2547, 0.5), (2548, 0.5), (2551, 0.5), (2557, 0.5), (2561, 0.5), (2574, 0.5), (2575, 0.5), (2593, 0.5), (2600, 0.5), (2601, 0.5), (2602, 0.5), (2605, 0.5), (2611, 0.5), (2614, 0.5), (2617, 0.5), (2619, 0.5), (2620, 0.5), (2627, 0.5), (2632, 0.5), (2638, 0.5), (2640, 0.5), (2642, 0.5), (2643, 0.5), (2646, 0.5), (2648, 0.5), (2656, 0.5), (2658, 0.5), (2668, 0.5), (2670, 0.5), (2678, 0.5), (2679, 0.5), (2682, 0.5), (2684, 0.5), (2686, 0.5), (2689, 0.5), (2693, 0.5), (2695, 0.5), (2700, 0.5), (2737, 0.5), (2741, 0.5), (2743, 0.5), (2751, 0.5), (2758, 0.5), (2761, 0.5), (2769, 0.5), (2772, 0.5), (2782, 0.5), (2783, 0.5), (2789, 0.5), (2794, 0.5), (2799, 0.5), (2800, 0.5), (2803, 0.5), (2807, 0.5), (2817, 0.5), (2826, 0.5), (2834, 0.5), (2836, 0.5), (2842, 0.5), (2844, 0.5), (2850, 0.5), (2854, 0.5), (2876, 0.5), (2884, 0.5), (2885, 0.5), (2888, 0.5), (2891, 0.5), (2895, 0.5), (2896, 0.5), (2903, 0.5), (2904, 0.5), (2912, 0.5), (2923, 0.5), (2925, 0.5), (2936, 0.5), (2946, 0.5), (2947, 0.5), (2952, 0.5), (2957, 0.5), (2959, 0.5), (2964, 0.5), (2975, 0.5), (2983, 0.5), (2984, 0.5), (2985, 0.5), (2992, 0.5), (3003, 0.5), (3011, 0.5), (3015, 0.5), (3018, 0.5), (3027, 0.5), (3031, 0.5), (3038, 0.5), (3039, 0.5), (3042, 0.5), (3043, 0.5), (3059, 0.5), (3064, 0.5), (3067, 0.5), (3074, 0.5), (3083, 0.5), (3085, 0.5), (3086, 0.5), (3091, 0.5), (3094, 0.5), (3098, 0.5), (3100, 0.5), (3110, 0.5), (3111, 0.5), (3115, 0.5), (3117, 0.5), (3124, 0.5), (3136, 0.5), (3140, 0.5), (3141, 0.5), (3146, 0.5), (3152, 0.5), (3155, 0.5), (3160, 0.5), (3177, 0.5), (3190, 0.5), (3191, 0.5), (3193, 0.5), (3205, 0.5), (3209, 0.5), (3212, 0.5), (3214, 0.5), (3217, 0.5), (3220, 0.5), (3222, 0.5), (3232, 0.5), (3247, 0.5), (3255, 0.5), (3260, 0.5), (3261, 0.5), (3271, 0.5), (3273, 0.5), (3275, 0.5), (3283, 0.5), (3285, 0.5), (3286, 0.5), (3295, 0.5), (3297, 0.5), (3302, 0.5), (3307, 0.5), (3318, 0.5), (3337, 0.5), (3339, 0.5), (3373, 0.5), (3377, 0.5), (3387, 0.5), (3405, 0.5), (3413, 0.5), (3415, 0.5), (3426, 0.5), (3433, 0.5), (3450, 0.5), (3453, 0.5), (3456, 0.5), (3463, 0.5), (3473, 0.5), (3482, 0.5), (3489, 0.5), (3499, 0.5), (3502, 0.5), (3503, 0.5), (3514, 0.5), (3519, 0.5), (3524, 0.5), (3531, 0.5), (3532, 0.5), (3536, 0.5), (3544, 0.5), (3551, 0.5), (3552, 0.5), (3563, 0.5), (3586, 0.5), (3590, 0.5), (3591, 0.5), (3594, 0.5), (3601, 0.5), (3606, 0.5), (3634, 0.5), (3635, 0.5), (3638, 0.5), (3661, 0.5), (3678, 0.5), (3690, 0.5), (3697, 0.5), (3705, 0.5), (3712, 0.5), (3721, 0.5), (3724, 0.5), (3729, 0.5), (3732, 0.5), (3738, 0.5), (3741, 0.5), (3747, 0.5), (3756, 0.5), (3763, 0.5), (3771, 0.5), (3786, 0.5), (3798, 0.5), (3802, 0.5), (3803, 0.5), (3813, 0.5), (3837, 0.5), (3839, 0.5), (3850, 0.5), (3860, 0.5), (3863, 0.5), (3864, 0.5), (3865, 0.5), (3866, 0.5), (3869, 0.5), (3870, 0.5), (3879, 0.5), (3910, 0.5), (3920, 0.5), (3926, 0.5), (3928, 0.5), (3932, 0.5), (3935, 0.5), (3945, 0.5), (3949, 0.5), (3952, 0.5), (3955, 0.5), (3965, 0.5), (3968, 0.5), (3969, 0.5), (3979, 0.5), (3982, 0.5), (3986, 0.5), (3994, 0.5), (4000, 0.5), (4001, 0.5), (4003, 0.5), (4017, 0.5), (4028, 0.5), (4033, 0.5), (4053, 0.5), (4055, 0.5), (4058, 0.5), (4068, 0.5), (4072, 0.5), (4079, 0.5), (4080, 0.5), (4082, 0.5), (4100, 0.5), (4110, 0.5), (4112, 0.5), (4113, 0.5), (4117, 0.5), (4135, 0.5), (4145, 0.5), (4147, 0.5), (4156, 0.5), (4162, 0.5), (4165, 0.5), (4172, 0.5), (4191, 0.5), (4198, 0.5), (4201, 0.5), (4209, 0.5), (4214, 0.5), (4222, 0.5), (4223, 0.5), (4225, 0.5), (4230, 0.5), (4234, 0.5), (4239, 0.5), (4243, 0.5), (4276, 0.5), (4280, 0.5), (4295, 0.5), (4300, 0.5), (4311, 0.5), (4316, 0.5), (4318, 0.5), (4322, 0.5), (4326, 0.5), (4350, 0.5), (4356, 0.5), (4357, 0.5), (4361, 0.5), (4371, 0.5), (4380, 0.5), (4381, 0.5), (4386, 0.5), (4388, 0.5), (4392, 0.5), (4398, 0.5), (4403, 0.5), (4412, 0.5), (4414, 0.5), (4421, 0.5), (4432, 0.5), (4433, 0.5), (4434, 0.5), (4447, 0.5), (4450, 0.5), (4458, 0.5), (4461, 0.5), (4465, 0.5), (4474, 0.5), (4479, 0.5), (4480, 0.5), (4488, 0.5), (4494, 0.5), (4499, 0.5), (4517, 0.5), (4535, 0.5), (4546, 0.5), (4560, 0.5), (4597, 0.5), (4606, 0.5), (4624, 0.5), (4625, 0.5), (4627, 0.5), (4635, 0.5), (4637, 0.5), (4638, 0.5), (4640, 0.5), (4646, 0.5), (4660, 0.5), (4671, 0.5), (4677, 0.5), (4683, 0.5), (4690, 0.5), (4693, 0.5), (4694, 0.5), (4708, 0.5), (4731, 0.5), (4740, 0.5), (4748, 0.5), (4779, 0.5), (4780, 0.5), (4793, 0.5), (4797, 0.5), (4820, 0.5), (4834, 0.5), (4836, 0.5), (4851, 0.5), (4857, 0.5), (4874, 0.5), (4876, 0.5), (4884, 0.5), (4890, 0.5), (4901, 0.5), (4906, 0.5), (4912, 0.5), (4922, 0.5), (4946, 0.5), (4949, 0.5), (4951, 0.5), (4977, 0.5), (4980, 0.5), (4981, 0.5), (4987, 0.5), (4990, 0.5), (4991, 0.5), (5018, 0.5), (5030, 0.5), (5032, 0.5), (5036, 0.5), (5037, 0.5), (5046, 0.5), (5056, 0.5), (5070, 0.5), (5077, 0.5), (5078, 0.5), (5081, 0.5), (5082, 0.5), (5086, 0.5), (5087, 0.5), (5093, 0.5), (5095, 0.5), (5103, 0.5), (5107, 0.5), (5110, 0.5), (5130, 0.5), (5136, 0.5), (5142, 0.5), (5163, 0.5), (5166, 0.5), (5171, 0.5), (5175, 0.5), (5183, 0.5), (5188, 0.5), (5193, 0.5), (5203, 0.5), (5204, 0.5), (5213, 0.5), (5222, 0.5), (5223, 0.5), (5225, 0.5), (5233, 0.5), (5235, 0.5), (5239, 0.5), (5248, 0.5), (5250, 0.5), (5253, 0.5), (5254, 0.5), (5276, 0.5), (5279, 0.5), (5287, 0.5), (5289, 0.5), (5290, 0.5), (5301, 0.5), (5314, 0.5), (5317, 0.5), (5324, 0.5), (5329, 0.5), (5337, 0.5), (5346, 0.5), (5353, 0.5), (5382, 0.5), (5389, 0.5), (5390, 0.5), (5404, 0.5), (5421, 0.5), (5427, 0.5), (5438, 0.5), (5439, 0.5), (5451, 0.5), (5454, 0.5), (5471, 0.5), (5488, 0.5), (5492, 0.5), (5496, 0.5), (5497, 0.5), (5499, 0.5), (5513, 0.5), (5521, 0.5), (5525, 0.5), (5534, 0.5), (5535, 0.5), (5550, 0.5), (5554, 0.5), (5568, 0.5), (5583, 0.5), (5596, 0.5), (5601, 0.5), (5608, 0.5), (5611, 0.5), (5613, 0.5), (5614, 0.5), (5616, 0.5), (5631, 0.5), (5649, 0.5), (5653, 0.5), (5678, 0.5), (5683, 0.5), (5687, 0.5), (5691, 0.5), (5697, 0.5), (5701, 0.5), (5707, 0.5), (5708, 0.5), (5715, 0.5), (5720, 0.5), (5735, 0.5), (5741, 0.5), (5742, 0.5), (5764, 0.5), (5773, 0.5), (5778, 0.5), (5779, 0.5), (5788, 0.5), (5792, 0.5), (5799, 0.5), (5805, 0.5), (5811, 0.5), (5816, 0.5), (5824, 0.5), (5826, 0.5), (5828, 0.5), (5837, 0.5), (5843, 0.5), (5852, 0.5), (5858, 0.5), (5859, 0.5), (5863, 0.5), (5876, 0.5), (5883, 0.5), (5886, 0.5), (5887, 0.5), (5933, 0.5), (5934, 0.5), (5935, 0.5), (5938, 0.5), (5954, 0.5), (5956, 0.5), (5962, 0.5), (5968, 0.5), (5974, 0.5), (5981, 0.5), (5984, 0.5), (5996, 0.5), (0, 0.75), (44, 0.75), (138, 0.75), (172, 0.75), (182, 0.75), (221, 0.75), (230, 0.75), (254, 0.75), (260, 0.75), (310, 0.75), (312, 0.75), (322, 0.75), (343, 0.75), (348, 0.75), (370, 0.75), (376, 0.75), (394, 0.75), (405, 0.75), (453, 0.75), (455, 0.75), (465, 0.75), (541, 0.75), (549, 0.75), (551, 0.75), (558, 0.75), (585, 0.75), (599, 0.75), (610, 0.75), (638, 0.75), (697, 0.75), (735, 0.75), (799, 0.75), (816, 0.75), (866, 0.75), (920, 0.75), (921, 0.75), (1003, 0.75), (1101, 0.75), (1106, 0.75), (1125, 0.75), (1193, 0.75), (1200, 0.75), (1208, 0.75), (1230, 0.75), (1233, 0.75), (1346, 0.75), (1388, 0.75), (1432, 0.75), (1439, 0.75), (1466, 0.75), (1499, 0.75), (1624, 0.75), (1662, 0.75), (1701, 0.75), (1742, 0.75), (1743, 0.75), (1751, 0.75), (1784, 0.75), (1805, 0.75), (1835, 0.75), (1842, 0.75), (1882, 0.75), (1967, 0.75), (1989, 0.75), (2026, 0.75), (2059, 0.75), (2087, 0.75), (2114, 0.75), (2140, 0.75), (2219, 0.75), (2227, 0.75), (2292, 0.75), (2307, 0.75), (2326, 0.75), (2341, 0.75), (2352, 0.75), (2458, 0.75), (2477, 0.75), (2483, 0.75), (2495, 0.75), (2504, 0.75), (2507, 0.75), (2515, 0.75), (2524, 0.75), (2540, 0.75), (2572, 0.75), (2584, 0.75), (2586, 0.75), (2597, 0.75), (2624, 0.75), (2645, 0.75), (2661, 0.75), (2705, 0.75), (2724, 0.75), (2777, 0.75), (2790, 0.75), (2796, 0.75), (2805, 0.75), (2819, 0.75), (3054, 0.75), (3063, 0.75), (3073, 0.75), (3088, 0.75), (3102, 0.75), (3106, 0.75), (3194, 0.75), (3229, 0.75), (3236, 0.75), (3237, 0.75), (3249, 0.75), (3250, 0.75), (3309, 0.75), (3324, 0.75), (3341, 0.75), (3352, 0.75), (3357, 0.75), (3361, 0.75), (3439, 0.75), (3451, 0.75), (3477, 0.75), (3497, 0.75), (3508, 0.75), (3517, 0.75), (3578, 0.75), (3581, 0.75), (3607, 0.75), (3768, 0.75), (3794, 0.75), (3801, 0.75), (3829, 0.75), (3841, 0.75), (3846, 0.75), (3923, 0.75), (3936, 0.75), (3942, 0.75), (3963, 0.75), (3972, 0.75), (4018, 0.75), (4050, 0.75), (4052, 0.75), (4065, 0.75), (4093, 0.75), (4126, 0.75), (4174, 0.75), (4217, 0.75), (4227, 0.75), (4259, 0.75), (4281, 0.75), (4282, 0.75), (4389, 0.75), (4393, 0.75), (4419, 0.75), (4426, 0.75), (4431, 0.75), (4464, 0.75), (4492, 0.75), (4496, 0.75), (4512, 0.75), (4521, 0.75), (4531, 0.75), (4571, 0.75), (4578, 0.75), (4604, 0.75), (4612, 0.75), (4705, 0.75), (4743, 0.75), (4747, 0.75), (4800, 0.75), (4886, 0.75), (4889, 0.75), (4926, 0.75), (4955, 0.75), (4957, 0.75), (4982, 0.75), (4988, 0.75), (5050, 0.75), (5053, 0.75), (5057, 0.75), (5122, 0.75), (5147, 0.75), (5150, 0.75), (5186, 0.75), (5197, 0.75), (5234, 0.75), (5241, 0.75), (5255, 0.75), (5264, 0.75), (5273, 0.75), (5304, 0.75), (5328, 0.75), (5341, 0.75), (5420, 0.75), (5429, 0.75), (5443, 0.75), (5478, 0.75), (5569, 0.75), (5582, 0.75), (5592, 0.75), (5674, 0.75), (5755, 0.75), (5834, 0.75), (5900, 0.75), (5930, 0.75), (5972, 0.75), (252, 1.0), (602, 1.0), (865, 1.0), (892, 1.0), (1012, 1.0), (1521, 1.0), (1616, 1.0), (1677, 1.0), (1936, 1.0), (2000, 1.0), (2181, 1.0), (2200, 1.0), (2636, 1.0), (3665, 1.0), (3806, 1.0), (3842, 1.0), (4427, 1.0), (4835, 1.0), (4842, 1.0), (4916, 1.0), (4919, 1.0), (4929, 1.0), (5007, 1.0), (5069, 1.0), (5091, 1.0), (5165, 1.0), (5640, 1.0), (5948, 1.0)]\n",
            "0.5\n",
            "[1.0, 0.75, 0.5, 0.25, 0.0]\n",
            "1\n",
            "zbiór uczony ['boy', 'splash', 'pool', 'eject', 'water', 'slide', 'stand', 'bottom', 'blue', 'child', 'make', 'emerg', 'chute', 'girl', 'near', 'big', 'one', 'green']\n",
            "zbior naj ['child', 'play', 'pool', 'swimmer', 'move', 'water', 'two', 'splash', 'kid', 'peopl']\n"
          ],
          "name": "stdout"
        }
      ]
    },
    {
      "cell_type": "code",
      "metadata": {
        "id": "3bq-M3HPVOlA"
      },
      "source": [
        "def best_image_bow(image): #wartość max ze zbioru\r\n",
        "  pred=predicted_edited(image, encoding_train)\r\n",
        "  output_train=[]\r\n",
        "  for i in range(len(encoding_train)):\r\n",
        "    licznik=0\r\n",
        "    for x in pred:\r\n",
        "      if x in train[i]:\r\n",
        "        licznik+=1\r\n",
        "    out=licznik/len(pred)\r\n",
        "    output_train.append((i,out))\r\n",
        "  wartosc=max(output_train, key=itemgetter(1))[0]\r\n",
        "  return wartosc #zwraca nam wartość indeksu, czyli numer obrazka zbioru"
      ],
      "execution_count": null,
      "outputs": []
    },
    {
      "cell_type": "code",
      "metadata": {
        "id": "qfZtLQ15n4XA"
      },
      "source": [
        "def best_image_bow2(image):\r\n",
        "  pred=predicted_edited(image, encoding_train)\r\n",
        "  output_train=[]\r\n",
        "  for i in range(len(encoding_train)):\r\n",
        "    licznik=0\r\n",
        "    for x in pred:\r\n",
        "      if x in train[i]:\r\n",
        "        licznik+=1\r\n",
        "    out=licznik/len(pred)\r\n",
        "    output_train.append(out)\r\n",
        "  wartosc=np.max(output_train)\r\n",
        "  return output_train, wartosc"
      ],
      "execution_count": null,
      "outputs": []
    },
    {
      "cell_type": "code",
      "metadata": {
        "id": "huzcutgZAhCe"
      },
      "source": [
        "from nltk.probability import FreqDist"
      ],
      "execution_count": null,
      "outputs": []
    },
    {
      "cell_type": "code",
      "metadata": {
        "id": "VzrsBp9tVbi9",
        "colab": {
          "base_uri": "https://localhost:8080/"
        },
        "outputId": "d420a4a5-08f8-4ebb-d018-f98a49771f00"
      },
      "source": [
        "#dla zbioru treningowego\r\n",
        "bow_train_all = 0\r\n",
        "good = []\r\n",
        "wrong_worki_uczace = []\r\n",
        "wrong_worki_najlepsze = []\r\n",
        "pred_good = []\r\n",
        "pred_wrong = []\r\n",
        "values=[]\r\n",
        "val=0\r\n",
        "#for i in range(0,60):\r\n",
        "for i in range(len(encoding_train)):\r\n",
        "  val_i=percentage_bow(i, encoding_train)\r\n",
        "  indeks = best_image_bow(i)\r\n",
        "  _, value_max=best_image_bow2(indeks)\r\n",
        "  output_train, image_val=best_image_bow2(i)\r\n",
        "  pred=predicted_edited(i, encoding_train)\r\n",
        "  if round(value_max,2) == round(image_val,2):\r\n",
        "  #if i == indeks:\r\n",
        "    bow_train_all = bow_train_all+1\r\n",
        "    #print(bow_train_all)\r\n",
        "    for x in train[i]:\r\n",
        "      good.append(x)\r\n",
        "    for x in pred:\r\n",
        "      pred_good.append(x)\r\n",
        "  else:\r\n",
        "    for x in train[indeks]:\r\n",
        "      wrong_worki_najlepsze.append(x)\r\n",
        "    for x in train[i]:\r\n",
        "      wrong_worki_uczace.append(x)\r\n",
        "    for x in pred:\r\n",
        "      pred_wrong.append(x)\r\n",
        "    for j in output_train:\r\n",
        "      if j not in values:\r\n",
        "        values.append(j)\r\n",
        "    for x, y in enumerate(sorted(values, reverse=True)):\r\n",
        "      if y == val_i:\r\n",
        "        if x <= 3:\r\n",
        "          val+=1\r\n",
        "answer_train = bow_train_all/(len(encoding_train))\r\n",
        "answer_train2 = (bow_train_all+val)/(len(encoding_train))\r\n",
        "#print(bow_train_all)\r\n",
        "print('Dopasowanie najlepszego zbioru do zbioru trenującego', answer_train)\r\n",
        "print('Dopasowanie najlepszego zbioru do zbioru trenującego uwzględniając do 3 najlepszego wyniku', answer_train2)"
      ],
      "execution_count": null,
      "outputs": [
        {
          "output_type": "stream",
          "text": [
            "Dopasowanie najlepszego zbioru do zbioru trenującego 0.43216666666666664\n",
            "Dopasowanie najlepszego zbioru do zbioru trenującego uwzględniając do 3 najlepszego wyniku 0.44283333333333336\n"
          ],
          "name": "stdout"
        }
      ]
    },
    {
      "cell_type": "code",
      "metadata": {
        "id": "S3_0OfEO0ZoF",
        "colab": {
          "base_uri": "https://localhost:8080/"
        },
        "outputId": "24fa566b-aa27-45cc-ed06-f5a24bfe94e2"
      },
      "source": [
        "#dla zbioru treningowego\r\n",
        "bow_train_all = 0\r\n",
        "good = []\r\n",
        "wrong_worki_uczace = []\r\n",
        "wrong_worki_najlepsze = []\r\n",
        "pred_good = []\r\n",
        "pred_wrong = []\r\n",
        "values=[]\r\n",
        "val=0\r\n",
        "#for i in range(0,60):\r\n",
        "for i in range(len(encoding_train)):\r\n",
        "  val_i=percentage_bow(i, encoding_train)\r\n",
        "  indeks = best_image_bow(i)\r\n",
        "  _, value_max=best_image_bow2(indeks)\r\n",
        "  output_train, image_val=best_image_bow2(i)\r\n",
        "  pred=predicted_edited(i, encoding_train)\r\n",
        "  if round(value_max,2) == round(image_val,2):\r\n",
        "  #if i == indeks:\r\n",
        "    bow_train_all = bow_train_all+1\r\n",
        "    #print(bow_train_all)\r\n",
        "    for x in train[i]:\r\n",
        "      good.append(x)\r\n",
        "    for x in pred:\r\n",
        "      pred_good.append(x)\r\n",
        "  else:\r\n",
        "    for x in train[indeks]:\r\n",
        "      wrong_worki_najlepsze.append(x)\r\n",
        "    for x in train[i]:\r\n",
        "      wrong_worki_uczace.append(x)\r\n",
        "    for x in pred:\r\n",
        "      pred_wrong.append(x)\r\n",
        "    for j in output_train:\r\n",
        "      if j not in values:\r\n",
        "        values.append(j)\r\n",
        "    for x, y in enumerate(sorted(values, reverse=True)):\r\n",
        "      if y == val_i:\r\n",
        "        if y>= 0.5 and x <= (0.4*len(values)):\r\n",
        "          val+=1\r\n",
        "answer_train4 = (bow_train_all+val)/(len(encoding_train))\r\n",
        "print('Dopasowanie najlepszego zbioru do zbioru trenującego4', answer_train4)"
      ],
      "execution_count": null,
      "outputs": [
        {
          "output_type": "stream",
          "text": [
            "Dopasowanie najlepszego zbioru do zbioru trenującego4 0.5556666666666666\n"
          ],
          "name": "stdout"
        }
      ]
    },
    {
      "cell_type": "code",
      "metadata": {
        "id": "zgfg3tNP52TL"
      },
      "source": [
        "#dla zbioru treningowego\r\n",
        "bow_train_all = 0\r\n",
        "good = []\r\n",
        "wrong_worki_uczace = []\r\n",
        "wrong_worki_najlepsze = []\r\n",
        "pred_good = []\r\n",
        "pred_wrong = []\r\n",
        "values=[]\r\n",
        "val=0\r\n",
        "#for i in range(0,60):\r\n",
        "for i in range(len(encoding_train)):\r\n",
        "  val_i=percentage_bow(i, encoding_train)\r\n",
        "  indeks = best_image_bow(i)\r\n",
        "  _, value_max=best_image_bow2(indeks)\r\n",
        "  output_train, image_val=best_image_bow2(i)\r\n",
        "  pred=predicted_edited(i, encoding_train)\r\n",
        "  if round(value_max,2) == round(image_val,2):\r\n",
        "  #if i == indeks:\r\n",
        "    bow_train_all = bow_train_all+1\r\n",
        "    #print(bow_train_all)\r\n",
        "    for x in train[i]:\r\n",
        "      good.append(x)\r\n",
        "    for x in pred:\r\n",
        "      pred_good.append(x)\r\n",
        "  else:\r\n",
        "    for x in train[indeks]:\r\n",
        "      wrong_worki_najlepsze.append(x)\r\n",
        "    for x in train[i]:\r\n",
        "      wrong_worki_uczace.append(x)\r\n",
        "    for x in pred:\r\n",
        "      pred_wrong.append(x)\r\n",
        "    for j in output_train:\r\n",
        "      if j not in values:\r\n",
        "        values.append(j)\r\n",
        "    for x, y in enumerate(sorted(values, reverse=True)):\r\n",
        "      if y == val_i:\r\n",
        "        if x < 3:\r\n",
        "          val+=1\r\n",
        "answer_train = bow_train_all/(len(encoding_train))\r\n",
        "answer_train2 = (bow_train_all+val)/(len(encoding_train))\r\n",
        "#print(bow_train_all)\r\n",
        "print('Dopasowanie najlepszego zbioru do zbioru trenującego', answer_train)\r\n",
        "print('Dopasowanie najlepszego zbioru do zbioru trenującego uwzględniając do 3 najlepszego wyniku', answer_train2)"
      ],
      "execution_count": null,
      "outputs": []
    },
    {
      "cell_type": "code",
      "metadata": {
        "colab": {
          "base_uri": "https://localhost:8080/",
          "height": 522
        },
        "id": "Ct2fAhat_B5s",
        "outputId": "bad1fabe-84fb-4628-ed28-8945f73a5ac7"
      },
      "source": [
        "#zdania przewidziane poprawnie\r\n",
        "fdist = FreqDist(pred_good)\r\n",
        "print(fdist)\r\n",
        "fdist.plot(30,cumulative=False)\r\n",
        "plt.show()\r\n",
        "fdist.most_common(10)"
      ],
      "execution_count": null,
      "outputs": [
        {
          "output_type": "stream",
          "text": [
            "<FreqDist with 561 samples and 11909 outcomes>\n"
          ],
          "name": "stdout"
        },
        {
          "output_type": "display_data",
          "data": {
            "image/png": "[encoded data removed]",
            "text/plain": [
              "<Figure size 432x288 with 1 Axes>"
            ]
          },
          "metadata": {
            "tags": [],
            "needs_background": "light"
          }
        },
        {
          "output_type": "execute_result",
          "data": {
            "text/plain": [
              "[('dog', 1220),\n",
              " ('run', 844),\n",
              " ('two', 772),\n",
              " ('grass', 590),\n",
              " ('man', 443),\n",
              " ('play', 439),\n",
              " ('boy', 393),\n",
              " ('black', 382),\n",
              " ('water', 318),\n",
              " ('red', 272)]"
            ]
          },
          "metadata": {
            "tags": []
          },
          "execution_count": 49
        }
      ]
    },
    {
      "cell_type": "code",
      "metadata": {
        "colab": {
          "base_uri": "https://localhost:8080/",
          "height": 511
        },
        "id": "g3eVJihn-ijz",
        "outputId": "4cfb1365-6e9d-4e1a-fab9-43f29d39db8c"
      },
      "source": [
        "#worki dla zdań przewidzianych poprawnie\r\n",
        "fdist = FreqDist(good)\r\n",
        "print(fdist)\r\n",
        "fdist.plot(30,cumulative=False)\r\n",
        "plt.show()\r\n",
        "fdist.most_common(10)"
      ],
      "execution_count": null,
      "outputs": [
        {
          "output_type": "stream",
          "text": [
            "<FreqDist with 3006 samples and 43716 outcomes>\n"
          ],
          "name": "stdout"
        },
        {
          "output_type": "display_data",
          "data": {
            "image/png": "[encoded data removed]",
            "text/plain": [
              "<Figure size 432x288 with 1 Axes>"
            ]
          },
          "metadata": {
            "tags": [],
            "needs_background": "light"
          }
        },
        {
          "output_type": "execute_result",
          "data": {
            "text/plain": [
              "[('dog', 1245),\n",
              " ('white', 783),\n",
              " ('black', 765),\n",
              " ('run', 713),\n",
              " ('brown', 710),\n",
              " ('play', 630),\n",
              " ('two', 617),\n",
              " ('man', 591),\n",
              " ('wear', 521),\n",
              " ('jump', 475)]"
            ]
          },
          "metadata": {
            "tags": []
          },
          "execution_count": 50
        }
      ]
    },
    {
      "cell_type": "code",
      "metadata": {
        "colab": {
          "base_uri": "https://localhost:8080/",
          "height": 511
        },
        "id": "kbER5pAE_IL9",
        "outputId": "fa262a82-fbe1-4059-c903-8e9da44852bf"
      },
      "source": [
        "#zdania przewidziane źle\r\n",
        "fdist = FreqDist(pred_wrong)\r\n",
        "print(fdist)\r\n",
        "fdist.plot(30,cumulative=False)\r\n",
        "plt.show()\r\n",
        "fdist.most_common(10)"
      ],
      "execution_count": null,
      "outputs": [
        {
          "output_type": "stream",
          "text": [
            "<FreqDist with 847 samples and 19687 outcomes>\n"
          ],
          "name": "stdout"
        },
        {
          "output_type": "display_data",
          "data": {
            "image/png": "[encoded data removed]",
            "text/plain": [
              "<Figure size 432x288 with 1 Axes>"
            ]
          },
          "metadata": {
            "tags": [],
            "needs_background": "light"
          }
        },
        {
          "output_type": "execute_result",
          "data": {
            "text/plain": [
              "[('man', 1106),\n",
              " ('shirt', 987),\n",
              " ('two', 977),\n",
              " ('red', 818),\n",
              " ('boy', 690),\n",
              " ('sit', 534),\n",
              " ('black', 521),\n",
              " ('stand', 485),\n",
              " ('play', 448),\n",
              " ('walk', 361)]"
            ]
          },
          "metadata": {
            "tags": []
          },
          "execution_count": 51
        }
      ]
    },
    {
      "cell_type": "code",
      "metadata": {
        "colab": {
          "base_uri": "https://localhost:8080/",
          "height": 511
        },
        "id": "4ITHVV728vEd",
        "outputId": "12e09283-5869-4bff-857e-a3a4673a7cd6"
      },
      "source": [
        "#worki dla zdań przewidzianych źle, najlepsze\r\n",
        "fdist = FreqDist(wrong_worki_najlepsze)\r\n",
        "print(fdist)\r\n",
        "fdist.plot(30,cumulative=False)\r\n",
        "plt.show()\r\n",
        "fdist.most_common(10)"
      ],
      "execution_count": null,
      "outputs": [
        {
          "output_type": "stream",
          "text": [
            "<FreqDist with 2269 samples and 69397 outcomes>\n"
          ],
          "name": "stdout"
        },
        {
          "output_type": "display_data",
          "data": {
            "image/png": "[encoded data removed]",
            "text/plain": [
              "<Figure size 432x288 with 1 Axes>"
            ]
          },
          "metadata": {
            "tags": [],
            "needs_background": "light"
          }
        },
        {
          "output_type": "execute_result",
          "data": {
            "text/plain": [
              "[('man', 1589),\n",
              " ('two', 1406),\n",
              " ('wear', 1337),\n",
              " ('shirt', 1282),\n",
              " ('red', 1190),\n",
              " ('boy', 1100),\n",
              " ('stand', 1100),\n",
              " ('young', 983),\n",
              " ('black', 955),\n",
              " ('peopl', 860)]"
            ]
          },
          "metadata": {
            "tags": []
          },
          "execution_count": 52
        }
      ]
    },
    {
      "cell_type": "code",
      "metadata": {
        "colab": {
          "base_uri": "https://localhost:8080/",
          "height": 511
        },
        "id": "_KFeTpGCACIT",
        "outputId": "e5325cbe-b8cb-4b15-8539-dfdd45e02744"
      },
      "source": [
        "#worki dla zdań przewidzianych źle, uczące\r\n",
        "fdist = FreqDist(wrong_worki_uczace)\r\n",
        "print(fdist)\r\n",
        "fdist.plot(30,cumulative=False)\r\n",
        "plt.show()\r\n",
        "fdist.most_common(10)"
      ],
      "execution_count": null,
      "outputs": [
        {
          "output_type": "stream",
          "text": [
            "<FreqDist with 4144 samples and 63603 outcomes>\n"
          ],
          "name": "stdout"
        },
        {
          "output_type": "display_data",
          "data": {
            "image/png": "[encoded data removed]",
            "text/plain": [
              "<Figure size 432x288 with 1 Axes>"
            ]
          },
          "metadata": {
            "tags": [],
            "needs_background": "light"
          }
        },
        {
          "output_type": "execute_result",
          "data": {
            "text/plain": [
              "[('man', 1228),\n",
              " ('wear', 1070),\n",
              " ('young', 951),\n",
              " ('two', 867),\n",
              " ('stand', 804),\n",
              " ('woman', 761),\n",
              " ('girl', 753),\n",
              " ('boy', 747),\n",
              " ('white', 717),\n",
              " ('shirt', 673)]"
            ]
          },
          "metadata": {
            "tags": []
          },
          "execution_count": 53
        }
      ]
    },
    {
      "cell_type": "code",
      "metadata": {
        "colab": {
          "base_uri": "https://localhost:8080/"
        },
        "id": "nypTh0YRs13R",
        "outputId": "03c87ff3-b410-409a-be8c-cead22e85f10"
      },
      "source": [
        "all_train=[]\r\n",
        "for idx in range(len(encoding_train)):\r\n",
        "  all_train.append(percentage_bow(idx, encoding_train))\r\n",
        "q=np.mean(all_train)\r\n",
        "print('Średnia wartość BOW dla zbioru treningowego',q)"
      ],
      "execution_count": null,
      "outputs": [
        {
          "output_type": "stream",
          "text": [
            "Średnia wartość BOW dla zbioru treningowego 0.46224704184704185\n"
          ],
          "name": "stdout"
        }
      ]
    },
    {
      "cell_type": "code",
      "metadata": {
        "id": "cVkt1haXvnk-",
        "colab": {
          "base_uri": "https://localhost:8080/",
          "height": 393
        },
        "outputId": "16e2b903-512a-4548-cd35-a51289e37538"
      },
      "source": [
        "z = 999\r\n",
        "pic = list(encoding_test.keys())[z]\r\n",
        "image = encoding_test[pic].reshape((1,2048))\r\n",
        "x=plt.imread(Directory_path+pic)\r\n",
        "plt.imshow(x)\r\n",
        "plt.show()\r\n",
        "predicted = greedySearch(image)\r\n",
        "print(\"Greedy:\",predicted)\r\n",
        "print(\"Refs: \\n\", '\\n'.join(descriptions[pic.split('.')[0]]))"
      ],
      "execution_count": null,
      "outputs": [
        {
          "output_type": "display_data",
          "data": {
            "image/png": "[encoded data removed]",
            "text/plain": [
              "<Figure size 432x288 with 1 Axes>"
            ]
          },
          "metadata": {
            "tags": [],
            "needs_background": "light"
          }
        },
        {
          "output_type": "stream",
          "text": [
            "Greedy: the dog is playing with red ball\n",
            "Refs: \n",
            " big dog stands on his hand leg as tennis balls are thrown his direction\n",
            "brown and white dog in front of shed overwhelmed by the onslaught of tennis balls\n",
            "brown and white dogs stands in front of wooden building while tennis balls fly through the air\n",
            "dog jumps for several tennis balls thrown at him\n",
            "dog stands on his hind legs amid shower of tennis balls\n"
          ],
          "name": "stdout"
        }
      ]
    },
    {
      "cell_type": "code",
      "metadata": {
        "id": "mX98OIyR4BPb"
      },
      "source": [
        "#BOW dla zbioru testowego\r\n",
        "test=[]\r\n",
        "for i in range(len(encoding_test)):\r\n",
        "  bow1=bow_words(i, encoding_test)\r\n",
        "  test.append(bow1)"
      ],
      "execution_count": null,
      "outputs": []
    },
    {
      "cell_type": "code",
      "metadata": {
        "colab": {
          "base_uri": "https://localhost:8080/"
        },
        "id": "AuInF_f3bLfL",
        "outputId": "b54820e8-8f3e-40f0-f35d-0445b8d9137f"
      },
      "source": [
        "#BOW test predicted/listy wszystkich testowych\r\n",
        "z=1\r\n",
        "predi=predicted_edited(z, encoding_test)\r\n",
        "output_test=[]\r\n",
        "#for i in range(1,4):\r\n",
        "for i in range(len(encoding_test)):\r\n",
        "  licznik = 0\r\n",
        "  for x in predi:\r\n",
        "    if x in test[i]:\r\n",
        "      licznik+=1\r\n",
        "  out=licznik/len(predi)\r\n",
        "  output_test.append((i,out))\r\n",
        "print(output_test)\r\n",
        "#print(sorted(output_test, key=itemgetter(1)))\r\n",
        "wartosc=max(output_test, key=itemgetter(1))[0]\r\n",
        "print(wartosc)\r\n",
        "print('zbiór uczony', test[z])\r\n",
        "print('zbior naj', test[wartosc])"
      ],
      "execution_count": null,
      "outputs": [
        {
          "output_type": "stream",
          "text": [
            "[(0, 0.5), (1, 0.25), (2, 0.25), (3, 0.0), (4, 0.0), (5, 0.25), (6, 0.25), (7, 0.0), (8, 0.0), (9, 0.5), (10, 0.0), (11, 0.0), (12, 0.0), (13, 0.0), (14, 0.0), (15, 0.25), (16, 0.5), (17, 0.0), (18, 0.5), (19, 0.0), (20, 0.0), (21, 0.5), (22, 0.0), (23, 0.0), (24, 0.0), (25, 0.0), (26, 0.25), (27, 0.0), (28, 0.0), (29, 0.0), (30, 0.0), (31, 0.0), (32, 0.25), (33, 0.0), (34, 0.0), (35, 0.0), (36, 0.0), (37, 0.25), (38, 0.0), (39, 0.25), (40, 0.5), (41, 0.0), (42, 0.0), (43, 0.0), (44, 0.0), (45, 0.25), (46, 0.25), (47, 0.0), (48, 0.0), (49, 0.0), (50, 0.25), (51, 0.25), (52, 0.5), (53, 0.25), (54, 0.0), (55, 0.5), (56, 0.75), (57, 0.25), (58, 0.0), (59, 0.0), (60, 0.25), (61, 0.25), (62, 0.0), (63, 0.5), (64, 0.25), (65, 0.25), (66, 0.0), (67, 0.5), (68, 0.5), (69, 0.0), (70, 0.0), (71, 0.5), (72, 0.0), (73, 0.5), (74, 0.0), (75, 0.0), (76, 0.25), (77, 0.0), (78, 0.75), (79, 0.0), (80, 0.0), (81, 0.25), (82, 0.0), (83, 0.75), (84, 0.25), (85, 0.0), (86, 0.5), (87, 0.0), (88, 0.0), (89, 0.75), (90, 0.25), (91, 0.0), (92, 0.0), (93, 0.25), (94, 0.25), (95, 0.0), (96, 0.5), (97, 0.0), (98, 0.0), (99, 0.25), (100, 0.25), (101, 0.0), (102, 0.25), (103, 0.0), (104, 0.5), (105, 0.0), (106, 0.25), (107, 0.0), (108, 0.5), (109, 0.25), (110, 0.25), (111, 0.5), (112, 0.25), (113, 0.5), (114, 0.25), (115, 0.0), (116, 0.5), (117, 0.0), (118, 0.5), (119, 0.0), (120, 0.25), (121, 0.5), (122, 0.25), (123, 0.25), (124, 0.0), (125, 0.0), (126, 0.0), (127, 0.0), (128, 0.0), (129, 0.75), (130, 0.5), (131, 0.0), (132, 0.0), (133, 0.0), (134, 0.0), (135, 0.0), (136, 0.0), (137, 0.0), (138, 0.25), (139, 0.5), (140, 0.5), (141, 0.0), (142, 0.5), (143, 0.5), (144, 0.0), (145, 0.25), (146, 1.0), (147, 0.0), (148, 0.0), (149, 0.0), (150, 0.0), (151, 0.75), (152, 0.0), (153, 0.5), (154, 0.5), (155, 0.0), (156, 0.25), (157, 0.5), (158, 0.5), (159, 0.25), (160, 0.0), (161, 0.25), (162, 0.0), (163, 0.5), (164, 0.0), (165, 0.0), (166, 0.25), (167, 0.5), (168, 0.25), (169, 0.0), (170, 0.0), (171, 0.0), (172, 0.0), (173, 0.0), (174, 0.25), (175, 0.0), (176, 0.0), (177, 0.0), (178, 0.25), (179, 0.0), (180, 0.25), (181, 0.5), (182, 0.5), (183, 0.0), (184, 0.5), (185, 0.0), (186, 0.25), (187, 0.0), (188, 0.0), (189, 0.0), (190, 0.0), (191, 0.25), (192, 0.5), (193, 0.75), (194, 0.0), (195, 0.5), (196, 0.0), (197, 0.25), (198, 0.0), (199, 0.0), (200, 0.0), (201, 0.25), (202, 0.25), (203, 0.5), (204, 0.0), (205, 0.5), (206, 0.0), (207, 0.25), (208, 0.0), (209, 0.25), (210, 0.25), (211, 0.0), (212, 0.0), (213, 0.0), (214, 0.5), (215, 0.25), (216, 0.75), (217, 0.0), (218, 0.0), (219, 0.5), (220, 0.0), (221, 0.25), (222, 0.5), (223, 0.0), (224, 0.0), (225, 0.5), (226, 0.25), (227, 0.0), (228, 0.0), (229, 0.25), (230, 0.0), (231, 0.25), (232, 0.0), (233, 0.5), (234, 0.25), (235, 0.0), (236, 0.0), (237, 0.5), (238, 0.0), (239, 0.0), (240, 0.0), (241, 0.25), (242, 0.25), (243, 0.0), (244, 0.0), (245, 0.0), (246, 0.25), (247, 0.0), (248, 0.25), (249, 0.0), (250, 0.0), (251, 0.25), (252, 0.25), (253, 0.0), (254, 0.5), (255, 0.75), (256, 0.5), (257, 0.0), (258, 0.0), (259, 0.0), (260, 0.25), (261, 0.25), (262, 0.5), (263, 0.0), (264, 0.0), (265, 0.0), (266, 0.0), (267, 0.0), (268, 0.0), (269, 0.5), (270, 0.0), (271, 0.25), (272, 0.0), (273, 0.0), (274, 0.0), (275, 0.0), (276, 0.0), (277, 0.0), (278, 0.0), (279, 0.0), (280, 0.5), (281, 0.25), (282, 0.5), (283, 0.25), (284, 0.5), (285, 0.5), (286, 0.0), (287, 0.0), (288, 0.0), (289, 0.0), (290, 0.0), (291, 0.25), (292, 0.0), (293, 0.25), (294, 0.75), (295, 0.0), (296, 0.0), (297, 0.0), (298, 0.5), (299, 0.0), (300, 0.0), (301, 0.75), (302, 0.25), (303, 0.0), (304, 0.0), (305, 0.0), (306, 0.25), (307, 0.25), (308, 0.25), (309, 0.0), (310, 0.0), (311, 0.0), (312, 0.75), (313, 0.0), (314, 0.0), (315, 0.25), (316, 0.0), (317, 0.25), (318, 0.0), (319, 0.25), (320, 0.0), (321, 0.5), (322, 0.0), (323, 0.25), (324, 0.25), (325, 0.0), (326, 0.0), (327, 0.0), (328, 0.0), (329, 0.0), (330, 0.0), (331, 0.0), (332, 0.25), (333, 0.0), (334, 0.0), (335, 0.0), (336, 0.0), (337, 0.0), (338, 0.25), (339, 0.0), (340, 0.0), (341, 0.5), (342, 0.0), (343, 0.75), (344, 0.0), (345, 0.25), (346, 0.25), (347, 0.0), (348, 0.0), (349, 0.5), (350, 0.0), (351, 0.0), (352, 0.5), (353, 0.5), (354, 0.25), (355, 0.25), (356, 0.25), (357, 0.0), (358, 0.0), (359, 0.25), (360, 0.0), (361, 0.0), (362, 0.0), (363, 0.0), (364, 0.0), (365, 0.25), (366, 0.0), (367, 0.0), (368, 0.75), (369, 0.0), (370, 0.25), (371, 0.0), (372, 0.25), (373, 0.0), (374, 0.0), (375, 0.5), (376, 0.0), (377, 0.0), (378, 0.0), (379, 0.5), (380, 0.5), (381, 0.25), (382, 0.5), (383, 0.25), (384, 0.0), (385, 0.0), (386, 0.5), (387, 0.0), (388, 0.0), (389, 0.25), (390, 0.5), (391, 0.0), (392, 0.25), (393, 0.25), (394, 0.0), (395, 0.25), (396, 0.0), (397, 0.5), (398, 0.0), (399, 0.0), (400, 0.75), (401, 0.5), (402, 0.0), (403, 0.25), (404, 0.0), (405, 0.5), (406, 0.0), (407, 0.25), (408, 0.0), (409, 0.5), (410, 0.25), (411, 0.25), (412, 0.0), (413, 0.75), (414, 0.25), (415, 0.25), (416, 0.25), (417, 0.0), (418, 0.0), (419, 0.5), (420, 0.0), (421, 0.0), (422, 0.0), (423, 0.0), (424, 0.0), (425, 0.0), (426, 0.25), (427, 0.0), (428, 0.0), (429, 0.25), (430, 0.25), (431, 0.0), (432, 0.0), (433, 0.0), (434, 0.5), (435, 0.0), (436, 0.25), (437, 0.0), (438, 0.0), (439, 0.25), (440, 0.0), (441, 0.25), (442, 0.0), (443, 0.25), (444, 0.0), (445, 0.0), (446, 0.0), (447, 0.0), (448, 0.0), (449, 0.0), (450, 0.0), (451, 0.0), (452, 0.0), (453, 0.25), (454, 0.0), (455, 0.0), (456, 0.0), (457, 0.0), (458, 0.25), (459, 0.5), (460, 0.5), (461, 0.5), (462, 0.0), (463, 0.0), (464, 0.25), (465, 0.0), (466, 0.0), (467, 0.5), (468, 0.0), (469, 0.0), (470, 0.25), (471, 0.0), (472, 0.0), (473, 0.0), (474, 0.25), (475, 0.25), (476, 0.5), (477, 0.0), (478, 0.0), (479, 0.5), (480, 0.5), (481, 0.5), (482, 0.25), (483, 0.0), (484, 0.5), (485, 0.0), (486, 0.25), (487, 0.0), (488, 0.0), (489, 0.0), (490, 0.0), (491, 0.5), (492, 0.25), (493, 0.0), (494, 0.0), (495, 0.25), (496, 0.25), (497, 0.0), (498, 0.0), (499, 0.0), (500, 0.75), (501, 0.0), (502, 0.0), (503, 0.0), (504, 0.25), (505, 0.25), (506, 0.0), (507, 0.25), (508, 0.0), (509, 0.0), (510, 0.0), (511, 0.25), (512, 0.25), (513, 0.0), (514, 0.25), (515, 0.25), (516, 0.0), (517, 0.5), (518, 0.25), (519, 0.25), (520, 0.0), (521, 0.25), (522, 0.0), (523, 0.0), (524, 0.0), (525, 0.0), (526, 0.5), (527, 0.5), (528, 0.25), (529, 0.25), (530, 0.25), (531, 0.0), (532, 0.0), (533, 0.0), (534, 0.25), (535, 0.25), (536, 0.25), (537, 0.0), (538, 0.0), (539, 0.0), (540, 0.5), (541, 0.5), (542, 0.0), (543, 0.25), (544, 0.0), (545, 0.25), (546, 0.0), (547, 0.5), (548, 0.5), (549, 0.5), (550, 0.0), (551, 0.25), (552, 0.5), (553, 0.25), (554, 0.0), (555, 0.25), (556, 0.25), (557, 0.0), (558, 0.25), (559, 0.25), (560, 0.25), (561, 0.0), (562, 0.0), (563, 0.0), (564, 0.75), (565, 0.5), (566, 0.25), (567, 0.0), (568, 0.0), (569, 0.0), (570, 0.0), (571, 0.0), (572, 0.0), (573, 0.25), (574, 0.25), (575, 0.0), (576, 0.25), (577, 0.25), (578, 0.0), (579, 0.0), (580, 0.5), (581, 0.0), (582, 0.0), (583, 0.25), (584, 0.25), (585, 0.0), (586, 0.0), (587, 0.25), (588, 0.25), (589, 0.5), (590, 0.25), (591, 0.25), (592, 0.0), (593, 0.0), (594, 0.0), (595, 0.0), (596, 0.5), (597, 0.25), (598, 0.75), (599, 0.25), (600, 0.0), (601, 0.75), (602, 0.25), (603, 0.0), (604, 0.25), (605, 0.25), (606, 0.25), (607, 0.25), (608, 0.25), (609, 0.5), (610, 0.0), (611, 0.0), (612, 0.0), (613, 0.0), (614, 0.5), (615, 0.0), (616, 0.75), (617, 0.0), (618, 0.0), (619, 0.0), (620, 0.0), (621, 0.0), (622, 0.25), (623, 0.0), (624, 0.5), (625, 0.0), (626, 0.25), (627, 0.25), (628, 0.0), (629, 0.0), (630, 0.5), (631, 0.25), (632, 0.0), (633, 0.25), (634, 0.0), (635, 0.25), (636, 0.25), (637, 0.0), (638, 0.25), (639, 0.5), (640, 0.25), (641, 0.0), (642, 0.25), (643, 0.25), (644, 0.5), (645, 0.5), (646, 0.0), (647, 0.0), (648, 0.25), (649, 0.5), (650, 0.25), (651, 0.0), (652, 0.0), (653, 0.25), (654, 0.0), (655, 0.0), (656, 0.5), (657, 0.5), (658, 0.0), (659, 0.25), (660, 0.25), (661, 0.0), (662, 0.0), (663, 0.0), (664, 0.0), (665, 0.0), (666, 0.25), (667, 0.0), (668, 0.25), (669, 0.0), (670, 0.0), (671, 0.0), (672, 0.75), (673, 0.25), (674, 0.75), (675, 0.0), (676, 0.0), (677, 0.0), (678, 0.25), (679, 0.25), (680, 0.25), (681, 0.5), (682, 0.0), (683, 0.0), (684, 0.0), (685, 0.0), (686, 0.0), (687, 0.0), (688, 0.0), (689, 0.5), (690, 0.0), (691, 0.0), (692, 0.0), (693, 0.0), (694, 0.0), (695, 0.25), (696, 0.0), (697, 0.75), (698, 0.25), (699, 0.0), (700, 0.25), (701, 0.0), (702, 0.25), (703, 0.75), (704, 0.0), (705, 0.25), (706, 0.0), (707, 0.0), (708, 0.5), (709, 0.0), (710, 0.0), (711, 0.0), (712, 0.0), (713, 0.5), (714, 0.25), (715, 0.0), (716, 0.25), (717, 0.0), (718, 0.0), (719, 0.0), (720, 0.5), (721, 0.0), (722, 0.0), (723, 0.0), (724, 0.25), (725, 0.0), (726, 0.0), (727, 0.0), (728, 0.5), (729, 0.0), (730, 0.0), (731, 0.0), (732, 0.0), (733, 0.0), (734, 0.25), (735, 0.25), (736, 0.0), (737, 0.5), (738, 0.0), (739, 0.25), (740, 0.25), (741, 0.0), (742, 0.75), (743, 0.0), (744, 0.0), (745, 0.0), (746, 0.25), (747, 0.5), (748, 0.25), (749, 0.5), (750, 0.25), (751, 0.0), (752, 0.0), (753, 0.0), (754, 0.0), (755, 0.25), (756, 0.0), (757, 0.5), (758, 0.75), (759, 0.75), (760, 0.0), (761, 0.0), (762, 0.25), (763, 0.0), (764, 0.25), (765, 0.0), (766, 0.0), (767, 0.75), (768, 0.5), (769, 0.0), (770, 0.25), (771, 0.0), (772, 0.0), (773, 0.25), (774, 0.25), (775, 0.25), (776, 0.0), (777, 0.5), (778, 0.75), (779, 0.0), (780, 0.5), (781, 0.75), (782, 0.0), (783, 0.75), (784, 0.0), (785, 0.25), (786, 0.5), (787, 0.25), (788, 0.25), (789, 0.0), (790, 0.0), (791, 0.0), (792, 0.25), (793, 0.0), (794, 0.0), (795, 0.0), (796, 0.0), (797, 0.25), (798, 0.0), (799, 0.0), (800, 0.75), (801, 0.0), (802, 0.0), (803, 0.0), (804, 0.0), (805, 0.0), (806, 0.0), (807, 0.0), (808, 0.0), (809, 0.0), (810, 0.0), (811, 0.25), (812, 0.0), (813, 0.25), (814, 0.0), (815, 0.0), (816, 0.5), (817, 0.25), (818, 0.0), (819, 0.25), (820, 0.5), (821, 0.0), (822, 0.25), (823, 0.0), (824, 0.0), (825, 0.0), (826, 0.0), (827, 0.0), (828, 0.0), (829, 0.25), (830, 0.5), (831, 0.25), (832, 0.0), (833, 0.25), (834, 0.0), (835, 0.0), (836, 0.25), (837, 0.0), (838, 0.0), (839, 0.25), (840, 0.25), (841, 0.0), (842, 0.75), (843, 0.25), (844, 0.25), (845, 0.0), (846, 0.0), (847, 0.25), (848, 0.0), (849, 0.25), (850, 0.0), (851, 0.25), (852, 0.0), (853, 0.0), (854, 0.0), (855, 0.25), (856, 0.0), (857, 0.0), (858, 0.0), (859, 0.0), (860, 0.0), (861, 0.25), (862, 0.25), (863, 0.0), (864, 0.0), (865, 0.0), (866, 0.25), (867, 0.25), (868, 0.0), (869, 0.5), (870, 0.5), (871, 0.25), (872, 0.25), (873, 0.0), (874, 0.25), (875, 0.25), (876, 0.0), (877, 0.0), (878, 0.25), (879, 0.0), (880, 0.25), (881, 0.25), (882, 0.25), (883, 0.0), (884, 0.5), (885, 0.0), (886, 0.0), (887, 0.25), (888, 0.0), (889, 0.0), (890, 0.5), (891, 0.0), (892, 0.0), (893, 0.25), (894, 0.25), (895, 0.0), (896, 0.0), (897, 0.0), (898, 0.0), (899, 0.25), (900, 0.5), (901, 0.0), (902, 0.0), (903, 0.0), (904, 0.5), (905, 0.0), (906, 0.0), (907, 0.25), (908, 0.5), (909, 0.5), (910, 0.25), (911, 0.25), (912, 0.5), (913, 0.0), (914, 0.25), (915, 0.25), (916, 0.25), (917, 0.25), (918, 0.0), (919, 0.25), (920, 0.25), (921, 0.5), (922, 0.25), (923, 0.0), (924, 0.75), (925, 0.25), (926, 0.0), (927, 0.0), (928, 0.0), (929, 0.0), (930, 0.0), (931, 0.0), (932, 0.0), (933, 0.5), (934, 0.0), (935, 0.0), (936, 0.0), (937, 0.5), (938, 0.25), (939, 0.0), (940, 0.25), (941, 0.0), (942, 0.25), (943, 0.25), (944, 0.25), (945, 0.25), (946, 0.0), (947, 0.5), (948, 0.25), (949, 0.0), (950, 0.25), (951, 0.0), (952, 0.25), (953, 0.0), (954, 0.0), (955, 0.25), (956, 0.0), (957, 0.25), (958, 0.0), (959, 0.25), (960, 0.25), (961, 0.0), (962, 0.5), (963, 0.0), (964, 0.0), (965, 0.5), (966, 0.5), (967, 0.0), (968, 0.25), (969, 0.25), (970, 0.0), (971, 0.0), (972, 0.25), (973, 0.0), (974, 0.0), (975, 0.0), (976, 0.0), (977, 0.5), (978, 0.0), (979, 0.25), (980, 0.25), (981, 0.0), (982, 0.0), (983, 0.0), (984, 0.0), (985, 0.0), (986, 0.5), (987, 0.5), (988, 0.0), (989, 0.0), (990, 0.0), (991, 0.0), (992, 0.0), (993, 0.75), (994, 0.25), (995, 0.0), (996, 0.75), (997, 0.25), (998, 0.0), (999, 0.0)]\n",
            "146\n",
            "zbiór uczony ['brown', 'white', 'dog', 'swim', 'toward', 'pool', 'sombodi', 'cannot', 'see', 'near', 'person', 'small', 'paddl', 'water']\n",
            "zbior naj ['boy', 'beach', 'ball', 'behind', 'play', 'pool', 'young', 'around', 'jacuzzi', 'child', 'inflat', 'laugh', 'swam', 'two', 'float', 'nearbi']\n"
          ],
          "name": "stdout"
        }
      ]
    },
    {
      "cell_type": "code",
      "metadata": {
        "id": "lrE9Cs7RcwGK"
      },
      "source": [
        "def best_image_bow_test(image): #wartość max ze zbioru\r\n",
        "  pred=predicted_edited(image, encoding_test)\r\n",
        "  output_test=[]\r\n",
        "  for i in range(len(encoding_test)):\r\n",
        "    licznik=0\r\n",
        "    for x in pred:\r\n",
        "      if x in test[i]:\r\n",
        "        licznik+=1\r\n",
        "    out=licznik/len(pred)\r\n",
        "    output_test.append((i,out))\r\n",
        "  wartosc=max(output_test, key=itemgetter(1))[0]\r\n",
        "  return wartosc #zwraca nam wartość indeksu, czyli numer obrazka zbioru"
      ],
      "execution_count": null,
      "outputs": []
    },
    {
      "cell_type": "code",
      "metadata": {
        "id": "67iHgwmLwVYz"
      },
      "source": [
        "def best_image_bow2_test(image):\r\n",
        "  pred=predicted_edited(image, encoding_test)\r\n",
        "  output_test=[]\r\n",
        "  for i in range(len(encoding_test)):\r\n",
        "    licznik=0\r\n",
        "    for x in pred:\r\n",
        "      if x in test[i]:\r\n",
        "        licznik+=1\r\n",
        "    out=licznik/len(pred)\r\n",
        "    output_test.append(out)\r\n",
        "  wartosc=np.max(output_test)\r\n",
        "  return output_test, wartosc"
      ],
      "execution_count": null,
      "outputs": []
    },
    {
      "cell_type": "code",
      "metadata": {
        "colab": {
          "base_uri": "https://localhost:8080/"
        },
        "id": "JF0Erh3JcivQ",
        "outputId": "1dca1bb9-1eff-4bea-92b7-8995cbea4923"
      },
      "source": [
        "best_image_bow2_test(1)"
      ],
      "execution_count": null,
      "outputs": [
        {
          "output_type": "execute_result",
          "data": {
            "text/plain": [
              "([0.5,\n",
              "  0.25,\n",
              "  0.25,\n",
              "  0.0,\n",
              "  0.0,\n",
              "  0.25,\n",
              "  0.25,\n",
              "  0.0,\n",
              "  0.0,\n",
              "  0.5,\n",
              "  0.0,\n",
              "  0.0,\n",
              "  0.0,\n",
              "  0.0,\n",
              "  0.0,\n",
              "  0.25,\n",
              "  0.5,\n",
              "  0.0,\n",
              "  0.5,\n",
              "  0.0,\n",
              "  0.0,\n",
              "  0.5,\n",
              "  0.0,\n",
              "  0.0,\n",
              "  0.0,\n",
              "  0.0,\n",
              "  0.25,\n",
              "  0.0,\n",
              "  0.0,\n",
              "  0.0,\n",
              "  0.0,\n",
              "  0.0,\n",
              "  0.25,\n",
              "  0.0,\n",
              "  0.0,\n",
              "  0.0,\n",
              "  0.0,\n",
              "  0.25,\n",
              "  0.0,\n",
              "  0.25,\n",
              "  0.5,\n",
              "  0.0,\n",
              "  0.0,\n",
              "  0.0,\n",
              "  0.0,\n",
              "  0.25,\n",
              "  0.25,\n",
              "  0.0,\n",
              "  0.0,\n",
              "  0.0,\n",
              "  0.25,\n",
              "  0.25,\n",
              "  0.5,\n",
              "  0.25,\n",
              "  0.0,\n",
              "  0.5,\n",
              "  0.75,\n",
              "  0.25,\n",
              "  0.0,\n",
              "  0.0,\n",
              "  0.25,\n",
              "  0.25,\n",
              "  0.0,\n",
              "  0.5,\n",
              "  0.25,\n",
              "  0.25,\n",
              "  0.0,\n",
              "  0.5,\n",
              "  0.5,\n",
              "  0.0,\n",
              "  0.0,\n",
              "  0.5,\n",
              "  0.0,\n",
              "  0.5,\n",
              "  0.0,\n",
              "  0.0,\n",
              "  0.25,\n",
              "  0.0,\n",
              "  0.75,\n",
              "  0.0,\n",
              "  0.0,\n",
              "  0.25,\n",
              "  0.0,\n",
              "  0.75,\n",
              "  0.25,\n",
              "  0.0,\n",
              "  0.5,\n",
              "  0.0,\n",
              "  0.0,\n",
              "  0.75,\n",
              "  0.25,\n",
              "  0.0,\n",
              "  0.0,\n",
              "  0.25,\n",
              "  0.25,\n",
              "  0.0,\n",
              "  0.5,\n",
              "  0.0,\n",
              "  0.0,\n",
              "  0.25,\n",
              "  0.25,\n",
              "  0.0,\n",
              "  0.25,\n",
              "  0.0,\n",
              "  0.5,\n",
              "  0.0,\n",
              "  0.25,\n",
              "  0.0,\n",
              "  0.5,\n",
              "  0.25,\n",
              "  0.25,\n",
              "  0.5,\n",
              "  0.25,\n",
              "  0.5,\n",
              "  0.25,\n",
              "  0.0,\n",
              "  0.5,\n",
              "  0.0,\n",
              "  0.5,\n",
              "  0.0,\n",
              "  0.25,\n",
              "  0.5,\n",
              "  0.25,\n",
              "  0.25,\n",
              "  0.0,\n",
              "  0.0,\n",
              "  0.0,\n",
              "  0.0,\n",
              "  0.0,\n",
              "  0.75,\n",
              "  0.5,\n",
              "  0.0,\n",
              "  0.0,\n",
              "  0.0,\n",
              "  0.0,\n",
              "  0.0,\n",
              "  0.0,\n",
              "  0.0,\n",
              "  0.25,\n",
              "  0.5,\n",
              "  0.5,\n",
              "  0.0,\n",
              "  0.5,\n",
              "  0.5,\n",
              "  0.0,\n",
              "  0.25,\n",
              "  1.0,\n",
              "  0.0,\n",
              "  0.0,\n",
              "  0.0,\n",
              "  0.0,\n",
              "  0.75,\n",
              "  0.0,\n",
              "  0.5,\n",
              "  0.5,\n",
              "  0.0,\n",
              "  0.25,\n",
              "  0.5,\n",
              "  0.5,\n",
              "  0.25,\n",
              "  0.0,\n",
              "  0.25,\n",
              "  0.0,\n",
              "  0.5,\n",
              "  0.0,\n",
              "  0.0,\n",
              "  0.25,\n",
              "  0.5,\n",
              "  0.25,\n",
              "  0.0,\n",
              "  0.0,\n",
              "  0.0,\n",
              "  0.0,\n",
              "  0.0,\n",
              "  0.25,\n",
              "  0.0,\n",
              "  0.0,\n",
              "  0.0,\n",
              "  0.25,\n",
              "  0.0,\n",
              "  0.25,\n",
              "  0.5,\n",
              "  0.5,\n",
              "  0.0,\n",
              "  0.5,\n",
              "  0.0,\n",
              "  0.25,\n",
              "  0.0,\n",
              "  0.0,\n",
              "  0.0,\n",
              "  0.0,\n",
              "  0.25,\n",
              "  0.5,\n",
              "  0.75,\n",
              "  0.0,\n",
              "  0.5,\n",
              "  0.0,\n",
              "  0.25,\n",
              "  0.0,\n",
              "  0.0,\n",
              "  0.0,\n",
              "  0.25,\n",
              "  0.25,\n",
              "  0.5,\n",
              "  0.0,\n",
              "  0.5,\n",
              "  0.0,\n",
              "  0.25,\n",
              "  0.0,\n",
              "  0.25,\n",
              "  0.25,\n",
              "  0.0,\n",
              "  0.0,\n",
              "  0.0,\n",
              "  0.5,\n",
              "  0.25,\n",
              "  0.75,\n",
              "  0.0,\n",
              "  0.0,\n",
              "  0.5,\n",
              "  0.0,\n",
              "  0.25,\n",
              "  0.5,\n",
              "  0.0,\n",
              "  0.0,\n",
              "  0.5,\n",
              "  0.25,\n",
              "  0.0,\n",
              "  0.0,\n",
              "  0.25,\n",
              "  0.0,\n",
              "  0.25,\n",
              "  0.0,\n",
              "  0.5,\n",
              "  0.25,\n",
              "  0.0,\n",
              "  0.0,\n",
              "  0.5,\n",
              "  0.0,\n",
              "  0.0,\n",
              "  0.0,\n",
              "  0.25,\n",
              "  0.25,\n",
              "  0.0,\n",
              "  0.0,\n",
              "  0.0,\n",
              "  0.25,\n",
              "  0.0,\n",
              "  0.25,\n",
              "  0.0,\n",
              "  0.0,\n",
              "  0.25,\n",
              "  0.25,\n",
              "  0.0,\n",
              "  0.5,\n",
              "  0.75,\n",
              "  0.5,\n",
              "  0.0,\n",
              "  0.0,\n",
              "  0.0,\n",
              "  0.25,\n",
              "  0.25,\n",
              "  0.5,\n",
              "  0.0,\n",
              "  0.0,\n",
              "  0.0,\n",
              "  0.0,\n",
              "  0.0,\n",
              "  0.0,\n",
              "  0.5,\n",
              "  0.0,\n",
              "  0.25,\n",
              "  0.0,\n",
              "  0.0,\n",
              "  0.0,\n",
              "  0.0,\n",
              "  0.0,\n",
              "  0.0,\n",
              "  0.0,\n",
              "  0.0,\n",
              "  0.5,\n",
              "  0.25,\n",
              "  0.5,\n",
              "  0.25,\n",
              "  0.5,\n",
              "  0.5,\n",
              "  0.0,\n",
              "  0.0,\n",
              "  0.0,\n",
              "  0.0,\n",
              "  0.0,\n",
              "  0.25,\n",
              "  0.0,\n",
              "  0.25,\n",
              "  0.75,\n",
              "  0.0,\n",
              "  0.0,\n",
              "  0.0,\n",
              "  0.5,\n",
              "  0.0,\n",
              "  0.0,\n",
              "  0.75,\n",
              "  0.25,\n",
              "  0.0,\n",
              "  0.0,\n",
              "  0.0,\n",
              "  0.25,\n",
              "  0.25,\n",
              "  0.25,\n",
              "  0.0,\n",
              "  0.0,\n",
              "  0.0,\n",
              "  0.75,\n",
              "  0.0,\n",
              "  0.0,\n",
              "  0.25,\n",
              "  0.0,\n",
              "  0.25,\n",
              "  0.0,\n",
              "  0.25,\n",
              "  0.0,\n",
              "  0.5,\n",
              "  0.0,\n",
              "  0.25,\n",
              "  0.25,\n",
              "  0.0,\n",
              "  0.0,\n",
              "  0.0,\n",
              "  0.0,\n",
              "  0.0,\n",
              "  0.0,\n",
              "  0.0,\n",
              "  0.25,\n",
              "  0.0,\n",
              "  0.0,\n",
              "  0.0,\n",
              "  0.0,\n",
              "  0.0,\n",
              "  0.25,\n",
              "  0.0,\n",
              "  0.0,\n",
              "  0.5,\n",
              "  0.0,\n",
              "  0.75,\n",
              "  0.0,\n",
              "  0.25,\n",
              "  0.25,\n",
              "  0.0,\n",
              "  0.0,\n",
              "  0.5,\n",
              "  0.0,\n",
              "  0.0,\n",
              "  0.5,\n",
              "  0.5,\n",
              "  0.25,\n",
              "  0.25,\n",
              "  0.25,\n",
              "  0.0,\n",
              "  0.0,\n",
              "  0.25,\n",
              "  0.0,\n",
              "  0.0,\n",
              "  0.0,\n",
              "  0.0,\n",
              "  0.0,\n",
              "  0.25,\n",
              "  0.0,\n",
              "  0.0,\n",
              "  0.75,\n",
              "  0.0,\n",
              "  0.25,\n",
              "  0.0,\n",
              "  0.25,\n",
              "  0.0,\n",
              "  0.0,\n",
              "  0.5,\n",
              "  0.0,\n",
              "  0.0,\n",
              "  0.0,\n",
              "  0.5,\n",
              "  0.5,\n",
              "  0.25,\n",
              "  0.5,\n",
              "  0.25,\n",
              "  0.0,\n",
              "  0.0,\n",
              "  0.5,\n",
              "  0.0,\n",
              "  0.0,\n",
              "  0.25,\n",
              "  0.5,\n",
              "  0.0,\n",
              "  0.25,\n",
              "  0.25,\n",
              "  0.0,\n",
              "  0.25,\n",
              "  0.0,\n",
              "  0.5,\n",
              "  0.0,\n",
              "  0.0,\n",
              "  0.75,\n",
              "  0.5,\n",
              "  0.0,\n",
              "  0.25,\n",
              "  0.0,\n",
              "  0.5,\n",
              "  0.0,\n",
              "  0.25,\n",
              "  0.0,\n",
              "  0.5,\n",
              "  0.25,\n",
              "  0.25,\n",
              "  0.0,\n",
              "  0.75,\n",
              "  0.25,\n",
              "  0.25,\n",
              "  0.25,\n",
              "  0.0,\n",
              "  0.0,\n",
              "  0.5,\n",
              "  0.0,\n",
              "  0.0,\n",
              "  0.0,\n",
              "  0.0,\n",
              "  0.0,\n",
              "  0.0,\n",
              "  0.25,\n",
              "  0.0,\n",
              "  0.0,\n",
              "  0.25,\n",
              "  0.25,\n",
              "  0.0,\n",
              "  0.0,\n",
              "  0.0,\n",
              "  0.5,\n",
              "  0.0,\n",
              "  0.25,\n",
              "  0.0,\n",
              "  0.0,\n",
              "  0.25,\n",
              "  0.0,\n",
              "  0.25,\n",
              "  0.0,\n",
              "  0.25,\n",
              "  0.0,\n",
              "  0.0,\n",
              "  0.0,\n",
              "  0.0,\n",
              "  0.0,\n",
              "  0.0,\n",
              "  0.0,\n",
              "  0.0,\n",
              "  0.0,\n",
              "  0.25,\n",
              "  0.0,\n",
              "  0.0,\n",
              "  0.0,\n",
              "  0.0,\n",
              "  0.25,\n",
              "  0.5,\n",
              "  0.5,\n",
              "  0.5,\n",
              "  0.0,\n",
              "  0.0,\n",
              "  0.25,\n",
              "  0.0,\n",
              "  0.0,\n",
              "  0.5,\n",
              "  0.0,\n",
              "  0.0,\n",
              "  0.25,\n",
              "  0.0,\n",
              "  0.0,\n",
              "  0.0,\n",
              "  0.25,\n",
              "  0.25,\n",
              "  0.5,\n",
              "  0.0,\n",
              "  0.0,\n",
              "  0.5,\n",
              "  0.5,\n",
              "  0.5,\n",
              "  0.25,\n",
              "  0.0,\n",
              "  0.5,\n",
              "  0.0,\n",
              "  0.25,\n",
              "  0.0,\n",
              "  0.0,\n",
              "  0.0,\n",
              "  0.0,\n",
              "  0.5,\n",
              "  0.25,\n",
              "  0.0,\n",
              "  0.0,\n",
              "  0.25,\n",
              "  0.25,\n",
              "  0.0,\n",
              "  0.0,\n",
              "  0.0,\n",
              "  0.75,\n",
              "  0.0,\n",
              "  0.0,\n",
              "  0.0,\n",
              "  0.25,\n",
              "  0.25,\n",
              "  0.0,\n",
              "  0.25,\n",
              "  0.0,\n",
              "  0.0,\n",
              "  0.0,\n",
              "  0.25,\n",
              "  0.25,\n",
              "  0.0,\n",
              "  0.25,\n",
              "  0.25,\n",
              "  0.0,\n",
              "  0.5,\n",
              "  0.25,\n",
              "  0.25,\n",
              "  0.0,\n",
              "  0.25,\n",
              "  0.0,\n",
              "  0.0,\n",
              "  0.0,\n",
              "  0.0,\n",
              "  0.5,\n",
              "  0.5,\n",
              "  0.25,\n",
              "  0.25,\n",
              "  0.25,\n",
              "  0.0,\n",
              "  0.0,\n",
              "  0.0,\n",
              "  0.25,\n",
              "  0.25,\n",
              "  0.25,\n",
              "  0.0,\n",
              "  0.0,\n",
              "  0.0,\n",
              "  0.5,\n",
              "  0.5,\n",
              "  0.0,\n",
              "  0.25,\n",
              "  0.0,\n",
              "  0.25,\n",
              "  0.0,\n",
              "  0.5,\n",
              "  0.5,\n",
              "  0.5,\n",
              "  0.0,\n",
              "  0.25,\n",
              "  0.5,\n",
              "  0.25,\n",
              "  0.0,\n",
              "  0.25,\n",
              "  0.25,\n",
              "  0.0,\n",
              "  0.25,\n",
              "  0.25,\n",
              "  0.25,\n",
              "  0.0,\n",
              "  0.0,\n",
              "  0.0,\n",
              "  0.75,\n",
              "  0.5,\n",
              "  0.25,\n",
              "  0.0,\n",
              "  0.0,\n",
              "  0.0,\n",
              "  0.0,\n",
              "  0.0,\n",
              "  0.0,\n",
              "  0.25,\n",
              "  0.25,\n",
              "  0.0,\n",
              "  0.25,\n",
              "  0.25,\n",
              "  0.0,\n",
              "  0.0,\n",
              "  0.5,\n",
              "  0.0,\n",
              "  0.0,\n",
              "  0.25,\n",
              "  0.25,\n",
              "  0.0,\n",
              "  0.0,\n",
              "  0.25,\n",
              "  0.25,\n",
              "  0.5,\n",
              "  0.25,\n",
              "  0.25,\n",
              "  0.0,\n",
              "  0.0,\n",
              "  0.0,\n",
              "  0.0,\n",
              "  0.5,\n",
              "  0.25,\n",
              "  0.75,\n",
              "  0.25,\n",
              "  0.0,\n",
              "  0.75,\n",
              "  0.25,\n",
              "  0.0,\n",
              "  0.25,\n",
              "  0.25,\n",
              "  0.25,\n",
              "  0.25,\n",
              "  0.25,\n",
              "  0.5,\n",
              "  0.0,\n",
              "  0.0,\n",
              "  0.0,\n",
              "  0.0,\n",
              "  0.5,\n",
              "  0.0,\n",
              "  0.75,\n",
              "  0.0,\n",
              "  0.0,\n",
              "  0.0,\n",
              "  0.0,\n",
              "  0.0,\n",
              "  0.25,\n",
              "  0.0,\n",
              "  0.5,\n",
              "  0.0,\n",
              "  0.25,\n",
              "  0.25,\n",
              "  0.0,\n",
              "  0.0,\n",
              "  0.5,\n",
              "  0.25,\n",
              "  0.0,\n",
              "  0.25,\n",
              "  0.0,\n",
              "  0.25,\n",
              "  0.25,\n",
              "  0.0,\n",
              "  0.25,\n",
              "  0.5,\n",
              "  0.25,\n",
              "  0.0,\n",
              "  0.25,\n",
              "  0.25,\n",
              "  0.5,\n",
              "  0.5,\n",
              "  0.0,\n",
              "  0.0,\n",
              "  0.25,\n",
              "  0.5,\n",
              "  0.25,\n",
              "  0.0,\n",
              "  0.0,\n",
              "  0.25,\n",
              "  0.0,\n",
              "  0.0,\n",
              "  0.5,\n",
              "  0.5,\n",
              "  0.0,\n",
              "  0.25,\n",
              "  0.25,\n",
              "  0.0,\n",
              "  0.0,\n",
              "  0.0,\n",
              "  0.0,\n",
              "  0.0,\n",
              "  0.25,\n",
              "  0.0,\n",
              "  0.25,\n",
              "  0.0,\n",
              "  0.0,\n",
              "  0.0,\n",
              "  0.75,\n",
              "  0.25,\n",
              "  0.75,\n",
              "  0.0,\n",
              "  0.0,\n",
              "  0.0,\n",
              "  0.25,\n",
              "  0.25,\n",
              "  0.25,\n",
              "  0.5,\n",
              "  0.0,\n",
              "  0.0,\n",
              "  0.0,\n",
              "  0.0,\n",
              "  0.0,\n",
              "  0.0,\n",
              "  0.0,\n",
              "  0.5,\n",
              "  0.0,\n",
              "  0.0,\n",
              "  0.0,\n",
              "  0.0,\n",
              "  0.0,\n",
              "  0.25,\n",
              "  0.0,\n",
              "  0.75,\n",
              "  0.25,\n",
              "  0.0,\n",
              "  0.25,\n",
              "  0.0,\n",
              "  0.25,\n",
              "  0.75,\n",
              "  0.0,\n",
              "  0.25,\n",
              "  0.0,\n",
              "  0.0,\n",
              "  0.5,\n",
              "  0.0,\n",
              "  0.0,\n",
              "  0.0,\n",
              "  0.0,\n",
              "  0.5,\n",
              "  0.25,\n",
              "  0.0,\n",
              "  0.25,\n",
              "  0.0,\n",
              "  0.0,\n",
              "  0.0,\n",
              "  0.5,\n",
              "  0.0,\n",
              "  0.0,\n",
              "  0.0,\n",
              "  0.25,\n",
              "  0.0,\n",
              "  0.0,\n",
              "  0.0,\n",
              "  0.5,\n",
              "  0.0,\n",
              "  0.0,\n",
              "  0.0,\n",
              "  0.0,\n",
              "  0.0,\n",
              "  0.25,\n",
              "  0.25,\n",
              "  0.0,\n",
              "  0.5,\n",
              "  0.0,\n",
              "  0.25,\n",
              "  0.25,\n",
              "  0.0,\n",
              "  0.75,\n",
              "  0.0,\n",
              "  0.0,\n",
              "  0.0,\n",
              "  0.25,\n",
              "  0.5,\n",
              "  0.25,\n",
              "  0.5,\n",
              "  0.25,\n",
              "  0.0,\n",
              "  0.0,\n",
              "  0.0,\n",
              "  0.0,\n",
              "  0.25,\n",
              "  0.0,\n",
              "  0.5,\n",
              "  0.75,\n",
              "  0.75,\n",
              "  0.0,\n",
              "  0.0,\n",
              "  0.25,\n",
              "  0.0,\n",
              "  0.25,\n",
              "  0.0,\n",
              "  0.0,\n",
              "  0.75,\n",
              "  0.5,\n",
              "  0.0,\n",
              "  0.25,\n",
              "  0.0,\n",
              "  0.0,\n",
              "  0.25,\n",
              "  0.25,\n",
              "  0.25,\n",
              "  0.0,\n",
              "  0.5,\n",
              "  0.75,\n",
              "  0.0,\n",
              "  0.5,\n",
              "  0.75,\n",
              "  0.0,\n",
              "  0.75,\n",
              "  0.0,\n",
              "  0.25,\n",
              "  0.5,\n",
              "  0.25,\n",
              "  0.25,\n",
              "  0.0,\n",
              "  0.0,\n",
              "  0.0,\n",
              "  0.25,\n",
              "  0.0,\n",
              "  0.0,\n",
              "  0.0,\n",
              "  0.0,\n",
              "  0.25,\n",
              "  0.0,\n",
              "  0.0,\n",
              "  0.75,\n",
              "  0.0,\n",
              "  0.0,\n",
              "  0.0,\n",
              "  0.0,\n",
              "  0.0,\n",
              "  0.0,\n",
              "  0.0,\n",
              "  0.0,\n",
              "  0.0,\n",
              "  0.0,\n",
              "  0.25,\n",
              "  0.0,\n",
              "  0.25,\n",
              "  0.0,\n",
              "  0.0,\n",
              "  0.5,\n",
              "  0.25,\n",
              "  0.0,\n",
              "  0.25,\n",
              "  0.5,\n",
              "  0.0,\n",
              "  0.25,\n",
              "  0.0,\n",
              "  0.0,\n",
              "  0.0,\n",
              "  0.0,\n",
              "  0.0,\n",
              "  0.0,\n",
              "  0.25,\n",
              "  0.5,\n",
              "  0.25,\n",
              "  0.0,\n",
              "  0.25,\n",
              "  0.0,\n",
              "  0.0,\n",
              "  0.25,\n",
              "  0.0,\n",
              "  0.0,\n",
              "  0.25,\n",
              "  0.25,\n",
              "  0.0,\n",
              "  0.75,\n",
              "  0.25,\n",
              "  0.25,\n",
              "  0.0,\n",
              "  0.0,\n",
              "  0.25,\n",
              "  0.0,\n",
              "  0.25,\n",
              "  0.0,\n",
              "  0.25,\n",
              "  0.0,\n",
              "  0.0,\n",
              "  0.0,\n",
              "  0.25,\n",
              "  0.0,\n",
              "  0.0,\n",
              "  0.0,\n",
              "  0.0,\n",
              "  0.0,\n",
              "  0.25,\n",
              "  0.25,\n",
              "  0.0,\n",
              "  0.0,\n",
              "  0.0,\n",
              "  0.25,\n",
              "  0.25,\n",
              "  0.0,\n",
              "  0.5,\n",
              "  0.5,\n",
              "  0.25,\n",
              "  0.25,\n",
              "  0.0,\n",
              "  0.25,\n",
              "  0.25,\n",
              "  0.0,\n",
              "  0.0,\n",
              "  0.25,\n",
              "  0.0,\n",
              "  0.25,\n",
              "  0.25,\n",
              "  0.25,\n",
              "  0.0,\n",
              "  0.5,\n",
              "  0.0,\n",
              "  0.0,\n",
              "  0.25,\n",
              "  0.0,\n",
              "  0.0,\n",
              "  0.5,\n",
              "  0.0,\n",
              "  0.0,\n",
              "  0.25,\n",
              "  0.25,\n",
              "  0.0,\n",
              "  0.0,\n",
              "  0.0,\n",
              "  0.0,\n",
              "  0.25,\n",
              "  0.5,\n",
              "  0.0,\n",
              "  0.0,\n",
              "  0.0,\n",
              "  0.5,\n",
              "  0.0,\n",
              "  0.0,\n",
              "  0.25,\n",
              "  0.5,\n",
              "  0.5,\n",
              "  0.25,\n",
              "  0.25,\n",
              "  0.5,\n",
              "  0.0,\n",
              "  0.25,\n",
              "  0.25,\n",
              "  0.25,\n",
              "  0.25,\n",
              "  0.0,\n",
              "  0.25,\n",
              "  0.25,\n",
              "  0.5,\n",
              "  0.25,\n",
              "  0.0,\n",
              "  0.75,\n",
              "  0.25,\n",
              "  0.0,\n",
              "  0.0,\n",
              "  0.0,\n",
              "  0.0,\n",
              "  0.0,\n",
              "  0.0,\n",
              "  0.0,\n",
              "  0.5,\n",
              "  0.0,\n",
              "  0.0,\n",
              "  0.0,\n",
              "  0.5,\n",
              "  0.25,\n",
              "  0.0,\n",
              "  0.25,\n",
              "  0.0,\n",
              "  0.25,\n",
              "  0.25,\n",
              "  0.25,\n",
              "  0.25,\n",
              "  0.0,\n",
              "  0.5,\n",
              "  0.25,\n",
              "  0.0,\n",
              "  0.25,\n",
              "  0.0,\n",
              "  0.25,\n",
              "  0.0,\n",
              "  0.0,\n",
              "  0.25,\n",
              "  0.0,\n",
              "  0.25,\n",
              "  0.0,\n",
              "  0.25,\n",
              "  0.25,\n",
              "  0.0,\n",
              "  0.5,\n",
              "  0.0,\n",
              "  0.0,\n",
              "  0.5,\n",
              "  0.5,\n",
              "  0.0,\n",
              "  0.25,\n",
              "  0.25,\n",
              "  0.0,\n",
              "  0.0,\n",
              "  0.25,\n",
              "  0.0,\n",
              "  0.0,\n",
              "  0.0,\n",
              "  0.0,\n",
              "  0.5,\n",
              "  0.0,\n",
              "  0.25,\n",
              "  0.25,\n",
              "  0.0,\n",
              "  0.0,\n",
              "  0.0,\n",
              "  0.0,\n",
              "  0.0,\n",
              "  0.5,\n",
              "  0.5,\n",
              "  0.0,\n",
              "  0.0,\n",
              "  0.0,\n",
              "  0.0,\n",
              "  0.0,\n",
              "  0.75,\n",
              "  0.25,\n",
              "  0.0,\n",
              "  0.75,\n",
              "  0.25,\n",
              "  0.0,\n",
              "  0.0],\n",
              " 1.0)"
            ]
          },
          "metadata": {
            "tags": []
          },
          "execution_count": 47
        }
      ]
    },
    {
      "cell_type": "code",
      "metadata": {
        "id": "yVHNlLwBLwAx"
      },
      "source": [
        "#dla zbioru testowego\r\n",
        "bow_test_all = 0\r\n",
        "good = []\r\n",
        "wrong_worki_uczace = []\r\n",
        "wrong_worki_najlepsze = []\r\n",
        "pred_good = []\r\n",
        "pred_wrong = []\r\n",
        "for i in range(len(encoding_test)):\r\n",
        "  indeks_test = best_image_bow_test(i)\r\n",
        "  value_max=best_image_bow2_test(indeks)\r\n",
        "  image_val=best_image_bow2_test(i)\r\n",
        "  pred=predicted_edited(i, encoding_train)\r\n",
        "  if round(value_max,2) == round(image_val,2):\r\n",
        "  #if i == indeks_test:\r\n",
        "    bow_test_all = bow_test_all+1\r\n",
        "    for x in train[i]:\r\n",
        "      good.append(x)\r\n",
        "    for x in pred:\r\n",
        "      pred_good.append(x)\r\n",
        "  else:\r\n",
        "    for x in train[indeks]:\r\n",
        "      wrong_worki_najlepsze.append(x)\r\n",
        "    for x in train[i]:\r\n",
        "      wrong_worki_uczace.append(x)\r\n",
        "    for x in pred:\r\n",
        "      pred_wrong.append(x)\r\n",
        "answer_test = bow_test_all/(len(encoding_test))\r\n",
        "print('Dopasowanie najlepszego zbioru do zbioru testowego', answer_test)"
      ],
      "execution_count": null,
      "outputs": []
    },
    {
      "cell_type": "code",
      "metadata": {
        "id": "qDrrm3mWBAOj"
      },
      "source": [
        "#zdania przewidziane poprawnie\r\n",
        "fdist = FreqDist(pred_good)\r\n",
        "print(fdist)\r\n",
        "fdist.plot(30,cumulative=False)\r\n",
        "plt.show()\r\n",
        "fdist.most_common(10)"
      ],
      "execution_count": null,
      "outputs": []
    },
    {
      "cell_type": "code",
      "metadata": {
        "id": "bskbyhhnBA3w"
      },
      "source": [
        "#worki dla zdań przewidzianych poprawnie\r\n",
        "fdist = FreqDist(good)\r\n",
        "print(fdist)\r\n",
        "fdist.plot(30,cumulative=False)\r\n",
        "plt.show()\r\n",
        "fdist.most_common(10)"
      ],
      "execution_count": null,
      "outputs": []
    },
    {
      "cell_type": "code",
      "metadata": {
        "id": "FnksB0uPBDrC"
      },
      "source": [
        "#zdania przewidziane źle\r\n",
        "fdist = FreqDist(pred_wrong)\r\n",
        "print(fdist)\r\n",
        "fdist.plot(30,cumulative=False)\r\n",
        "plt.show()\r\n",
        "fdist.most_common(10)"
      ],
      "execution_count": null,
      "outputs": []
    },
    {
      "cell_type": "code",
      "metadata": {
        "id": "KiwsztLVBGM1"
      },
      "source": [
        "#worki dla zdań przewidzianych źle, najlepsze\r\n",
        "fdist = FreqDist(wrong_worki_najlepsze)\r\n",
        "print(fdist)\r\n",
        "fdist.plot(30,cumulative=False)\r\n",
        "plt.show()\r\n",
        "fdist.most_common(10)"
      ],
      "execution_count": null,
      "outputs": []
    },
    {
      "cell_type": "code",
      "metadata": {
        "id": "06ewVOyeBI58"
      },
      "source": [
        "#worki dla zdań przewidzianych źle, uczące\r\n",
        "fdist = FreqDist(wrong_worki_uczace)\r\n",
        "print(fdist)\r\n",
        "fdist.plot(30,cumulative=False)\r\n",
        "plt.show()\r\n",
        "fdist.most_common(10)"
      ],
      "execution_count": null,
      "outputs": []
    },
    {
      "cell_type": "code",
      "metadata": {
        "id": "URbCMawXy8YN",
        "colab": {
          "base_uri": "https://localhost:8080/"
        },
        "outputId": "3a5658ff-31db-4ed9-ee3e-7d8dde83c3cd"
      },
      "source": [
        "all_test=[]\r\n",
        "for idx in range(len(encoding_test)):\r\n",
        "  all_test.append(percentage_bow(idx, encoding_test))\r\n",
        "q=np.mean(all_test)\r\n",
        "print('Średnia wartość BOW dla zbioru testowego', q)"
      ],
      "execution_count": null,
      "outputs": [
        {
          "output_type": "stream",
          "text": [
            "Średnia wartość BOW dla zbioru testowego 0.40121875901875903\n"
          ],
          "name": "stdout"
        }
      ]
    },
    {
      "cell_type": "code",
      "metadata": {
        "id": "U2bnWJWe0s95",
        "colab": {
          "base_uri": "https://localhost:8080/"
        },
        "outputId": "c8f78242-ba03-4069-ac73-2f4b68669a66"
      },
      "source": [
        "#dla zbioru testowego\r\n",
        "bow_test_all = 0\r\n",
        "good = []\r\n",
        "wrong_worki_uczace = []\r\n",
        "wrong_worki_najlepsze = []\r\n",
        "pred_good = []\r\n",
        "pred_wrong = []\r\n",
        "values=[]\r\n",
        "val=0\r\n",
        "for i in range(len(encoding_test)):\r\n",
        "  val_i=percentage_bow(i, encoding_test)\r\n",
        "  indeks_test = best_image_bow_test(i)\r\n",
        "  _,value_max=best_image_bow2_test(indeks)\r\n",
        "  output_test,image_val=best_image_bow2_test(i)\r\n",
        "  pred=predicted_edited(i, encoding_train)\r\n",
        "  if round(value_max,2) == round(image_val,2):\r\n",
        "  #if i == indeks_test:\r\n",
        "    bow_test_all = bow_test_all+1\r\n",
        "    \r\n",
        "  else:\r\n",
        "    for j in output_train:\r\n",
        "      if j not in values:\r\n",
        "        values.append(j)\r\n",
        "    for x, y in enumerate(sorted(values, reverse=True)):\r\n",
        "      if y == val_i:\r\n",
        "        if x <= 3:\r\n",
        "          val+=1\r\n"
      ],
      "execution_count": null,
      "outputs": [
        {
          "output_type": "stream",
          "text": [
            "Dopasowanie najlepszego zbioru do zbioru testowego 0.397\n"
          ],
          "name": "stdout"
        }
      ]
    },
    {
      "cell_type": "code",
      "metadata": {
        "id": "8gjVFaI_uP4W",
        "colab": {
          "base_uri": "https://localhost:8080/"
        },
        "outputId": "6109e8e5-edb4-496a-a9b3-cccb87df1f88"
      },
      "source": [
        "answer_test = (bow_test_all)/(len(encoding_test))\r\n",
        "answer_test2 = (bow_test_all+val)/(len(encoding_test))\r\n",
        "print('Dopasowanie najlepszego zbioru do zbioru testowego', answer_test)\r\n",
        "print('Dopasowanie najlepszego zbioru do zbioru testowego2', answer_test2)"
      ],
      "execution_count": null,
      "outputs": [
        {
          "output_type": "stream",
          "text": [
            "Dopasowanie najlepszego zbioru do zbioru testowego 0.3\n",
            "Dopasowanie najlepszego zbioru do zbioru testowego2 0.397\n"
          ],
          "name": "stdout"
        }
      ]
    },
    {
      "cell_type": "code",
      "metadata": {
        "colab": {
          "base_uri": "https://localhost:8080/"
        },
        "id": "-UpbpqOG6eEz",
        "outputId": "41012322-9912-4857-e19d-4fb729262b83"
      },
      "source": [
        "#dla zbioru testowego\r\n",
        "bow_test_all = 0\r\n",
        "good = []\r\n",
        "wrong_worki_uczace = []\r\n",
        "wrong_worki_najlepsze = []\r\n",
        "pred_good = []\r\n",
        "pred_wrong = []\r\n",
        "values=[]\r\n",
        "val=0\r\n",
        "for i in range(len(encoding_test)):\r\n",
        "  val_i=percentage_bow(i, encoding_test)\r\n",
        "  indeks_test = best_image_bow_test(i)\r\n",
        "  _,value_max=best_image_bow2_test(indeks)\r\n",
        "  output_test,image_val=best_image_bow2_test(i)\r\n",
        "  pred=predicted_edited(i, encoding_train)\r\n",
        "  if round(value_max,2) == round(image_val,2):\r\n",
        "  #if i == indeks_test:\r\n",
        "    bow_test_all = bow_test_all+1\r\n",
        "    \r\n",
        "  else:\r\n",
        "    for j in output_train:\r\n",
        "      if j not in values:\r\n",
        "        values.append(j)\r\n",
        "    for x, y in enumerate(sorted(values, reverse=True)):\r\n",
        "      if y == val_i:\r\n",
        "        if y>= 0.5 and x <= (0.4*len(values)):\r\n",
        "          val+=1\r\n",
        "answer_test4 = (bow_test_all+val)/(len(encoding_test))\r\n",
        "print('Dopasowanie najlepszego zbioru do zbioru testowego4', answer_test4)"
      ],
      "execution_count": null,
      "outputs": [
        {
          "output_type": "stream",
          "text": [
            "Dopasowanie najlepszego zbioru do zbioru testowego4 0.335\n"
          ],
          "name": "stdout"
        }
      ]
    },
    {
      "cell_type": "code",
      "metadata": {
        "colab": {
          "base_uri": "https://localhost:8080/"
        },
        "id": "4ha86rM687Eb",
        "outputId": "a209cfd4-0958-4f12-82a6-f97fcc15bacd"
      },
      "source": [
        "#dla zbioru treningowego\r\n",
        "bow_train_all = 0\r\n",
        "good = []\r\n",
        "wrong_worki_uczace = []\r\n",
        "wrong_worki_najlepsze = []\r\n",
        "pred_good = []\r\n",
        "pred_wrong = []\r\n",
        "values=[]\r\n",
        "val=0\r\n",
        "#for i in range(0,60):\r\n",
        "for i in range(len(encoding_train)):\r\n",
        "  val_i=percentage_bow(i, encoding_train)\r\n",
        "  indeks = best_image_bow(i)\r\n",
        "  _, value_max=best_image_bow2(indeks)\r\n",
        "  output_train, image_val=best_image_bow2(i)\r\n",
        "  pred=predicted_edited(i, encoding_train)\r\n",
        "  if round(value_max,2) == round(image_val,2):\r\n",
        "  #if i == indeks:\r\n",
        "    bow_train_all = bow_train_all+1\r\n",
        "    #print(bow_train_all)\r\n",
        "    for x in train[i]:\r\n",
        "      good.append(x)\r\n",
        "    for x in pred:\r\n",
        "      pred_good.append(x)\r\n",
        "  else:\r\n",
        "    for x in train[indeks]:\r\n",
        "      wrong_worki_najlepsze.append(x)\r\n",
        "    for x in train[i]:\r\n",
        "      wrong_worki_uczace.append(x)\r\n",
        "    for x in pred:\r\n",
        "      pred_wrong.append(x)\r\n",
        "    for j in output_train:\r\n",
        "      if j not in values:\r\n",
        "        values.append(j)\r\n",
        "    for x, y in enumerate(sorted(values, reverse=True)):\r\n",
        "      if y == val_i:\r\n",
        "        if y>= 0.5 and x <= (0.3*len(values)):\r\n",
        "          val+=1\r\n",
        "answer_train4 = (bow_train_all+val)/(len(encoding_train))\r\n",
        "print('Dopasowanie najlepszego zbioru do zbioru trenującego4', answer_train4)"
      ],
      "execution_count": null,
      "outputs": [
        {
          "output_type": "stream",
          "text": [
            "Dopasowanie najlepszego zbioru do zbioru trenującego4 0.5006666666666667\n"
          ],
          "name": "stdout"
        }
      ]
    },
    {
      "cell_type": "code",
      "metadata": {
        "colab": {
          "base_uri": "https://localhost:8080/"
        },
        "id": "uHB8lmAE8_KE",
        "outputId": "2741b516-3c1d-43e7-e311-4dcbcc50d535"
      },
      "source": [
        "#dla zbioru testowego\r\n",
        "bow_test_all = 0\r\n",
        "good = []\r\n",
        "wrong_worki_uczace = []\r\n",
        "wrong_worki_najlepsze = []\r\n",
        "pred_good = []\r\n",
        "pred_wrong = []\r\n",
        "values=[]\r\n",
        "val=0\r\n",
        "for i in range(len(encoding_test)):\r\n",
        "  val_i=percentage_bow(i, encoding_test)\r\n",
        "  indeks_test = best_image_bow_test(i)\r\n",
        "  _,value_max=best_image_bow2_test(indeks)\r\n",
        "  output_test,image_val=best_image_bow2_test(i)\r\n",
        "  pred=predicted_edited(i, encoding_train)\r\n",
        "  if round(value_max,2) == round(image_val,2):\r\n",
        "  #if i == indeks_test:\r\n",
        "    bow_test_all = bow_test_all+1\r\n",
        "    \r\n",
        "  else:\r\n",
        "    for j in output_train:\r\n",
        "      if j not in values:\r\n",
        "        values.append(j)\r\n",
        "    for x, y in enumerate(sorted(values, reverse=True)):\r\n",
        "      if y == val_i:\r\n",
        "        if y>= 0.5 and x <= (0.3*len(values)):\r\n",
        "          val+=1\r\n",
        "answer_test4 = (bow_test_all+val)/(len(encoding_test))\r\n",
        "print('Dopasowanie najlepszego zbioru do zbioru testowego4', answer_test4)"
      ],
      "execution_count": null,
      "outputs": [
        {
          "output_type": "stream",
          "text": [
            "Dopasowanie najlepszego zbioru do zbioru testowego4 0.306\n"
          ],
          "name": "stdout"
        }
      ]
    }
  ]
}