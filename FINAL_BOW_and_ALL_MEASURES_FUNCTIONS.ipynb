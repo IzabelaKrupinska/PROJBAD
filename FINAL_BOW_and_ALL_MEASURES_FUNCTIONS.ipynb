{
  "nbformat": 4,
  "nbformat_minor": 0,
  "metadata": {
    "colab": {
      "name": "FINAL_BOW_and_ALL_MEASURES_FUNCTIONS.ipynb",
      "provenance": [],
      "collapsed_sections": []
    },
    "kernelspec": {
      "display_name": "Python 3",
      "name": "python3"
    },
    "widgets": {
      "application/vnd.jupyter.widget-state+json": {
        "ba0004a263414c10b02ef1aca2e5da99": {
          "model_module": "@jupyter-widgets/controls",
          "model_name": "HBoxModel",
          "state": {
            "_view_name": "HBoxView",
            "_dom_classes": [],
            "_model_name": "HBoxModel",
            "_view_module": "@jupyter-widgets/controls",
            "_model_module_version": "1.5.0",
            "_view_count": null,
            "_view_module_version": "1.5.0",
            "box_style": "",
            "layout": "IPY_MODEL_a39c93376960410db9c5685221461479",
            "_model_module": "@jupyter-widgets/controls",
            "children": [
              "IPY_MODEL_90b0bbb8c01f44e08064c04808c7e767",
              "IPY_MODEL_e9be9b5e59194fd2ac8b1c581d3bd2cf"
            ]
          }
        },
        "a39c93376960410db9c5685221461479": {
          "model_module": "@jupyter-widgets/base",
          "model_name": "LayoutModel",
          "state": {
            "_view_name": "LayoutView",
            "grid_template_rows": null,
            "right": null,
            "justify_content": null,
            "_view_module": "@jupyter-widgets/base",
            "overflow": null,
            "_model_module_version": "1.2.0",
            "_view_count": null,
            "flex_flow": null,
            "width": null,
            "min_width": null,
            "border": null,
            "align_items": null,
            "bottom": null,
            "_model_module": "@jupyter-widgets/base",
            "top": null,
            "grid_column": null,
            "overflow_y": null,
            "overflow_x": null,
            "grid_auto_flow": null,
            "grid_area": null,
            "grid_template_columns": null,
            "flex": null,
            "_model_name": "LayoutModel",
            "justify_items": null,
            "grid_row": null,
            "max_height": null,
            "align_content": null,
            "visibility": null,
            "align_self": null,
            "height": null,
            "min_height": null,
            "padding": null,
            "grid_auto_rows": null,
            "grid_gap": null,
            "max_width": null,
            "order": null,
            "_view_module_version": "1.2.0",
            "grid_template_areas": null,
            "object_position": null,
            "object_fit": null,
            "grid_auto_columns": null,
            "margin": null,
            "display": null,
            "left": null
          }
        },
        "90b0bbb8c01f44e08064c04808c7e767": {
          "model_module": "@jupyter-widgets/controls",
          "model_name": "FloatProgressModel",
          "state": {
            "_view_name": "ProgressView",
            "style": "IPY_MODEL_cf3c0d74be234a5998668c10673aa2d5",
            "_dom_classes": [],
            "description": "",
            "_model_name": "FloatProgressModel",
            "bar_style": "success",
            "max": 1,
            "_view_module": "@jupyter-widgets/controls",
            "_model_module_version": "1.5.0",
            "value": 1,
            "_view_count": null,
            "_view_module_version": "1.5.0",
            "orientation": "horizontal",
            "min": 0,
            "description_tooltip": null,
            "_model_module": "@jupyter-widgets/controls",
            "layout": "IPY_MODEL_fa9b13fd9de048a3b261ec0f221b3959"
          }
        },
        "e9be9b5e59194fd2ac8b1c581d3bd2cf": {
          "model_module": "@jupyter-widgets/controls",
          "model_name": "HTMLModel",
          "state": {
            "_view_name": "HTMLView",
            "style": "IPY_MODEL_197d51dac33140b8b29e6410f8ab9350",
            "_dom_classes": [],
            "description": "",
            "_model_name": "HTMLModel",
            "placeholder": "​",
            "_view_module": "@jupyter-widgets/controls",
            "_model_module_version": "1.5.0",
            "value": " 400000/? [01:27&lt;00:00, 4561.86it/s]",
            "_view_count": null,
            "_view_module_version": "1.5.0",
            "description_tooltip": null,
            "_model_module": "@jupyter-widgets/controls",
            "layout": "IPY_MODEL_b551d419629948ea932e12171c5cd6e6"
          }
        },
        "cf3c0d74be234a5998668c10673aa2d5": {
          "model_module": "@jupyter-widgets/controls",
          "model_name": "ProgressStyleModel",
          "state": {
            "_view_name": "StyleView",
            "_model_name": "ProgressStyleModel",
            "description_width": "initial",
            "_view_module": "@jupyter-widgets/base",
            "_model_module_version": "1.5.0",
            "_view_count": null,
            "_view_module_version": "1.2.0",
            "bar_color": null,
            "_model_module": "@jupyter-widgets/controls"
          }
        },
        "fa9b13fd9de048a3b261ec0f221b3959": {
          "model_module": "@jupyter-widgets/base",
          "model_name": "LayoutModel",
          "state": {
            "_view_name": "LayoutView",
            "grid_template_rows": null,
            "right": null,
            "justify_content": null,
            "_view_module": "@jupyter-widgets/base",
            "overflow": null,
            "_model_module_version": "1.2.0",
            "_view_count": null,
            "flex_flow": null,
            "width": null,
            "min_width": null,
            "border": null,
            "align_items": null,
            "bottom": null,
            "_model_module": "@jupyter-widgets/base",
            "top": null,
            "grid_column": null,
            "overflow_y": null,
            "overflow_x": null,
            "grid_auto_flow": null,
            "grid_area": null,
            "grid_template_columns": null,
            "flex": null,
            "_model_name": "LayoutModel",
            "justify_items": null,
            "grid_row": null,
            "max_height": null,
            "align_content": null,
            "visibility": null,
            "align_self": null,
            "height": null,
            "min_height": null,
            "padding": null,
            "grid_auto_rows": null,
            "grid_gap": null,
            "max_width": null,
            "order": null,
            "_view_module_version": "1.2.0",
            "grid_template_areas": null,
            "object_position": null,
            "object_fit": null,
            "grid_auto_columns": null,
            "margin": null,
            "display": null,
            "left": null
          }
        },
        "197d51dac33140b8b29e6410f8ab9350": {
          "model_module": "@jupyter-widgets/controls",
          "model_name": "DescriptionStyleModel",
          "state": {
            "_view_name": "StyleView",
            "_model_name": "DescriptionStyleModel",
            "description_width": "",
            "_view_module": "@jupyter-widgets/base",
            "_model_module_version": "1.5.0",
            "_view_count": null,
            "_view_module_version": "1.2.0",
            "_model_module": "@jupyter-widgets/controls"
          }
        },
        "b551d419629948ea932e12171c5cd6e6": {
          "model_module": "@jupyter-widgets/base",
          "model_name": "LayoutModel",
          "state": {
            "_view_name": "LayoutView",
            "grid_template_rows": null,
            "right": null,
            "justify_content": null,
            "_view_module": "@jupyter-widgets/base",
            "overflow": null,
            "_model_module_version": "1.2.0",
            "_view_count": null,
            "flex_flow": null,
            "width": null,
            "min_width": null,
            "border": null,
            "align_items": null,
            "bottom": null,
            "_model_module": "@jupyter-widgets/base",
            "top": null,
            "grid_column": null,
            "overflow_y": null,
            "overflow_x": null,
            "grid_auto_flow": null,
            "grid_area": null,
            "grid_template_columns": null,
            "flex": null,
            "_model_name": "LayoutModel",
            "justify_items": null,
            "grid_row": null,
            "max_height": null,
            "align_content": null,
            "visibility": null,
            "align_self": null,
            "height": null,
            "min_height": null,
            "padding": null,
            "grid_auto_rows": null,
            "grid_gap": null,
            "max_width": null,
            "order": null,
            "_view_module_version": "1.2.0",
            "grid_template_areas": null,
            "object_position": null,
            "object_fit": null,
            "grid_auto_columns": null,
            "margin": null,
            "display": null,
            "left": null
          }
        },
        "0ee4093910a142e6aac9c5c0221ccb91": {
          "model_module": "@jupyter-widgets/controls",
          "model_name": "HBoxModel",
          "state": {
            "_view_name": "HBoxView",
            "_dom_classes": [],
            "_model_name": "HBoxModel",
            "_view_module": "@jupyter-widgets/controls",
            "_model_module_version": "1.5.0",
            "_view_count": null,
            "_view_module_version": "1.5.0",
            "box_style": "",
            "layout": "IPY_MODEL_133163460f704691a8730023f7a2ea1f",
            "_model_module": "@jupyter-widgets/controls",
            "children": [
              "IPY_MODEL_5dc603a09f5b4094a2ecd06441bb190b",
              "IPY_MODEL_6557cc92f4214787811da1e309ff6067"
            ]
          }
        },
        "133163460f704691a8730023f7a2ea1f": {
          "model_module": "@jupyter-widgets/base",
          "model_name": "LayoutModel",
          "state": {
            "_view_name": "LayoutView",
            "grid_template_rows": null,
            "right": null,
            "justify_content": null,
            "_view_module": "@jupyter-widgets/base",
            "overflow": null,
            "_model_module_version": "1.2.0",
            "_view_count": null,
            "flex_flow": null,
            "width": null,
            "min_width": null,
            "border": null,
            "align_items": null,
            "bottom": null,
            "_model_module": "@jupyter-widgets/base",
            "top": null,
            "grid_column": null,
            "overflow_y": null,
            "overflow_x": null,
            "grid_auto_flow": null,
            "grid_area": null,
            "grid_template_columns": null,
            "flex": null,
            "_model_name": "LayoutModel",
            "justify_items": null,
            "grid_row": null,
            "max_height": null,
            "align_content": null,
            "visibility": null,
            "align_self": null,
            "height": null,
            "min_height": null,
            "padding": null,
            "grid_auto_rows": null,
            "grid_gap": null,
            "max_width": null,
            "order": null,
            "_view_module_version": "1.2.0",
            "grid_template_areas": null,
            "object_position": null,
            "object_fit": null,
            "grid_auto_columns": null,
            "margin": null,
            "display": null,
            "left": null
          }
        },
        "5dc603a09f5b4094a2ecd06441bb190b": {
          "model_module": "@jupyter-widgets/controls",
          "model_name": "FloatProgressModel",
          "state": {
            "_view_name": "ProgressView",
            "style": "IPY_MODEL_2a453025a42f4ed3a6fe5fed72bfa929",
            "_dom_classes": [],
            "description": "100%",
            "_model_name": "FloatProgressModel",
            "bar_style": "success",
            "max": 2063,
            "_view_module": "@jupyter-widgets/controls",
            "_model_module_version": "1.5.0",
            "value": 2063,
            "_view_count": null,
            "_view_module_version": "1.5.0",
            "orientation": "horizontal",
            "min": 0,
            "description_tooltip": null,
            "_model_module": "@jupyter-widgets/controls",
            "layout": "IPY_MODEL_ed921373e19e4568a4494b30584714fc"
          }
        },
        "6557cc92f4214787811da1e309ff6067": {
          "model_module": "@jupyter-widgets/controls",
          "model_name": "HTMLModel",
          "state": {
            "_view_name": "HTMLView",
            "style": "IPY_MODEL_f909253227da488f8038e973b9136f47",
            "_dom_classes": [],
            "description": "",
            "_model_name": "HTMLModel",
            "placeholder": "​",
            "_view_module": "@jupyter-widgets/controls",
            "_model_module_version": "1.5.0",
            "value": " 2063/2063 [00:17&lt;00:00, 116.65it/s]",
            "_view_count": null,
            "_view_module_version": "1.5.0",
            "description_tooltip": null,
            "_model_module": "@jupyter-widgets/controls",
            "layout": "IPY_MODEL_b18e7b25f4fd4d4f8d43e4ae92f8d79a"
          }
        },
        "2a453025a42f4ed3a6fe5fed72bfa929": {
          "model_module": "@jupyter-widgets/controls",
          "model_name": "ProgressStyleModel",
          "state": {
            "_view_name": "StyleView",
            "_model_name": "ProgressStyleModel",
            "description_width": "initial",
            "_view_module": "@jupyter-widgets/base",
            "_model_module_version": "1.5.0",
            "_view_count": null,
            "_view_module_version": "1.2.0",
            "bar_color": null,
            "_model_module": "@jupyter-widgets/controls"
          }
        },
        "ed921373e19e4568a4494b30584714fc": {
          "model_module": "@jupyter-widgets/base",
          "model_name": "LayoutModel",
          "state": {
            "_view_name": "LayoutView",
            "grid_template_rows": null,
            "right": null,
            "justify_content": null,
            "_view_module": "@jupyter-widgets/base",
            "overflow": null,
            "_model_module_version": "1.2.0",
            "_view_count": null,
            "flex_flow": null,
            "width": null,
            "min_width": null,
            "border": null,
            "align_items": null,
            "bottom": null,
            "_model_module": "@jupyter-widgets/base",
            "top": null,
            "grid_column": null,
            "overflow_y": null,
            "overflow_x": null,
            "grid_auto_flow": null,
            "grid_area": null,
            "grid_template_columns": null,
            "flex": null,
            "_model_name": "LayoutModel",
            "justify_items": null,
            "grid_row": null,
            "max_height": null,
            "align_content": null,
            "visibility": null,
            "align_self": null,
            "height": null,
            "min_height": null,
            "padding": null,
            "grid_auto_rows": null,
            "grid_gap": null,
            "max_width": null,
            "order": null,
            "_view_module_version": "1.2.0",
            "grid_template_areas": null,
            "object_position": null,
            "object_fit": null,
            "grid_auto_columns": null,
            "margin": null,
            "display": null,
            "left": null
          }
        },
        "f909253227da488f8038e973b9136f47": {
          "model_module": "@jupyter-widgets/controls",
          "model_name": "DescriptionStyleModel",
          "state": {
            "_view_name": "StyleView",
            "_model_name": "DescriptionStyleModel",
            "description_width": "",
            "_view_module": "@jupyter-widgets/base",
            "_model_module_version": "1.5.0",
            "_view_count": null,
            "_view_module_version": "1.2.0",
            "_model_module": "@jupyter-widgets/controls"
          }
        },
        "b18e7b25f4fd4d4f8d43e4ae92f8d79a": {
          "model_module": "@jupyter-widgets/base",
          "model_name": "LayoutModel",
          "state": {
            "_view_name": "LayoutView",
            "grid_template_rows": null,
            "right": null,
            "justify_content": null,
            "_view_module": "@jupyter-widgets/base",
            "overflow": null,
            "_model_module_version": "1.2.0",
            "_view_count": null,
            "flex_flow": null,
            "width": null,
            "min_width": null,
            "border": null,
            "align_items": null,
            "bottom": null,
            "_model_module": "@jupyter-widgets/base",
            "top": null,
            "grid_column": null,
            "overflow_y": null,
            "overflow_x": null,
            "grid_auto_flow": null,
            "grid_area": null,
            "grid_template_columns": null,
            "flex": null,
            "_model_name": "LayoutModel",
            "justify_items": null,
            "grid_row": null,
            "max_height": null,
            "align_content": null,
            "visibility": null,
            "align_self": null,
            "height": null,
            "min_height": null,
            "padding": null,
            "grid_auto_rows": null,
            "grid_gap": null,
            "max_width": null,
            "order": null,
            "_view_module_version": "1.2.0",
            "grid_template_areas": null,
            "object_position": null,
            "object_fit": null,
            "grid_auto_columns": null,
            "margin": null,
            "display": null,
            "left": null
          }
        }
      }
    },
    "accelerator": "GPU"
  },
  "cells": [
    {
      "cell_type": "code",
      "metadata": {
        "id": "ew3zDv46j3_J",
        "colab": {
          "base_uri": "https://localhost:8080/"
        },
        "outputId": "97029562-0c90-4606-d936-a46a09fa0d19"
      },
      "source": [
        "tf_version = !pip3 show tensorflow | grep Version\r\n",
        "if '2.2' not in tf_version[0]:\r\n",
        "  print(\"downgrading tensorflow\")\r\n",
        "  !pip3 uninstall --yes tensorflow\r\n",
        "  !pip3 install tensorflow==2.2\r\n",
        "\r\n",
        "keras_version = !pip3 show keras | grep Version\r\n",
        "if '2.3.1' not in keras_version[0]:\r\n",
        "  print(\"downgrading keras\")\r\n",
        "  !pip3 uninstall --yes keras\r\n",
        "  !pip3 install keras==2.3.1"
      ],
      "execution_count": null,
      "outputs": [
        {
          "output_type": "stream",
          "text": [
            "downgrading tensorflow\n",
            "Uninstalling tensorflow-2.4.0:\n",
            "  Successfully uninstalled tensorflow-2.4.0\n",
            "Collecting tensorflow==2.2\n",
            "\u001b[?25l  Downloading https://files.pythonhosted.org/packages/3d/be/679ce5254a8c8d07470efb4a4c00345fae91f766e64f1c2aece8796d7218/tensorflow-2.2.0-cp36-cp36m-manylinux2010_x86_64.whl (516.2MB)\n",
            "\u001b[K     |████████████████████████████████| 516.2MB 34kB/s \n",
            "\u001b[?25hRequirement already satisfied: termcolor>=1.1.0 in /usr/local/lib/python3.6/dist-packages (from tensorflow==2.2) (1.1.0)\n",
            "Requirement already satisfied: grpcio>=1.8.6 in /usr/local/lib/python3.6/dist-packages (from tensorflow==2.2) (1.32.0)\n",
            "Requirement already satisfied: google-pasta>=0.1.8 in /usr/local/lib/python3.6/dist-packages (from tensorflow==2.2) (0.2.0)\n",
            "Requirement already satisfied: opt-einsum>=2.3.2 in /usr/local/lib/python3.6/dist-packages (from tensorflow==2.2) (3.3.0)\n",
            "Requirement already satisfied: keras-preprocessing>=1.1.0 in /usr/local/lib/python3.6/dist-packages (from tensorflow==2.2) (1.1.2)\n",
            "Requirement already satisfied: absl-py>=0.7.0 in /usr/local/lib/python3.6/dist-packages (from tensorflow==2.2) (0.10.0)\n",
            "Requirement already satisfied: numpy<2.0,>=1.16.0 in /usr/local/lib/python3.6/dist-packages (from tensorflow==2.2) (1.19.5)\n",
            "Collecting tensorflow-estimator<2.3.0,>=2.2.0\n",
            "\u001b[?25l  Downloading https://files.pythonhosted.org/packages/a4/f5/926ae53d6a226ec0fda5208e0e581cffed895ccc89e36ba76a8e60895b78/tensorflow_estimator-2.2.0-py2.py3-none-any.whl (454kB)\n",
            "\u001b[K     |████████████████████████████████| 460kB 34.1MB/s \n",
            "\u001b[?25hRequirement already satisfied: astunparse==1.6.3 in /usr/local/lib/python3.6/dist-packages (from tensorflow==2.2) (1.6.3)\n",
            "Requirement already satisfied: wrapt>=1.11.1 in /usr/local/lib/python3.6/dist-packages (from tensorflow==2.2) (1.12.1)\n",
            "Requirement already satisfied: wheel>=0.26; python_version >= \"3\" in /usr/local/lib/python3.6/dist-packages (from tensorflow==2.2) (0.36.2)\n",
            "Requirement already satisfied: scipy==1.4.1; python_version >= \"3\" in /usr/local/lib/python3.6/dist-packages (from tensorflow==2.2) (1.4.1)\n",
            "Collecting tensorboard<2.3.0,>=2.2.0\n",
            "\u001b[?25l  Downloading https://files.pythonhosted.org/packages/1d/74/0a6fcb206dcc72a6da9a62dd81784bfdbff5fedb099982861dc2219014fb/tensorboard-2.2.2-py3-none-any.whl (3.0MB)\n",
            "\u001b[K     |████████████████████████████████| 3.0MB 50.4MB/s \n",
            "\u001b[?25hRequirement already satisfied: six>=1.12.0 in /usr/local/lib/python3.6/dist-packages (from tensorflow==2.2) (1.15.0)\n",
            "Requirement already satisfied: gast==0.3.3 in /usr/local/lib/python3.6/dist-packages (from tensorflow==2.2) (0.3.3)\n",
            "Requirement already satisfied: h5py<2.11.0,>=2.10.0 in /usr/local/lib/python3.6/dist-packages (from tensorflow==2.2) (2.10.0)\n",
            "Requirement already satisfied: protobuf>=3.8.0 in /usr/local/lib/python3.6/dist-packages (from tensorflow==2.2) (3.12.4)\n",
            "Requirement already satisfied: requests<3,>=2.21.0 in /usr/local/lib/python3.6/dist-packages (from tensorboard<2.3.0,>=2.2.0->tensorflow==2.2) (2.23.0)\n",
            "Requirement already satisfied: markdown>=2.6.8 in /usr/local/lib/python3.6/dist-packages (from tensorboard<2.3.0,>=2.2.0->tensorflow==2.2) (3.3.3)\n",
            "Requirement already satisfied: google-auth<2,>=1.6.3 in /usr/local/lib/python3.6/dist-packages (from tensorboard<2.3.0,>=2.2.0->tensorflow==2.2) (1.17.2)\n",
            "Requirement already satisfied: werkzeug>=0.11.15 in /usr/local/lib/python3.6/dist-packages (from tensorboard<2.3.0,>=2.2.0->tensorflow==2.2) (1.0.1)\n",
            "Requirement already satisfied: google-auth-oauthlib<0.5,>=0.4.1 in /usr/local/lib/python3.6/dist-packages (from tensorboard<2.3.0,>=2.2.0->tensorflow==2.2) (0.4.2)\n",
            "Requirement already satisfied: setuptools>=41.0.0 in /usr/local/lib/python3.6/dist-packages (from tensorboard<2.3.0,>=2.2.0->tensorflow==2.2) (51.1.1)\n",
            "Requirement already satisfied: tensorboard-plugin-wit>=1.6.0 in /usr/local/lib/python3.6/dist-packages (from tensorboard<2.3.0,>=2.2.0->tensorflow==2.2) (1.7.0)\n",
            "Requirement already satisfied: certifi>=2017.4.17 in /usr/local/lib/python3.6/dist-packages (from requests<3,>=2.21.0->tensorboard<2.3.0,>=2.2.0->tensorflow==2.2) (2020.12.5)\n",
            "Requirement already satisfied: idna<3,>=2.5 in /usr/local/lib/python3.6/dist-packages (from requests<3,>=2.21.0->tensorboard<2.3.0,>=2.2.0->tensorflow==2.2) (2.10)\n",
            "Requirement already satisfied: chardet<4,>=3.0.2 in /usr/local/lib/python3.6/dist-packages (from requests<3,>=2.21.0->tensorboard<2.3.0,>=2.2.0->tensorflow==2.2) (3.0.4)\n",
            "Requirement already satisfied: urllib3!=1.25.0,!=1.25.1,<1.26,>=1.21.1 in /usr/local/lib/python3.6/dist-packages (from requests<3,>=2.21.0->tensorboard<2.3.0,>=2.2.0->tensorflow==2.2) (1.24.3)\n",
            "Requirement already satisfied: importlib-metadata; python_version < \"3.8\" in /usr/local/lib/python3.6/dist-packages (from markdown>=2.6.8->tensorboard<2.3.0,>=2.2.0->tensorflow==2.2) (3.3.0)\n",
            "Requirement already satisfied: pyasn1-modules>=0.2.1 in /usr/local/lib/python3.6/dist-packages (from google-auth<2,>=1.6.3->tensorboard<2.3.0,>=2.2.0->tensorflow==2.2) (0.2.8)\n",
            "Requirement already satisfied: cachetools<5.0,>=2.0.0 in /usr/local/lib/python3.6/dist-packages (from google-auth<2,>=1.6.3->tensorboard<2.3.0,>=2.2.0->tensorflow==2.2) (4.2.0)\n",
            "Requirement already satisfied: rsa<5,>=3.1.4; python_version >= \"3\" in /usr/local/lib/python3.6/dist-packages (from google-auth<2,>=1.6.3->tensorboard<2.3.0,>=2.2.0->tensorflow==2.2) (4.6)\n",
            "Requirement already satisfied: requests-oauthlib>=0.7.0 in /usr/local/lib/python3.6/dist-packages (from google-auth-oauthlib<0.5,>=0.4.1->tensorboard<2.3.0,>=2.2.0->tensorflow==2.2) (1.3.0)\n",
            "Requirement already satisfied: zipp>=0.5 in /usr/local/lib/python3.6/dist-packages (from importlib-metadata; python_version < \"3.8\"->markdown>=2.6.8->tensorboard<2.3.0,>=2.2.0->tensorflow==2.2) (3.4.0)\n",
            "Requirement already satisfied: typing-extensions>=3.6.4; python_version < \"3.8\" in /usr/local/lib/python3.6/dist-packages (from importlib-metadata; python_version < \"3.8\"->markdown>=2.6.8->tensorboard<2.3.0,>=2.2.0->tensorflow==2.2) (3.7.4.3)\n",
            "Requirement already satisfied: pyasn1<0.5.0,>=0.4.6 in /usr/local/lib/python3.6/dist-packages (from pyasn1-modules>=0.2.1->google-auth<2,>=1.6.3->tensorboard<2.3.0,>=2.2.0->tensorflow==2.2) (0.4.8)\n",
            "Requirement already satisfied: oauthlib>=3.0.0 in /usr/local/lib/python3.6/dist-packages (from requests-oauthlib>=0.7.0->google-auth-oauthlib<0.5,>=0.4.1->tensorboard<2.3.0,>=2.2.0->tensorflow==2.2) (3.1.0)\n",
            "Installing collected packages: tensorflow-estimator, tensorboard, tensorflow\n",
            "  Found existing installation: tensorflow-estimator 2.4.0\n",
            "    Uninstalling tensorflow-estimator-2.4.0:\n",
            "      Successfully uninstalled tensorflow-estimator-2.4.0\n",
            "  Found existing installation: tensorboard 2.4.0\n",
            "    Uninstalling tensorboard-2.4.0:\n",
            "      Successfully uninstalled tensorboard-2.4.0\n",
            "Successfully installed tensorboard-2.2.2 tensorflow-2.2.0 tensorflow-estimator-2.2.0\n",
            "downgrading keras\n",
            "Uninstalling Keras-2.4.3:\n",
            "  Successfully uninstalled Keras-2.4.3\n",
            "Collecting keras==2.3.1\n",
            "\u001b[?25l  Downloading https://files.pythonhosted.org/packages/ad/fd/6bfe87920d7f4fd475acd28500a42482b6b84479832bdc0fe9e589a60ceb/Keras-2.3.1-py2.py3-none-any.whl (377kB)\n",
            "\u001b[K     |████████████████████████████████| 378kB 16.6MB/s \n",
            "\u001b[?25hRequirement already satisfied: numpy>=1.9.1 in /usr/local/lib/python3.6/dist-packages (from keras==2.3.1) (1.19.5)\n",
            "Requirement already satisfied: h5py in /usr/local/lib/python3.6/dist-packages (from keras==2.3.1) (2.10.0)\n",
            "Collecting keras-applications>=1.0.6\n",
            "\u001b[?25l  Downloading https://files.pythonhosted.org/packages/71/e3/19762fdfc62877ae9102edf6342d71b28fbfd9dea3d2f96a882ce099b03f/Keras_Applications-1.0.8-py3-none-any.whl (50kB)\n",
            "\u001b[K     |████████████████████████████████| 51kB 9.1MB/s \n",
            "\u001b[?25hRequirement already satisfied: scipy>=0.14 in /usr/local/lib/python3.6/dist-packages (from keras==2.3.1) (1.4.1)\n",
            "Requirement already satisfied: keras-preprocessing>=1.0.5 in /usr/local/lib/python3.6/dist-packages (from keras==2.3.1) (1.1.2)\n",
            "Requirement already satisfied: pyyaml in /usr/local/lib/python3.6/dist-packages (from keras==2.3.1) (3.13)\n",
            "Requirement already satisfied: six>=1.9.0 in /usr/local/lib/python3.6/dist-packages (from keras==2.3.1) (1.15.0)\n",
            "Installing collected packages: keras-applications, keras\n",
            "Successfully installed keras-2.3.1 keras-applications-1.0.8\n"
          ],
          "name": "stdout"
        }
      ]
    },
    {
      "cell_type": "code",
      "metadata": {
        "colab": {
          "base_uri": "https://localhost:8080/"
        },
        "id": "WXWMqmkzvGrx",
        "outputId": "94acf8e9-3d01-41bc-bc1a-72e861ac5f5a"
      },
      "source": [
        "import nltk\r\n",
        "nltk.download('all')\r\n",
        "from nltk.stem import PorterStemmer\r\n",
        "from nltk.stem import LancasterStemmer\r\n",
        "from nltk.stem.wordnet import WordNetLemmatizer"
      ],
      "execution_count": null,
      "outputs": [
        {
          "output_type": "stream",
          "text": [
            "[nltk_data] Downloading collection 'all'\n",
            "[nltk_data]    | \n",
            "[nltk_data]    | Downloading package abc to /root/nltk_data...\n",
            "[nltk_data]    |   Unzipping corpora/abc.zip.\n",
            "[nltk_data]    | Downloading package alpino to /root/nltk_data...\n",
            "[nltk_data]    |   Unzipping corpora/alpino.zip.\n",
            "[nltk_data]    | Downloading package biocreative_ppi to\n",
            "[nltk_data]    |     /root/nltk_data...\n",
            "[nltk_data]    |   Unzipping corpora/biocreative_ppi.zip.\n",
            "[nltk_data]    | Downloading package brown to /root/nltk_data...\n",
            "[nltk_data]    |   Unzipping corpora/brown.zip.\n",
            "[nltk_data]    | Downloading package brown_tei to /root/nltk_data...\n",
            "[nltk_data]    |   Unzipping corpora/brown_tei.zip.\n",
            "[nltk_data]    | Downloading package cess_cat to /root/nltk_data...\n",
            "[nltk_data]    |   Unzipping corpora/cess_cat.zip.\n",
            "[nltk_data]    | Downloading package cess_esp to /root/nltk_data...\n",
            "[nltk_data]    |   Unzipping corpora/cess_esp.zip.\n",
            "[nltk_data]    | Downloading package chat80 to /root/nltk_data...\n",
            "[nltk_data]    |   Unzipping corpora/chat80.zip.\n",
            "[nltk_data]    | Downloading package city_database to\n",
            "[nltk_data]    |     /root/nltk_data...\n",
            "[nltk_data]    |   Unzipping corpora/city_database.zip.\n",
            "[nltk_data]    | Downloading package cmudict to /root/nltk_data...\n",
            "[nltk_data]    |   Unzipping corpora/cmudict.zip.\n",
            "[nltk_data]    | Downloading package comparative_sentences to\n",
            "[nltk_data]    |     /root/nltk_data...\n",
            "[nltk_data]    |   Unzipping corpora/comparative_sentences.zip.\n",
            "[nltk_data]    | Downloading package comtrans to /root/nltk_data...\n",
            "[nltk_data]    | Downloading package conll2000 to /root/nltk_data...\n",
            "[nltk_data]    |   Unzipping corpora/conll2000.zip.\n",
            "[nltk_data]    | Downloading package conll2002 to /root/nltk_data...\n",
            "[nltk_data]    |   Unzipping corpora/conll2002.zip.\n",
            "[nltk_data]    | Downloading package conll2007 to /root/nltk_data...\n",
            "[nltk_data]    | Downloading package crubadan to /root/nltk_data...\n",
            "[nltk_data]    |   Unzipping corpora/crubadan.zip.\n",
            "[nltk_data]    | Downloading package dependency_treebank to\n",
            "[nltk_data]    |     /root/nltk_data...\n",
            "[nltk_data]    |   Unzipping corpora/dependency_treebank.zip.\n",
            "[nltk_data]    | Downloading package dolch to /root/nltk_data...\n",
            "[nltk_data]    |   Unzipping corpora/dolch.zip.\n",
            "[nltk_data]    | Downloading package europarl_raw to\n",
            "[nltk_data]    |     /root/nltk_data...\n",
            "[nltk_data]    |   Unzipping corpora/europarl_raw.zip.\n",
            "[nltk_data]    | Downloading package floresta to /root/nltk_data...\n",
            "[nltk_data]    |   Unzipping corpora/floresta.zip.\n",
            "[nltk_data]    | Downloading package framenet_v15 to\n",
            "[nltk_data]    |     /root/nltk_data...\n",
            "[nltk_data]    |   Unzipping corpora/framenet_v15.zip.\n",
            "[nltk_data]    | Downloading package framenet_v17 to\n",
            "[nltk_data]    |     /root/nltk_data...\n",
            "[nltk_data]    |   Unzipping corpora/framenet_v17.zip.\n",
            "[nltk_data]    | Downloading package gazetteers to /root/nltk_data...\n",
            "[nltk_data]    |   Unzipping corpora/gazetteers.zip.\n",
            "[nltk_data]    | Downloading package genesis to /root/nltk_data...\n",
            "[nltk_data]    |   Unzipping corpora/genesis.zip.\n",
            "[nltk_data]    | Downloading package gutenberg to /root/nltk_data...\n",
            "[nltk_data]    |   Unzipping corpora/gutenberg.zip.\n",
            "[nltk_data]    | Downloading package ieer to /root/nltk_data...\n",
            "[nltk_data]    |   Unzipping corpora/ieer.zip.\n",
            "[nltk_data]    | Downloading package inaugural to /root/nltk_data...\n",
            "[nltk_data]    |   Unzipping corpora/inaugural.zip.\n",
            "[nltk_data]    | Downloading package indian to /root/nltk_data...\n",
            "[nltk_data]    |   Unzipping corpora/indian.zip.\n",
            "[nltk_data]    | Downloading package jeita to /root/nltk_data...\n",
            "[nltk_data]    | Downloading package kimmo to /root/nltk_data...\n",
            "[nltk_data]    |   Unzipping corpora/kimmo.zip.\n",
            "[nltk_data]    | Downloading package knbc to /root/nltk_data...\n",
            "[nltk_data]    | Downloading package lin_thesaurus to\n",
            "[nltk_data]    |     /root/nltk_data...\n",
            "[nltk_data]    |   Unzipping corpora/lin_thesaurus.zip.\n",
            "[nltk_data]    | Downloading package mac_morpho to /root/nltk_data...\n",
            "[nltk_data]    |   Unzipping corpora/mac_morpho.zip.\n",
            "[nltk_data]    | Downloading package machado to /root/nltk_data...\n",
            "[nltk_data]    | Downloading package masc_tagged to /root/nltk_data...\n",
            "[nltk_data]    | Downloading package moses_sample to\n",
            "[nltk_data]    |     /root/nltk_data...\n",
            "[nltk_data]    |   Unzipping models/moses_sample.zip.\n",
            "[nltk_data]    | Downloading package movie_reviews to\n",
            "[nltk_data]    |     /root/nltk_data...\n",
            "[nltk_data]    |   Unzipping corpora/movie_reviews.zip.\n",
            "[nltk_data]    | Downloading package names to /root/nltk_data...\n",
            "[nltk_data]    |   Unzipping corpora/names.zip.\n",
            "[nltk_data]    | Downloading package nombank.1.0 to /root/nltk_data...\n",
            "[nltk_data]    | Downloading package nps_chat to /root/nltk_data...\n",
            "[nltk_data]    |   Unzipping corpora/nps_chat.zip.\n",
            "[nltk_data]    | Downloading package omw to /root/nltk_data...\n",
            "[nltk_data]    |   Unzipping corpora/omw.zip.\n",
            "[nltk_data]    | Downloading package opinion_lexicon to\n",
            "[nltk_data]    |     /root/nltk_data...\n",
            "[nltk_data]    |   Unzipping corpora/opinion_lexicon.zip.\n",
            "[nltk_data]    | Downloading package paradigms to /root/nltk_data...\n",
            "[nltk_data]    |   Unzipping corpora/paradigms.zip.\n",
            "[nltk_data]    | Downloading package pil to /root/nltk_data...\n",
            "[nltk_data]    |   Unzipping corpora/pil.zip.\n",
            "[nltk_data]    | Downloading package pl196x to /root/nltk_data...\n",
            "[nltk_data]    |   Unzipping corpora/pl196x.zip.\n",
            "[nltk_data]    | Downloading package ppattach to /root/nltk_data...\n",
            "[nltk_data]    |   Unzipping corpora/ppattach.zip.\n",
            "[nltk_data]    | Downloading package problem_reports to\n",
            "[nltk_data]    |     /root/nltk_data...\n",
            "[nltk_data]    |   Unzipping corpora/problem_reports.zip.\n",
            "[nltk_data]    | Downloading package propbank to /root/nltk_data...\n",
            "[nltk_data]    | Downloading package ptb to /root/nltk_data...\n",
            "[nltk_data]    |   Unzipping corpora/ptb.zip.\n",
            "[nltk_data]    | Downloading package product_reviews_1 to\n",
            "[nltk_data]    |     /root/nltk_data...\n",
            "[nltk_data]    |   Unzipping corpora/product_reviews_1.zip.\n",
            "[nltk_data]    | Downloading package product_reviews_2 to\n",
            "[nltk_data]    |     /root/nltk_data...\n",
            "[nltk_data]    |   Unzipping corpora/product_reviews_2.zip.\n",
            "[nltk_data]    | Downloading package pros_cons to /root/nltk_data...\n",
            "[nltk_data]    |   Unzipping corpora/pros_cons.zip.\n",
            "[nltk_data]    | Downloading package qc to /root/nltk_data...\n",
            "[nltk_data]    |   Unzipping corpora/qc.zip.\n",
            "[nltk_data]    | Downloading package reuters to /root/nltk_data...\n",
            "[nltk_data]    | Downloading package rte to /root/nltk_data...\n",
            "[nltk_data]    |   Unzipping corpora/rte.zip.\n",
            "[nltk_data]    | Downloading package semcor to /root/nltk_data...\n",
            "[nltk_data]    | Downloading package senseval to /root/nltk_data...\n",
            "[nltk_data]    |   Unzipping corpora/senseval.zip.\n",
            "[nltk_data]    | Downloading package sentiwordnet to\n",
            "[nltk_data]    |     /root/nltk_data...\n",
            "[nltk_data]    |   Unzipping corpora/sentiwordnet.zip.\n",
            "[nltk_data]    | Downloading package sentence_polarity to\n",
            "[nltk_data]    |     /root/nltk_data...\n",
            "[nltk_data]    |   Unzipping corpora/sentence_polarity.zip.\n",
            "[nltk_data]    | Downloading package shakespeare to /root/nltk_data...\n",
            "[nltk_data]    |   Unzipping corpora/shakespeare.zip.\n",
            "[nltk_data]    | Downloading package sinica_treebank to\n",
            "[nltk_data]    |     /root/nltk_data...\n",
            "[nltk_data]    |   Unzipping corpora/sinica_treebank.zip.\n",
            "[nltk_data]    | Downloading package smultron to /root/nltk_data...\n",
            "[nltk_data]    |   Unzipping corpora/smultron.zip.\n",
            "[nltk_data]    | Downloading package state_union to /root/nltk_data...\n",
            "[nltk_data]    |   Unzipping corpora/state_union.zip.\n",
            "[nltk_data]    | Downloading package stopwords to /root/nltk_data...\n",
            "[nltk_data]    |   Unzipping corpora/stopwords.zip.\n",
            "[nltk_data]    | Downloading package subjectivity to\n",
            "[nltk_data]    |     /root/nltk_data...\n",
            "[nltk_data]    |   Unzipping corpora/subjectivity.zip.\n",
            "[nltk_data]    | Downloading package swadesh to /root/nltk_data...\n",
            "[nltk_data]    |   Unzipping corpora/swadesh.zip.\n",
            "[nltk_data]    | Downloading package switchboard to /root/nltk_data...\n",
            "[nltk_data]    |   Unzipping corpora/switchboard.zip.\n",
            "[nltk_data]    | Downloading package timit to /root/nltk_data...\n",
            "[nltk_data]    |   Unzipping corpora/timit.zip.\n",
            "[nltk_data]    | Downloading package toolbox to /root/nltk_data...\n",
            "[nltk_data]    |   Unzipping corpora/toolbox.zip.\n",
            "[nltk_data]    | Downloading package treebank to /root/nltk_data...\n",
            "[nltk_data]    |   Unzipping corpora/treebank.zip.\n",
            "[nltk_data]    | Downloading package twitter_samples to\n",
            "[nltk_data]    |     /root/nltk_data...\n",
            "[nltk_data]    |   Unzipping corpora/twitter_samples.zip.\n",
            "[nltk_data]    | Downloading package udhr to /root/nltk_data...\n",
            "[nltk_data]    |   Unzipping corpora/udhr.zip.\n",
            "[nltk_data]    | Downloading package udhr2 to /root/nltk_data...\n",
            "[nltk_data]    |   Unzipping corpora/udhr2.zip.\n",
            "[nltk_data]    | Downloading package unicode_samples to\n",
            "[nltk_data]    |     /root/nltk_data...\n",
            "[nltk_data]    |   Unzipping corpora/unicode_samples.zip.\n",
            "[nltk_data]    | Downloading package universal_treebanks_v20 to\n",
            "[nltk_data]    |     /root/nltk_data...\n",
            "[nltk_data]    | Downloading package verbnet to /root/nltk_data...\n",
            "[nltk_data]    |   Unzipping corpora/verbnet.zip.\n",
            "[nltk_data]    | Downloading package verbnet3 to /root/nltk_data...\n",
            "[nltk_data]    |   Unzipping corpora/verbnet3.zip.\n",
            "[nltk_data]    | Downloading package webtext to /root/nltk_data...\n",
            "[nltk_data]    |   Unzipping corpora/webtext.zip.\n",
            "[nltk_data]    | Downloading package wordnet to /root/nltk_data...\n",
            "[nltk_data]    |   Unzipping corpora/wordnet.zip.\n",
            "[nltk_data]    | Downloading package wordnet_ic to /root/nltk_data...\n",
            "[nltk_data]    |   Unzipping corpora/wordnet_ic.zip.\n",
            "[nltk_data]    | Downloading package words to /root/nltk_data...\n",
            "[nltk_data]    |   Unzipping corpora/words.zip.\n",
            "[nltk_data]    | Downloading package ycoe to /root/nltk_data...\n",
            "[nltk_data]    |   Unzipping corpora/ycoe.zip.\n",
            "[nltk_data]    | Downloading package rslp to /root/nltk_data...\n",
            "[nltk_data]    |   Unzipping stemmers/rslp.zip.\n",
            "[nltk_data]    | Downloading package maxent_treebank_pos_tagger to\n",
            "[nltk_data]    |     /root/nltk_data...\n",
            "[nltk_data]    |   Unzipping taggers/maxent_treebank_pos_tagger.zip.\n",
            "[nltk_data]    | Downloading package universal_tagset to\n",
            "[nltk_data]    |     /root/nltk_data...\n",
            "[nltk_data]    |   Unzipping taggers/universal_tagset.zip.\n",
            "[nltk_data]    | Downloading package maxent_ne_chunker to\n",
            "[nltk_data]    |     /root/nltk_data...\n",
            "[nltk_data]    |   Unzipping chunkers/maxent_ne_chunker.zip.\n",
            "[nltk_data]    | Downloading package punkt to /root/nltk_data...\n",
            "[nltk_data]    |   Unzipping tokenizers/punkt.zip.\n",
            "[nltk_data]    | Downloading package book_grammars to\n",
            "[nltk_data]    |     /root/nltk_data...\n",
            "[nltk_data]    |   Unzipping grammars/book_grammars.zip.\n",
            "[nltk_data]    | Downloading package sample_grammars to\n",
            "[nltk_data]    |     /root/nltk_data...\n",
            "[nltk_data]    |   Unzipping grammars/sample_grammars.zip.\n",
            "[nltk_data]    | Downloading package spanish_grammars to\n",
            "[nltk_data]    |     /root/nltk_data...\n",
            "[nltk_data]    |   Unzipping grammars/spanish_grammars.zip.\n",
            "[nltk_data]    | Downloading package basque_grammars to\n",
            "[nltk_data]    |     /root/nltk_data...\n",
            "[nltk_data]    |   Unzipping grammars/basque_grammars.zip.\n",
            "[nltk_data]    | Downloading package large_grammars to\n",
            "[nltk_data]    |     /root/nltk_data...\n",
            "[nltk_data]    |   Unzipping grammars/large_grammars.zip.\n",
            "[nltk_data]    | Downloading package tagsets to /root/nltk_data...\n",
            "[nltk_data]    |   Unzipping help/tagsets.zip.\n",
            "[nltk_data]    | Downloading package snowball_data to\n",
            "[nltk_data]    |     /root/nltk_data...\n",
            "[nltk_data]    | Downloading package bllip_wsj_no_aux to\n",
            "[nltk_data]    |     /root/nltk_data...\n",
            "[nltk_data]    |   Unzipping models/bllip_wsj_no_aux.zip.\n",
            "[nltk_data]    | Downloading package word2vec_sample to\n",
            "[nltk_data]    |     /root/nltk_data...\n",
            "[nltk_data]    |   Unzipping models/word2vec_sample.zip.\n",
            "[nltk_data]    | Downloading package panlex_swadesh to\n",
            "[nltk_data]    |     /root/nltk_data...\n",
            "[nltk_data]    | Downloading package mte_teip5 to /root/nltk_data...\n",
            "[nltk_data]    |   Unzipping corpora/mte_teip5.zip.\n",
            "[nltk_data]    | Downloading package averaged_perceptron_tagger to\n",
            "[nltk_data]    |     /root/nltk_data...\n",
            "[nltk_data]    |   Unzipping taggers/averaged_perceptron_tagger.zip.\n",
            "[nltk_data]    | Downloading package averaged_perceptron_tagger_ru to\n",
            "[nltk_data]    |     /root/nltk_data...\n",
            "[nltk_data]    |   Unzipping\n",
            "[nltk_data]    |       taggers/averaged_perceptron_tagger_ru.zip.\n",
            "[nltk_data]    | Downloading package perluniprops to\n",
            "[nltk_data]    |     /root/nltk_data...\n",
            "[nltk_data]    |   Unzipping misc/perluniprops.zip.\n",
            "[nltk_data]    | Downloading package nonbreaking_prefixes to\n",
            "[nltk_data]    |     /root/nltk_data...\n",
            "[nltk_data]    |   Unzipping corpora/nonbreaking_prefixes.zip.\n",
            "[nltk_data]    | Downloading package vader_lexicon to\n",
            "[nltk_data]    |     /root/nltk_data...\n",
            "[nltk_data]    | Downloading package porter_test to /root/nltk_data...\n",
            "[nltk_data]    |   Unzipping stemmers/porter_test.zip.\n",
            "[nltk_data]    | Downloading package wmt15_eval to /root/nltk_data...\n",
            "[nltk_data]    |   Unzipping models/wmt15_eval.zip.\n",
            "[nltk_data]    | Downloading package mwa_ppdb to /root/nltk_data...\n",
            "[nltk_data]    |   Unzipping misc/mwa_ppdb.zip.\n",
            "[nltk_data]    | \n",
            "[nltk_data]  Done downloading collection all\n"
          ],
          "name": "stdout"
        }
      ]
    },
    {
      "cell_type": "code",
      "metadata": {
        "id": "gX-0ZUA-vMq9"
      },
      "source": [
        "from nltk.corpus import stopwords"
      ],
      "execution_count": null,
      "outputs": []
    },
    {
      "cell_type": "code",
      "metadata": {
        "id": "wptY0CkYlB9M",
        "colab": {
          "base_uri": "https://localhost:8080/"
        },
        "outputId": "16a86b91-c0ab-4733-9929-248f0c32c4df"
      },
      "source": [
        "import numpy as np\r\n",
        "from numpy import array\r\n",
        "import pandas as pd\r\n",
        "import matplotlib.pyplot as plt \r\n",
        "import string\r\n",
        "import os\r\n",
        "from PIL import Image\r\n",
        "import glob\r\n",
        "from pickle import dump, load\r\n",
        "from tqdm import tqdm_notebook as tqdm\r\n",
        "from keras.preprocessing import sequence\r\n",
        "from keras.models import load_model\r\n",
        "from keras.layers import Embedding, Reshape\r\n",
        "from keras.layers.merge import add\r\n",
        "from keras.preprocessing import image\r\n",
        "from keras.models import Model\r\n",
        "from keras.preprocessing.text import Tokenizer\r\n",
        "from keras.preprocessing.sequence import pad_sequences\r\n",
        "\r\n",
        "try:\r\n",
        "    import dill as pickle\r\n",
        "except ImportError:\r\n",
        "    import pickle"
      ],
      "execution_count": null,
      "outputs": [
        {
          "output_type": "stream",
          "text": [
            "Using TensorFlow backend.\n"
          ],
          "name": "stderr"
        }
      ]
    },
    {
      "cell_type": "code",
      "metadata": {
        "colab": {
          "base_uri": "https://localhost:8080/"
        },
        "id": "UQeazqvDlGBi",
        "outputId": "f1a65d4a-9f10-4555-cef0-df32432065c8"
      },
      "source": [
        "from google.colab import drive\r\n",
        "drive.mount('/content/drive')"
      ],
      "execution_count": null,
      "outputs": [
        {
          "output_type": "stream",
          "text": [
            "Mounted at /content/drive\n"
          ],
          "name": "stdout"
        }
      ]
    },
    {
      "cell_type": "code",
      "metadata": {
        "id": "P1VfrXFllHl0"
      },
      "source": [
        "# load doc into memory\r\n",
        "def load_doc(filename): \r\n",
        "    file = open(filename, 'r') \r\n",
        "    text = file.read() \r\n",
        "    file.close()\r\n",
        "    return text\r\n",
        "\r\n",
        "base_dir = \"/content/drive/My Drive/IK/\"\r\n",
        "dataset_dir = \"/content/drive/My Drive/\"\r\n",
        "descriptions_filename = dataset_dir + \"Flickr8k_text/Flickr8k.token.txt\"\r\n",
        "# load descriptions\r\n",
        "descriptions_doc = load_doc(descriptions_filename)"
      ],
      "execution_count": null,
      "outputs": []
    },
    {
      "cell_type": "code",
      "metadata": {
        "id": "OpnPcGCAlKxw",
        "colab": {
          "base_uri": "https://localhost:8080/"
        },
        "outputId": "b7f49e51-848c-43d2-a1fa-de50d73fa475"
      },
      "source": [
        "def load_descriptions(doc):\r\n",
        "    mapping = dict()\r\n",
        "    for line in doc.split('\\n'):\r\n",
        "        if len(line) < 2:\r\n",
        "            continue\r\n",
        "        tokens = line.split()\r\n",
        "        image_id, image_desc = tokens[0], tokens[1:]\r\n",
        "        image_id = image_id.split('.')[0]\r\n",
        "        image_desc = ' '.join(image_desc)\r\n",
        "        if image_id not in mapping:\r\n",
        "            mapping[image_id] = list()\r\n",
        "        mapping[image_id].append(image_desc)\r\n",
        "    return mapping\r\n",
        "descriptions = load_descriptions(descriptions_doc)\r\n",
        "print('Loaded: %d ' % len(descriptions))"
      ],
      "execution_count": null,
      "outputs": [
        {
          "output_type": "stream",
          "text": [
            "Loaded: 8092 \n"
          ],
          "name": "stdout"
        }
      ]
    },
    {
      "cell_type": "code",
      "metadata": {
        "id": "IVw9aSp5lPJk"
      },
      "source": [
        "from nltk.tokenize import RegexpTokenizer\r\n",
        "tokenizer = RegexpTokenizer(r'\\w+')\r\n",
        "def clean_descriptions(descriptions):\r\n",
        "    table = str.maketrans('', '', string.punctuation)\r\n",
        "    for key, desc_list in descriptions.items():\r\n",
        "        for i in range(len(desc_list)):\r\n",
        "            desc = desc_list[i]\r\n",
        "            # create tokens from sentence\r\n",
        "            desc = tokenizer.tokenize(desc)\r\n",
        "            # make tokens lowercase\r\n",
        "            desc = [word.lower() for word in desc]\r\n",
        "            # filter one letter tokens\r\n",
        "            desc = [word for word in desc if len(word)>1]\r\n",
        "            # merge into one string\r\n",
        "            desc_list[i] =  ' '.join(desc)\r\n",
        "clean_descriptions(descriptions)"
      ],
      "execution_count": null,
      "outputs": []
    },
    {
      "cell_type": "code",
      "metadata": {
        "colab": {
          "base_uri": "https://localhost:8080/"
        },
        "id": "1l_xdKqynKdJ",
        "outputId": "d364908b-54cd-450e-b7d0-f9b9eafde5d8"
      },
      "source": [
        "# convert the loaded descriptions into a vocabulary of words\r\n",
        "def getVocabulary(descriptions):\r\n",
        "    # build a list of all description strings\r\n",
        "    all_desc = set()\r\n",
        "    for key in descriptions.keys():\r\n",
        "        [all_desc.update(tokenizer.tokenize(d)) for d in descriptions[key]]\r\n",
        "    return all_desc\r\n",
        "# summarize vocabulary\r\n",
        "vocabulary = getVocabulary(descriptions)\r\n",
        "print('Original Vocabulary Size: %d' % len(vocabulary))"
      ],
      "execution_count": null,
      "outputs": [
        {
          "output_type": "stream",
          "text": [
            "Original Vocabulary Size: 8464\n"
          ],
          "name": "stdout"
        }
      ]
    },
    {
      "cell_type": "code",
      "metadata": {
        "colab": {
          "base_uri": "https://localhost:8080/"
        },
        "id": "4B74xlUrt2vU",
        "outputId": "0581e75d-93fa-43a3-f2ad-90f82b317688"
      },
      "source": [
        "def load_set(filename):\r\n",
        "    doc = load_doc(filename)\r\n",
        "    dataset = list()\r\n",
        "    for line in doc.split('\\n'):\r\n",
        "        if len(line) < 1:\r\n",
        "            continue\r\n",
        "        dataset.append(line)\r\n",
        "    return (dataset)\r\n",
        "filename = dataset_dir + 'Flickr8k_text/Flickr_8k.trainImages.txt'\r\n",
        "train_names = load_set(filename)\r\n",
        "print('Train size: %d' % len(train_names))\r\n",
        "Directroy_path = dataset_dir + 'Flickr8k_Dataset/Flicker8k_Dataset/'\r\n",
        "train_img= [Directroy_path+i  for i in train_names]"
      ],
      "execution_count": null,
      "outputs": [
        {
          "output_type": "stream",
          "text": [
            "Train size: 6000\n"
          ],
          "name": "stdout"
        }
      ]
    },
    {
      "cell_type": "code",
      "metadata": {
        "colab": {
          "base_uri": "https://localhost:8080/"
        },
        "id": "0FxRJ9fnuNHj",
        "outputId": "001aad1f-2e8f-4cec-db6e-1b3b17594f82"
      },
      "source": [
        "# Loading test data, \r\n",
        "def load_set(filename):\r\n",
        "    doc = load_doc(filename)\r\n",
        "    dataset = list()\r\n",
        "    for line in doc.split('\\n'):\r\n",
        "        if len(line) < 1:\r\n",
        "            continue\r\n",
        "        dataset.append(line)\r\n",
        "    return (dataset)\r\n",
        "filename = dataset_dir + 'Flickr8k_text/Flickr_8k.testImages.txt'\r\n",
        "test_names = load_set(filename)\r\n",
        "print('Test Size: %d' % len(test_names))\r\n",
        "Directroy_path = dataset_dir + 'Flickr8k_Dataset/Flicker8k_Dataset/'\r\n",
        "test_img= [Directroy_path+i  for i in test_names]"
      ],
      "execution_count": null,
      "outputs": [
        {
          "output_type": "stream",
          "text": [
            "Test Size: 1000\n"
          ],
          "name": "stdout"
        }
      ]
    },
    {
      "cell_type": "code",
      "metadata": {
        "colab": {
          "base_uri": "https://localhost:8080/"
        },
        "id": "B408nOeQuPBu",
        "outputId": "5690b021-c786-4aba-d2a1-31cd8b3b8540"
      },
      "source": [
        "# we r extracting train data captions such that, each captions starts with 'startseq' and ends with 'endseq\r\n",
        "def load_clean_descriptions(filename, dataset):\r\n",
        "    # load document\r\n",
        "    dataset = [i.split('.')[0] for i in dataset]\r\n",
        "    doc = load_doc(filename)\r\n",
        "    descriptions = dict()\r\n",
        "    for line in doc.split('\\n'):\r\n",
        "        tokens = line.split()\r\n",
        "        image_id, image_desc = tokens[0], tokens[1:]\r\n",
        "        if image_id in dataset:\r\n",
        "            if image_id not in descriptions:\r\n",
        "                descriptions[image_id] = list()\r\n",
        "            desc = 'startseq ' + ' '.join(image_desc) + ' endseq'\r\n",
        "            descriptions[image_id].append(desc)\r\n",
        "    return descriptions\r\n",
        "# descriptions\r\n",
        "train_descriptions = load_clean_descriptions(base_dir + 'descriptions.txt', train_names)\r\n",
        "print('Descriptions: train=%d' % len(train_descriptions))\r\n",
        "test_descriptions = load_clean_descriptions(base_dir + 'descriptions.txt', test_names)\r\n",
        "print('Descriptions: test=%d' % len(test_descriptions))"
      ],
      "execution_count": null,
      "outputs": [
        {
          "output_type": "stream",
          "text": [
            "Descriptions: train=6000\n",
            "Descriptions: test=1000\n"
          ],
          "name": "stdout"
        }
      ]
    },
    {
      "cell_type": "code",
      "metadata": {
        "colab": {
          "base_uri": "https://localhost:8080/"
        },
        "id": "TWRZiP3PujsI",
        "outputId": "e6f07b4d-74c0-4b16-82a0-e973bb90719b"
      },
      "source": [
        "# Loading Image Features\r\n",
        "train_features = load(open(base_dir + \"encoded_train_images.pkl\", \"rb\"))\r\n",
        "print('Photos: train=%d' % len(train_features))\r\n",
        "# Loading Image Features\r\n",
        "test_features = load(open(base_dir + \"encoded_test_images.pkl\", \"rb\"))\r\n",
        "print('Photos: test=%d' % len(test_features))\r\n",
        "# Load Train Descriptions, which contains, 5 captions corresponding to a key\r\n",
        "train_descriptions = load(open(base_dir + \"train_descriptions.pkl\", \"rb\"))\r\n",
        "print('Photos: train=%d' % len(train_descriptions))\r\n",
        "test_descriptions = load(open(base_dir + \"test_descriptions.pkl\", \"rb\"))\r\n",
        "print('Photos: test=%d' % len(test_descriptions))"
      ],
      "execution_count": null,
      "outputs": [
        {
          "output_type": "stream",
          "text": [
            "Photos: train=6000\n",
            "Photos: test=1000\n",
            "Photos: train=6000\n",
            "Photos: test=1000\n"
          ],
          "name": "stdout"
        }
      ]
    },
    {
      "cell_type": "code",
      "metadata": {
        "colab": {
          "base_uri": "https://localhost:8080/"
        },
        "id": "utX5x4X1xUv_",
        "outputId": "6af2cdd0-2e6f-4971-9ba1-00bd2e8dc0c8"
      },
      "source": [
        "# Create a list of all the training captions\r\n",
        "train_captions = []\r\n",
        "for key, val in train_descriptions.items():\r\n",
        "    for cap in val:\r\n",
        "        train_captions.append(cap)\r\n",
        "len(train_captions)"
      ],
      "execution_count": null,
      "outputs": [
        {
          "output_type": "execute_result",
          "data": {
            "text/plain": [
              "30000"
            ]
          },
          "metadata": {
            "tags": []
          },
          "execution_count": 12
        }
      ]
    },
    {
      "cell_type": "code",
      "metadata": {
        "colab": {
          "base_uri": "https://localhost:8080/"
        },
        "id": "6Ep9GlHlxRfo",
        "outputId": "5c5b7742-923c-4fa2-902e-7a7ba657bcba"
      },
      "source": [
        "threshold = 7\r\n",
        "word_counts = {}\r\n",
        "nsents = 0\r\n",
        "for sent in train_captions:\r\n",
        "    nsents += 1\r\n",
        "    for w in sent.split(' '):\r\n",
        "        if w not in word_counts:\r\n",
        "            word_counts[w] = 0\r\n",
        "        word_counts[w] += 1\r\n",
        "vocab = [w for w in word_counts if word_counts[w] >= threshold]\r\n",
        "print('preprocessed words %d -> %d' % (len(word_counts), len(vocab)))"
      ],
      "execution_count": null,
      "outputs": [
        {
          "output_type": "stream",
          "text": [
            "preprocessed words 7350 -> 2063\n"
          ],
          "name": "stdout"
        }
      ]
    },
    {
      "cell_type": "code",
      "metadata": {
        "colab": {
          "base_uri": "https://localhost:8080/"
        },
        "id": "MRwZYcTjxNVI",
        "outputId": "0b6953b0-498e-4b80-d51c-88608c47caef"
      },
      "source": [
        "ixtoword = {}\r\n",
        "wordtoix = {}\r\n",
        "ix = 1\r\n",
        "for w in vocab:\r\n",
        "    wordtoix[w] = ix\r\n",
        "    ixtoword[ix] = w\r\n",
        "    ix += 1\r\n",
        "vocab_size = len(ixtoword) + 1 # one for appended 0's\r\n",
        "vocab_size"
      ],
      "execution_count": null,
      "outputs": [
        {
          "output_type": "execute_result",
          "data": {
            "text/plain": [
              "2064"
            ]
          },
          "metadata": {
            "tags": []
          },
          "execution_count": 14
        }
      ]
    },
    {
      "cell_type": "code",
      "metadata": {
        "colab": {
          "base_uri": "https://localhost:8080/",
          "height": 142,
          "referenced_widgets": [
            "ba0004a263414c10b02ef1aca2e5da99",
            "a39c93376960410db9c5685221461479",
            "90b0bbb8c01f44e08064c04808c7e767",
            "e9be9b5e59194fd2ac8b1c581d3bd2cf",
            "cf3c0d74be234a5998668c10673aa2d5",
            "fa9b13fd9de048a3b261ec0f221b3959",
            "197d51dac33140b8b29e6410f8ab9350",
            "b551d419629948ea932e12171c5cd6e6"
          ]
        },
        "id": "kp8_-MgcxdZr",
        "outputId": "2d54b256-3378-4dfe-83af-7ff02e1af53c"
      },
      "source": [
        "# Load Glove vectors, which contains vectors(200 Dimension) corresponding to words. \r\n",
        "glove_dir = '/content/drive/My Drive/'\r\n",
        "embeddings_index = {}\r\n",
        "f = open(os.path.join(glove_dir, 'Kopia glove.6B.200d.txt'), encoding=\"utf-8\")\r\n",
        "for line in tqdm(f):\r\n",
        "    values = line.split()\r\n",
        "    word = values[0]\r\n",
        "    coefs = np.asarray(values[1:], dtype='float32')\r\n",
        "    embeddings_index[word] = coefs\r\n",
        "f.close()\r\n",
        "print('Found %s word vectors.' % len(embeddings_index))"
      ],
      "execution_count": null,
      "outputs": [
        {
          "output_type": "stream",
          "text": [
            "/usr/local/lib/python3.6/dist-packages/ipykernel_launcher.py:5: TqdmDeprecationWarning: This function will be removed in tqdm==5.0.0\n",
            "Please use `tqdm.notebook.tqdm` instead of `tqdm.tqdm_notebook`\n",
            "  \"\"\"\n"
          ],
          "name": "stderr"
        },
        {
          "output_type": "display_data",
          "data": {
            "application/vnd.jupyter.widget-view+json": {
              "model_id": "ba0004a263414c10b02ef1aca2e5da99",
              "version_minor": 0,
              "version_major": 2
            },
            "text/plain": [
              "HBox(children=(FloatProgress(value=1.0, bar_style='info', max=1.0), HTML(value='')))"
            ]
          },
          "metadata": {
            "tags": []
          }
        },
        {
          "output_type": "stream",
          "text": [
            "\n",
            "Found 400000 word vectors.\n"
          ],
          "name": "stdout"
        }
      ]
    },
    {
      "cell_type": "code",
      "metadata": {
        "colab": {
          "base_uri": "https://localhost:8080/",
          "height": 123,
          "referenced_widgets": [
            "0ee4093910a142e6aac9c5c0221ccb91",
            "133163460f704691a8730023f7a2ea1f",
            "5dc603a09f5b4094a2ecd06441bb190b",
            "6557cc92f4214787811da1e309ff6067",
            "2a453025a42f4ed3a6fe5fed72bfa929",
            "ed921373e19e4568a4494b30584714fc",
            "f909253227da488f8038e973b9136f47",
            "b18e7b25f4fd4d4f8d43e4ae92f8d79a"
          ]
        },
        "id": "DFMSRfovxHEP",
        "outputId": "262f78ae-d90e-43d4-ff46-f00357bae831"
      },
      "source": [
        "embedding_dim = 200\r\n",
        "embedding_matrix = np.zeros((vocab_size, embedding_dim))\r\n",
        "for word, i in tqdm(wordtoix.items()):\r\n",
        "    if word in embeddings_index:\r\n",
        "        embedding_vector = embeddings_index[word]\r\n",
        "        embedding_matrix[i] = embedding_vector"
      ],
      "execution_count": null,
      "outputs": [
        {
          "output_type": "stream",
          "text": [
            "/usr/local/lib/python3.6/dist-packages/ipykernel_launcher.py:3: TqdmDeprecationWarning: This function will be removed in tqdm==5.0.0\n",
            "Please use `tqdm.notebook.tqdm` instead of `tqdm.tqdm_notebook`\n",
            "  This is separate from the ipykernel package so we can avoid doing imports until\n"
          ],
          "name": "stderr"
        },
        {
          "output_type": "display_data",
          "data": {
            "application/vnd.jupyter.widget-view+json": {
              "model_id": "0ee4093910a142e6aac9c5c0221ccb91",
              "version_minor": 0,
              "version_major": 2
            },
            "text/plain": [
              "HBox(children=(FloatProgress(value=0.0, max=2063.0), HTML(value='')))"
            ]
          },
          "metadata": {
            "tags": []
          }
        },
        {
          "output_type": "stream",
          "text": [
            "\n"
          ],
          "name": "stdout"
        }
      ]
    },
    {
      "cell_type": "code",
      "metadata": {
        "id": "yjpieQdivKIv"
      },
      "source": [
        "with open(base_dir + 'Embedding_Matrix.pkl', 'wb') as embedding_pickle:\r\n",
        "    pickle.dump(embedding_matrix, embedding_pickle)"
      ],
      "execution_count": null,
      "outputs": []
    },
    {
      "cell_type": "code",
      "metadata": {
        "id": "m38eDWjbvLiG"
      },
      "source": [
        "with open(base_dir + 'wordtoix.pkl', 'wb') as wti_pickle:\r\n",
        "    pickle.dump(wordtoix, wti_pickle)"
      ],
      "execution_count": null,
      "outputs": []
    },
    {
      "cell_type": "code",
      "metadata": {
        "colab": {
          "base_uri": "https://localhost:8080/"
        },
        "id": "hPg4m5ghvL0X",
        "outputId": "35ce0e65-e302-41b9-d84a-0af359f65b68"
      },
      "source": [
        "# Loading Image Features\r\n",
        "train_features = load(open(base_dir + \"encoded_train_images.pkl\", \"rb\"))\r\n",
        "print('Photos: train=%d' % len(train_features))"
      ],
      "execution_count": null,
      "outputs": [
        {
          "output_type": "stream",
          "text": [
            "Photos: train=6000\n"
          ],
          "name": "stdout"
        }
      ]
    },
    {
      "cell_type": "code",
      "metadata": {
        "colab": {
          "base_uri": "https://localhost:8080/"
        },
        "id": "QVJ6y5OkvP9W",
        "outputId": "638d98ba-5afd-45b4-b1f7-58d8fcd15293"
      },
      "source": [
        "# Loading embedding_matrix\r\n",
        "embedding_matrix = load(open(base_dir + \"Embedding_Matrix.pkl\", \"rb\"))\r\n",
        "print('Embedding Matrix shape = (%d, %d)' % (embedding_matrix.shape))"
      ],
      "execution_count": null,
      "outputs": [
        {
          "output_type": "stream",
          "text": [
            "Embedding Matrix shape = (2064, 200)\n"
          ],
          "name": "stdout"
        }
      ]
    },
    {
      "cell_type": "code",
      "metadata": {
        "colab": {
          "base_uri": "https://localhost:8080/"
        },
        "id": "UynoOL6hvRke",
        "outputId": "50d01b68-1309-4793-f73b-3f731f44aad9"
      },
      "source": [
        "# Loading wordtoix\r\n",
        "wordtoix = load(open(base_dir + \"wordtoix.pkl\", \"rb\"))\r\n",
        "print('Wordtoix Length = %d' % len(wordtoix))"
      ],
      "execution_count": null,
      "outputs": [
        {
          "output_type": "stream",
          "text": [
            "Wordtoix Length = 2063\n"
          ],
          "name": "stdout"
        }
      ]
    },
    {
      "cell_type": "code",
      "metadata": {
        "id": "YL9BRxRevS-i"
      },
      "source": [
        "model = load_model(base_dir + 'model_39.h5')"
      ],
      "execution_count": null,
      "outputs": []
    },
    {
      "cell_type": "code",
      "metadata": {
        "id": "Ok_nLeUvvbVe"
      },
      "source": [
        "with open(base_dir + \"encoded_test_images.pkl\", \"rb\") as encoded_pickle:\r\n",
        "    encoding_test = load(encoded_pickle)"
      ],
      "execution_count": null,
      "outputs": []
    },
    {
      "cell_type": "code",
      "metadata": {
        "id": "cEAOycTh9jJd"
      },
      "source": [
        "with open(base_dir + \"encoded_train_images.pkl\", \"rb\") as encoded_pickle:\r\n",
        "    encoding_train = load(encoded_pickle)"
      ],
      "execution_count": null,
      "outputs": []
    },
    {
      "cell_type": "code",
      "metadata": {
        "id": "TJ5lV7TxvgFi"
      },
      "source": [
        "ixtoword = {}\r\n",
        "for word, i in wordtoix.items():\r\n",
        "    ixtoword[i] = word"
      ],
      "execution_count": null,
      "outputs": []
    },
    {
      "cell_type": "code",
      "metadata": {
        "id": "5Jafp1dgviNH"
      },
      "source": [
        "Directory_path = dataset_dir + 'Flickr8k_Dataset/Flicker8k_Dataset/'"
      ],
      "execution_count": null,
      "outputs": []
    },
    {
      "cell_type": "code",
      "metadata": {
        "id": "DPZuKkk2vkWu"
      },
      "source": [
        "def greedySearch(photo):\r\n",
        "    in_text = 'startseq'\r\n",
        "    for i in range(max_length):\r\n",
        "        sequence = [wordtoix[w] for w in in_text.split() if w in wordtoix]\r\n",
        "        sequence = pad_sequences([sequence], maxlen=max_length)\r\n",
        "        yhat = model.predict([photo,sequence], verbose=0)\r\n",
        "        yhat = np.argmax(yhat)\r\n",
        "        word = ixtoword[yhat]\r\n",
        "        in_text += ' ' + word\r\n",
        "        if word == 'endseq':\r\n",
        "            break\r\n",
        "    final = in_text.split()\r\n",
        "    final = final[1:-1]\r\n",
        "    final = ' '.join(final)\r\n",
        "    return final"
      ],
      "execution_count": null,
      "outputs": []
    },
    {
      "cell_type": "code",
      "metadata": {
        "id": "alwHc9arvl6X"
      },
      "source": [
        "max_length = 35"
      ],
      "execution_count": null,
      "outputs": []
    },
    {
      "cell_type": "code",
      "metadata": {
        "id": "PDLTivN-Sw6c"
      },
      "source": [
        "en_stops = set(stopwords.words('english'))"
      ],
      "execution_count": null,
      "outputs": []
    },
    {
      "cell_type": "code",
      "metadata": {
        "id": "Z8zNSIuwRSFM"
      },
      "source": [
        "porter = PorterStemmer()\r\n",
        "lancaster=LancasterStemmer()\r\n",
        "lemma=WordNetLemmatizer()\r\n",
        "#BOW dla pojedynczego obrazka treningowego, jest to worek słów\r\n",
        "def bow_words(image,encoding, sentence):\r\n",
        "  pic = list(encoding.keys())[image]\r\n",
        "  actual=descriptions[pic.split('.')[0]]\r\n",
        "  word_counts = []\r\n",
        "  if sentence == 'sentences': #dla zdań z worka uczącego\r\n",
        "    for sent in actual:\r\n",
        "      for w in sent.split(' '):\r\n",
        "        w=lemma.lemmatize(w)\r\n",
        "        w=porter.stem(w)\r\n",
        "        if w not in word_counts:\r\n",
        "          if w not in en_stops:\r\n",
        "            word_counts.append(w)\r\n",
        "  elif sentence == 'sentence': #dla przewidzianego zdania\r\n",
        "    image = encoding[pic].reshape((1,2048))\r\n",
        "    predicted = greedySearch(image)\r\n",
        "    for w in predicted.split(' '):\r\n",
        "      w=lemma.lemmatize(w)\r\n",
        "      w=porter.stem(w)\r\n",
        "      if w not in word_counts:\r\n",
        "        if w not in en_stops:\r\n",
        "          word_counts.append(w)\r\n",
        "  return word_counts"
      ],
      "execution_count": null,
      "outputs": []
    },
    {
      "cell_type": "code",
      "metadata": {
        "id": "Tt5WgF6fTiPM"
      },
      "source": [
        "#BOW dla zbioru treningowego\r\n",
        "train=[]\r\n",
        "for i in range(len(encoding_train)):\r\n",
        "  bow1=bow_words(i, encoding_train, 'sentences')\r\n",
        "  train.append(bow1)"
      ],
      "execution_count": null,
      "outputs": []
    },
    {
      "cell_type": "code",
      "metadata": {
        "id": "R-1sM0UEAa5i"
      },
      "source": [
        "word_cloud_train=[]\r\n",
        "for i in train:\r\n",
        "  for x in i:\r\n",
        "    word_cloud_train.append(x)\r\n",
        "word_cloud_train=pd.DataFrame(word_cloud_train, index=None, columns=None)"
      ],
      "execution_count": null,
      "outputs": []
    },
    {
      "cell_type": "code",
      "metadata": {
        "colab": {
          "base_uri": "https://localhost:8080/",
          "height": 198
        },
        "id": "AG9ahm0mAClp",
        "outputId": "859bd3e0-eaf7-4c6c-ef5e-d9f708d160bf"
      },
      "source": [
        "from wordcloud import WordCloud, STOPWORDS\r\n",
        "stopwords = set(STOPWORDS)\r\n",
        "stopwords.update([\"columns\", \"rows\"])\r\n",
        "wordcloud = WordCloud(stopwords=stopwords, background_color=\"white\").generate(str(word_cloud_train))\r\n",
        "plt.figure()\r\n",
        "plt.imshow(wordcloud, interpolation=\"bilinear\")\r\n",
        "plt.axis(\"off\")\r\n",
        "plt.show()"
      ],
      "execution_count": null,
      "outputs": [
        {
          "output_type": "display_data",
          "data": {
            "image/png": "[encoded data removed]",
            "text/plain": [
              "<Figure size 432x288 with 1 Axes>"
            ]
          },
          "metadata": {
            "tags": [],
            "needs_background": "light"
          }
        }
      ]
    },
    {
      "cell_type": "code",
      "metadata": {
        "id": "5M-y0UBu8CYE"
      },
      "source": [
        "from operator import itemgetter "
      ],
      "execution_count": null,
      "outputs": []
    },
    {
      "cell_type": "code",
      "metadata": {
        "id": "-CK4Ypjq3Zwy"
      },
      "source": [
        "def percentage_bow(images, encoding): #wartość dla konkretnego obrazka, wartości predykcji\r\n",
        "  pic = list(encoding.keys())[images]\r\n",
        "  actual=descriptions[pic.split('.')[0]]\r\n",
        "  pred=bow_words(images,encoding, sentence='sentence')\r\n",
        "  word_counts = []\r\n",
        "  for sent in actual:\r\n",
        "    for w in sent.split(' '):\r\n",
        "      w=lemma.lemmatize(w)\r\n",
        "      w=porter.stem(w)\r\n",
        "      if w not in en_stops:\r\n",
        "        if w not in word_counts:\r\n",
        "          word_counts.append(w)\r\n",
        "  licznik=0\r\n",
        "  for x in pred:\r\n",
        "    if x in word_counts:\r\n",
        "      licznik+=1\r\n",
        "  return licznik/len(pred)"
      ],
      "execution_count": null,
      "outputs": []
    },
    {
      "cell_type": "code",
      "metadata": {
        "id": "qfZtLQ15n4XA"
      },
      "source": [
        "def best_image_bow(image, encoding):\r\n",
        "  pred=bow_words(image, encoding, 'sentence')\r\n",
        "  output_train=[]\r\n",
        "  indeks = []\r\n",
        "  for i in range(len(encoding)):\r\n",
        "    licznik=0\r\n",
        "    for x in pred:\r\n",
        "      if encoding == encoding_train:\r\n",
        "        if x in train[i]:\r\n",
        "          licznik+=1\r\n",
        "      elif encoding == encoding_test:\r\n",
        "        if x in test[i]:\r\n",
        "          licznik+=1\r\n",
        "    out=licznik/len(pred)\r\n",
        "    output_train.append(out)\r\n",
        "    indeks.append((i,out))\r\n",
        "  wartosc=np.max(output_train)\r\n",
        "  max_idx = max(indeks, key=itemgetter(1))[0]\r\n",
        "  return output_train, wartosc, max_idx #wartosci predykcji i maks wartosc i numer indeksu max wartości"
      ],
      "execution_count": null,
      "outputs": []
    },
    {
      "cell_type": "code",
      "metadata": {
        "id": "huzcutgZAhCe"
      },
      "source": [
        "from nltk.probability import FreqDist"
      ],
      "execution_count": null,
      "outputs": []
    },
    {
      "cell_type": "code",
      "metadata": {
        "id": "VzrsBp9tVbi9"
      },
      "source": [
        "#dla zbioru treningowego\r\n",
        "def bow_max_index_probability(encoding):\r\n",
        "  bow_train_all = 0\r\n",
        "  good = [] #worki ze zbiorów uczacych, dla obrazów przewidzianych poprawnie\r\n",
        "  wrong_worki_uczace = [] #worki ze zbiorów uczacych, dla obrazów przewidzianych źle\r\n",
        "  wrong_worki_najlepsze = [] ##worki ze zbiorów obrazków najlepszych, dla obrazów przewidzianych źle\r\n",
        "  pred_good = [] #worki dla zdań przewidzianych poprawnie\r\n",
        "  pred_wrong = [] #worki dla zdań przewidzianych źle\r\n",
        "  values=[]\r\n",
        "  val=0\r\n",
        "  for i in range(len(encoding)):\r\n",
        "    val_i=percentage_bow(i, encoding)\r\n",
        "    output_train, image_val, indeks=best_image_bow(i, encoding)\r\n",
        "    _, value_max,_=best_image_bow(indeks, encoding)\r\n",
        "    pred=bow_words(i, encoding, 'sentence')\r\n",
        "    if round(value_max,2) == round(image_val,2):\r\n",
        "      bow_train_all = bow_train_all+1\r\n",
        "      if encoding == encoding_train:\r\n",
        "        for x in train[i]:\r\n",
        "          good.append(x)\r\n",
        "        for x in pred:\r\n",
        "          pred_good.append(x)\r\n",
        "      elif encoding == encoding_test:\r\n",
        "        for x in test[i]:\r\n",
        "          good.append(x)\r\n",
        "        for x in pred:\r\n",
        "          pred_good.append(x)\r\n",
        "    else:\r\n",
        "      if encoding == encoding_train:\r\n",
        "        for x in train[indeks]:\r\n",
        "          wrong_worki_najlepsze.append(x)\r\n",
        "        for x in train[i]:\r\n",
        "          wrong_worki_uczace.append(x)\r\n",
        "        for x in pred:\r\n",
        "          pred_wrong.append(x)\r\n",
        "      elif encoding == encoding_test:\r\n",
        "        for x in test[indeks]:\r\n",
        "          wrong_worki_najlepsze.append(x)\r\n",
        "        for x in test[i]:\r\n",
        "          wrong_worki_uczace.append(x)\r\n",
        "        for x in pred:\r\n",
        "          pred_wrong.append(x)\r\n",
        "\r\n",
        "      #posortowana lista wartości predykcji\r\n",
        "      for j in output_train:\r\n",
        "        if j not in values:\r\n",
        "          values.append(j)\r\n",
        "      for x, y in enumerate(sorted(values, reverse=True)): \r\n",
        "        if y == val_i:\r\n",
        "          if y>= 0.5 and x <= (0.3*len(values)): #dodanie jako poprawnych, jesli indeks jest w 30% najlepszych wyników wartości i wartosc wieksza= 0.5\r\n",
        "            val+=1\r\n",
        "  answer_train = (bow_train_all+val)/(len(encoding))\r\n",
        "  return good, pred_good, wrong_worki_najlepsze, wrong_worki_uczace, pred_wrong, answer_train"
      ],
      "execution_count": null,
      "outputs": []
    },
    {
      "cell_type": "code",
      "metadata": {
        "id": "H8D11NMh30hY"
      },
      "source": [
        "#good = [] #worki ze zbiorów uczacych, dla obrazów przewidzianych poprawnie\r\n",
        "#wrong_worki_uczace = [] #worki ze zbiorów uczacych, dla obrazów przewidzianych źle\r\n",
        "#wrong_worki_najlepsze = [] ##worki ze zbiorów obrazków najlepszych, dla obrazów przewidzianych źle\r\n",
        "#pred_good = [] #worki dla zdań przewidzianych poprawnie\r\n",
        "#pred_wrong = [] #worki dla zdań przewidzianych źle\r\n",
        "good, pred_good, wrong_worki_najlepsze, wrong_worki_uczace, pred_wrong, answer_train = bow_max_index_probability(encoding_train)"
      ],
      "execution_count": null,
      "outputs": []
    },
    {
      "cell_type": "code",
      "metadata": {
        "id": "k1MsoYQj5ar_"
      },
      "source": [
        "print('Dopasowanie najlepszego zbioru do zbioru trenującego', answer_train)"
      ],
      "execution_count": null,
      "outputs": []
    },
    {
      "cell_type": "code",
      "metadata": {
        "colab": {
          "base_uri": "https://localhost:8080/",
          "height": 522
        },
        "id": "Ct2fAhat_B5s",
        "outputId": "bad1fabe-84fb-4628-ed28-8945f73a5ac7"
      },
      "source": [
        "#zdania przewidziane poprawnie\r\n",
        "fdist = FreqDist(pred_good)\r\n",
        "print(fdist)\r\n",
        "fdist.plot(30,cumulative=False)\r\n",
        "plt.show()\r\n",
        "fdist.most_common(10)"
      ],
      "execution_count": null,
      "outputs": [
        {
          "output_type": "stream",
          "text": [
            "<FreqDist with 561 samples and 11909 outcomes>\n"
          ],
          "name": "stdout"
        },
        {
          "output_type": "display_data",
          "data": {
            "image/png": "[encoded data removed]",
            "text/plain": [
              "<Figure size 432x288 with 1 Axes>"
            ]
          },
          "metadata": {
            "tags": [],
            "needs_background": "light"
          }
        },
        {
          "output_type": "execute_result",
          "data": {
            "text/plain": [
              "[('dog', 1220),\n",
              " ('run', 844),\n",
              " ('two', 772),\n",
              " ('grass', 590),\n",
              " ('man', 443),\n",
              " ('play', 439),\n",
              " ('boy', 393),\n",
              " ('black', 382),\n",
              " ('water', 318),\n",
              " ('red', 272)]"
            ]
          },
          "metadata": {
            "tags": []
          },
          "execution_count": 49
        }
      ]
    },
    {
      "cell_type": "code",
      "metadata": {
        "colab": {
          "base_uri": "https://localhost:8080/",
          "height": 511
        },
        "id": "g3eVJihn-ijz",
        "outputId": "4cfb1365-6e9d-4e1a-fab9-43f29d39db8c"
      },
      "source": [
        "#worki dla zdań przewidzianych poprawnie\r\n",
        "fdist = FreqDist(good)\r\n",
        "print(fdist)\r\n",
        "fdist.plot(30,cumulative=False)\r\n",
        "plt.show()\r\n",
        "fdist.most_common(10)"
      ],
      "execution_count": null,
      "outputs": [
        {
          "output_type": "stream",
          "text": [
            "<FreqDist with 3006 samples and 43716 outcomes>\n"
          ],
          "name": "stdout"
        },
        {
          "output_type": "display_data",
          "data": {
            "image/png": "[encoded data removed]",
            "text/plain": [
              "<Figure size 432x288 with 1 Axes>"
            ]
          },
          "metadata": {
            "tags": [],
            "needs_background": "light"
          }
        },
        {
          "output_type": "execute_result",
          "data": {
            "text/plain": [
              "[('dog', 1245),\n",
              " ('white', 783),\n",
              " ('black', 765),\n",
              " ('run', 713),\n",
              " ('brown', 710),\n",
              " ('play', 630),\n",
              " ('two', 617),\n",
              " ('man', 591),\n",
              " ('wear', 521),\n",
              " ('jump', 475)]"
            ]
          },
          "metadata": {
            "tags": []
          },
          "execution_count": 50
        }
      ]
    },
    {
      "cell_type": "code",
      "metadata": {
        "colab": {
          "base_uri": "https://localhost:8080/",
          "height": 511
        },
        "id": "kbER5pAE_IL9",
        "outputId": "fa262a82-fbe1-4059-c903-8e9da44852bf"
      },
      "source": [
        "#zdania przewidziane źle\r\n",
        "fdist = FreqDist(pred_wrong)\r\n",
        "print(fdist)\r\n",
        "fdist.plot(30,cumulative=False)\r\n",
        "plt.show()\r\n",
        "fdist.most_common(10)"
      ],
      "execution_count": null,
      "outputs": [
        {
          "output_type": "stream",
          "text": [
            "<FreqDist with 847 samples and 19687 outcomes>\n"
          ],
          "name": "stdout"
        },
        {
          "output_type": "display_data",
          "data": {
            "image/png": "[encoded data removed]",
            "text/plain": [
              "<Figure size 432x288 with 1 Axes>"
            ]
          },
          "metadata": {
            "tags": [],
            "needs_background": "light"
          }
        },
        {
          "output_type": "execute_result",
          "data": {
            "text/plain": [
              "[('man', 1106),\n",
              " ('shirt', 987),\n",
              " ('two', 977),\n",
              " ('red', 818),\n",
              " ('boy', 690),\n",
              " ('sit', 534),\n",
              " ('black', 521),\n",
              " ('stand', 485),\n",
              " ('play', 448),\n",
              " ('walk', 361)]"
            ]
          },
          "metadata": {
            "tags": []
          },
          "execution_count": 51
        }
      ]
    },
    {
      "cell_type": "code",
      "metadata": {
        "colab": {
          "base_uri": "https://localhost:8080/",
          "height": 511
        },
        "id": "4ITHVV728vEd",
        "outputId": "12e09283-5869-4bff-857e-a3a4673a7cd6"
      },
      "source": [
        "#worki dla zdań przewidzianych źle, najlepsze\r\n",
        "fdist = FreqDist(wrong_worki_najlepsze)\r\n",
        "print(fdist)\r\n",
        "fdist.plot(30,cumulative=False)\r\n",
        "plt.show()\r\n",
        "fdist.most_common(10)"
      ],
      "execution_count": null,
      "outputs": [
        {
          "output_type": "stream",
          "text": [
            "<FreqDist with 2269 samples and 69397 outcomes>\n"
          ],
          "name": "stdout"
        },
        {
          "output_type": "display_data",
          "data": {
            "image/png": "[encoded data removed]",
            "text/plain": [
              "<Figure size 432x288 with 1 Axes>"
            ]
          },
          "metadata": {
            "tags": [],
            "needs_background": "light"
          }
        },
        {
          "output_type": "execute_result",
          "data": {
            "text/plain": [
              "[('man', 1589),\n",
              " ('two', 1406),\n",
              " ('wear', 1337),\n",
              " ('shirt', 1282),\n",
              " ('red', 1190),\n",
              " ('boy', 1100),\n",
              " ('stand', 1100),\n",
              " ('young', 983),\n",
              " ('black', 955),\n",
              " ('peopl', 860)]"
            ]
          },
          "metadata": {
            "tags": []
          },
          "execution_count": 52
        }
      ]
    },
    {
      "cell_type": "code",
      "metadata": {
        "colab": {
          "base_uri": "https://localhost:8080/",
          "height": 511
        },
        "id": "_KFeTpGCACIT",
        "outputId": "e5325cbe-b8cb-4b15-8539-dfdd45e02744"
      },
      "source": [
        "#worki dla zdań przewidzianych źle, uczące\r\n",
        "fdist = FreqDist(wrong_worki_uczace)\r\n",
        "print(fdist)\r\n",
        "fdist.plot(30,cumulative=False)\r\n",
        "plt.show()\r\n",
        "fdist.most_common(10)"
      ],
      "execution_count": null,
      "outputs": [
        {
          "output_type": "stream",
          "text": [
            "<FreqDist with 4144 samples and 63603 outcomes>\n"
          ],
          "name": "stdout"
        },
        {
          "output_type": "display_data",
          "data": {
            "image/png": "[encoded data removed]",
            "text/plain": [
              "<Figure size 432x288 with 1 Axes>"
            ]
          },
          "metadata": {
            "tags": [],
            "needs_background": "light"
          }
        },
        {
          "output_type": "execute_result",
          "data": {
            "text/plain": [
              "[('man', 1228),\n",
              " ('wear', 1070),\n",
              " ('young', 951),\n",
              " ('two', 867),\n",
              " ('stand', 804),\n",
              " ('woman', 761),\n",
              " ('girl', 753),\n",
              " ('boy', 747),\n",
              " ('white', 717),\n",
              " ('shirt', 673)]"
            ]
          },
          "metadata": {
            "tags": []
          },
          "execution_count": 53
        }
      ]
    },
    {
      "cell_type": "code",
      "metadata": {
        "colab": {
          "base_uri": "https://localhost:8080/"
        },
        "id": "nypTh0YRs13R",
        "outputId": "03c87ff3-b410-409a-be8c-cead22e85f10"
      },
      "source": [
        "all_train=[]\r\n",
        "for idx in range(len(encoding_train)):\r\n",
        "  all_train.append(percentage_bow(idx, encoding_train))\r\n",
        "q=np.mean(all_train)\r\n",
        "print('Średnia wartość BOW dla zbioru treningowego',q)"
      ],
      "execution_count": null,
      "outputs": [
        {
          "output_type": "stream",
          "text": [
            "Średnia wartość BOW dla zbioru treningowego 0.46224704184704185\n"
          ],
          "name": "stdout"
        }
      ]
    },
    {
      "cell_type": "code",
      "metadata": {
        "id": "mX98OIyR4BPb"
      },
      "source": [
        "#BOW dla zbioru testowego\r\n",
        "test=[]\r\n",
        "for i in range(len(encoding_test)):\r\n",
        "  bow1=bow_words(i, encoding_test, 'sentences')\r\n",
        "  test.append(bow1)"
      ],
      "execution_count": null,
      "outputs": []
    },
    {
      "cell_type": "code",
      "metadata": {
        "id": "ZCy2UyFaFMsa"
      },
      "source": [
        "word_cloud_test=[]\r\n",
        "for i in test:\r\n",
        "  for x in i:\r\n",
        "    word_cloud_test.append(x)\r\n",
        "word_cloud_test=pd.DataFrame(word_cloud_test, index=None, columns=None)"
      ],
      "execution_count": null,
      "outputs": []
    },
    {
      "cell_type": "code",
      "metadata": {
        "colab": {
          "base_uri": "https://localhost:8080/",
          "height": 198
        },
        "id": "rHco1lLvFNfI",
        "outputId": "42aa3203-59b4-4774-aef9-e672e7996c83"
      },
      "source": [
        "from wordcloud import WordCloud, STOPWORDS\r\n",
        "stopwords = set(STOPWORDS)\r\n",
        "stopwords.update([\"columns\", \"rows\"])\r\n",
        "wordcloud = WordCloud(stopwords=stopwords, background_color=\"white\").generate(str(word_cloud_test))\r\n",
        "plt.figure()\r\n",
        "plt.imshow(wordcloud, interpolation=\"bilinear\")\r\n",
        "plt.axis(\"off\")\r\n",
        "plt.show()"
      ],
      "execution_count": null,
      "outputs": [
        {
          "output_type": "display_data",
          "data": {
            "image/png": "[encoded data removed]",
            "text/plain": [
              "<Figure size 432x288 with 1 Axes>"
            ]
          },
          "metadata": {
            "tags": [],
            "needs_background": "light"
          }
        }
      ]
    },
    {
      "cell_type": "code",
      "metadata": {
        "id": "yVHNlLwBLwAx"
      },
      "source": [
        "good_test, pred_good_test, wrong_worki_najlepsze_test, wrong_worki_uczace_test, pred_wrong_test, answer_test = bow_max_index_probability(encoding_test)"
      ],
      "execution_count": 108,
      "outputs": []
    },
    {
      "cell_type": "code",
      "metadata": {
        "id": "Thjnj6w-8_uB",
        "colab": {
          "base_uri": "https://localhost:8080/"
        },
        "outputId": "77e1fc08-8bc7-4191-d299-accd290652a4"
      },
      "source": [
        "print('Dopasowanie najlepszego zbioru do zbioru testowego', answer_test)"
      ],
      "execution_count": 109,
      "outputs": [
        {
          "output_type": "stream",
          "text": [
            "Dopasowanie najlepszego zbioru do zbioru testowego 0.355\n"
          ],
          "name": "stdout"
        }
      ]
    },
    {
      "cell_type": "code",
      "metadata": {
        "id": "qDrrm3mWBAOj",
        "colab": {
          "base_uri": "https://localhost:8080/",
          "height": 511
        },
        "outputId": "30723179-1fd9-4ec9-9779-f2b26e6bbedb"
      },
      "source": [
        "#zdania przewidziane poprawnie\r\n",
        "fdist = FreqDist(pred_good_test)\r\n",
        "print(fdist)\r\n",
        "fdist.plot(30,cumulative=False)\r\n",
        "plt.show()\r\n",
        "fdist.most_common(10)"
      ],
      "execution_count": null,
      "outputs": [
        {
          "output_type": "stream",
          "text": [
            "<FreqDist with 206 samples and 1239 outcomes>\n"
          ],
          "name": "stdout"
        },
        {
          "output_type": "display_data",
          "data": {
            "image/png": "[encoded data removed]",
            "text/plain": [
              "<Figure size 432x288 with 1 Axes>"
            ]
          },
          "metadata": {
            "tags": [],
            "needs_background": "light"
          }
        },
        {
          "output_type": "execute_result",
          "data": {
            "text/plain": [
              "[('dog', 123),\n",
              " ('run', 77),\n",
              " ('two', 75),\n",
              " ('grass', 54),\n",
              " ('play', 47),\n",
              " ('water', 46),\n",
              " ('boy', 43),\n",
              " ('man', 42),\n",
              " ('black', 40),\n",
              " ('red', 33)]"
            ]
          },
          "metadata": {
            "tags": []
          },
          "execution_count": 96
        }
      ]
    },
    {
      "cell_type": "code",
      "metadata": {
        "id": "bskbyhhnBA3w",
        "colab": {
          "base_uri": "https://localhost:8080/",
          "height": 508
        },
        "outputId": "8ab737bc-3fb9-49e4-cc52-9b4de7e308a1"
      },
      "source": [
        "#worki dla zdań przewidzianych poprawnie\r\n",
        "fdist = FreqDist(good_test)\r\n",
        "print(fdist)\r\n",
        "fdist.plot(30,cumulative=False)\r\n",
        "plt.show()\r\n",
        "fdist.most_common(10)"
      ],
      "execution_count": null,
      "outputs": [
        {
          "output_type": "stream",
          "text": [
            "<FreqDist with 1054 samples and 4485 outcomes>\n"
          ],
          "name": "stdout"
        },
        {
          "output_type": "display_data",
          "data": {
            "image/png": "[encoded data removed]",
            "text/plain": [
              "<Figure size 432x288 with 1 Axes>"
            ]
          },
          "metadata": {
            "tags": [],
            "needs_background": "light"
          }
        },
        {
          "output_type": "execute_result",
          "data": {
            "text/plain": [
              "[('dog', 121),\n",
              " ('white', 89),\n",
              " ('black', 72),\n",
              " ('man', 70),\n",
              " ('two', 65),\n",
              " ('wear', 64),\n",
              " ('play', 61),\n",
              " ('run', 59),\n",
              " ('hi', 55),\n",
              " ('brown', 54)]"
            ]
          },
          "metadata": {
            "tags": []
          },
          "execution_count": 97
        }
      ]
    },
    {
      "cell_type": "code",
      "metadata": {
        "id": "FnksB0uPBDrC",
        "colab": {
          "base_uri": "https://localhost:8080/",
          "height": 511
        },
        "outputId": "498b595e-b8aa-4b34-924a-080b00645f8a"
      },
      "source": [
        "#zdania przewidziane źle\r\n",
        "fdist = FreqDist(pred_wrong_test)\r\n",
        "print(fdist)\r\n",
        "fdist.plot(30,cumulative=False)\r\n",
        "plt.show()\r\n",
        "fdist.most_common(10)"
      ],
      "execution_count": null,
      "outputs": [
        {
          "output_type": "stream",
          "text": [
            "<FreqDist with 483 samples and 4047 outcomes>\n"
          ],
          "name": "stdout"
        },
        {
          "output_type": "display_data",
          "data": {
            "image/png": "[encoded data removed]",
            "text/plain": [
              "<Figure size 432x288 with 1 Axes>"
            ]
          },
          "metadata": {
            "tags": [],
            "needs_background": "light"
          }
        },
        {
          "output_type": "execute_result",
          "data": {
            "text/plain": [
              "[('two', 213),\n",
              " ('man', 195),\n",
              " ('shirt', 172),\n",
              " ('red', 169),\n",
              " ('boy', 164),\n",
              " ('play', 108),\n",
              " ('dog', 106),\n",
              " ('sit', 102),\n",
              " ('black', 82),\n",
              " ('young', 80)]"
            ]
          },
          "metadata": {
            "tags": []
          },
          "execution_count": 98
        }
      ]
    },
    {
      "cell_type": "code",
      "metadata": {
        "id": "KiwsztLVBGM1",
        "colab": {
          "base_uri": "https://localhost:8080/",
          "height": 511
        },
        "outputId": "107027d9-b3d6-4745-b328-a63e93308f18"
      },
      "source": [
        "#worki dla zdań przewidzianych źle, najlepsze\r\n",
        "fdist = FreqDist(wrong_worki_najlepsze_test)\r\n",
        "print(fdist)\r\n",
        "fdist.plot(30,cumulative=False)\r\n",
        "plt.show()\r\n",
        "fdist.most_common(10)"
      ],
      "execution_count": null,
      "outputs": [
        {
          "output_type": "stream",
          "text": [
            "<FreqDist with 1092 samples and 14729 outcomes>\n"
          ],
          "name": "stdout"
        },
        {
          "output_type": "display_data",
          "data": {
            "image/png": "[encoded data removed]",
            "text/plain": [
              "<Figure size 432x288 with 1 Axes>"
            ]
          },
          "metadata": {
            "tags": [],
            "needs_background": "light"
          }
        },
        {
          "output_type": "execute_result",
          "data": {
            "text/plain": [
              "[('two', 307),\n",
              " ('man', 304),\n",
              " ('wear', 302),\n",
              " ('red', 278),\n",
              " ('young', 232),\n",
              " ('black', 232),\n",
              " ('play', 228),\n",
              " ('blue', 228),\n",
              " ('boy', 214),\n",
              " ('stand', 206)]"
            ]
          },
          "metadata": {
            "tags": []
          },
          "execution_count": 99
        }
      ]
    },
    {
      "cell_type": "code",
      "metadata": {
        "id": "06ewVOyeBI58",
        "colab": {
          "base_uri": "https://localhost:8080/",
          "height": 511
        },
        "outputId": "11d91a4d-6037-4ee8-af56-711b24670757"
      },
      "source": [
        "#worki dla zdań przewidzianych źle, uczące\r\n",
        "fdist = FreqDist(wrong_worki_uczace_test)\r\n",
        "print(fdist)\r\n",
        "fdist.plot(30,cumulative=False)\r\n",
        "plt.show()\r\n",
        "fdist.most_common(10)"
      ],
      "execution_count": null,
      "outputs": [
        {
          "output_type": "stream",
          "text": [
            "<FreqDist with 1949 samples and 13458 outcomes>\n"
          ],
          "name": "stdout"
        },
        {
          "output_type": "display_data",
          "data": {
            "image/png": "[encoded data removed]",
            "text/plain": [
              "<Figure size 432x288 with 1 Axes>"
            ]
          },
          "metadata": {
            "tags": [],
            "needs_background": "light"
          }
        },
        {
          "output_type": "execute_result",
          "data": {
            "text/plain": [
              "[('man', 244),\n",
              " ('wear', 207),\n",
              " ('young', 182),\n",
              " ('two', 181),\n",
              " ('stand', 174),\n",
              " ('white', 164),\n",
              " ('play', 160),\n",
              " ('boy', 155),\n",
              " ('black', 153),\n",
              " ('girl', 151)]"
            ]
          },
          "metadata": {
            "tags": []
          },
          "execution_count": 100
        }
      ]
    },
    {
      "cell_type": "code",
      "metadata": {
        "id": "URbCMawXy8YN",
        "colab": {
          "base_uri": "https://localhost:8080/"
        },
        "outputId": "e53b21f1-4658-4cee-9c0b-e1986c2921ca"
      },
      "source": [
        "all_test=[]\r\n",
        "for idx in range(len(encoding_test)):\r\n",
        "  all_test.append(percentage_bow(idx, encoding_test))\r\n",
        "q=np.mean(all_test)\r\n",
        "print('Średnia wartość BOW dla zbioru testowego', q)"
      ],
      "execution_count": null,
      "outputs": [
        {
          "output_type": "stream",
          "text": [
            "Średnia wartość BOW dla zbioru testowego 0.40121875901875903\n"
          ],
          "name": "stdout"
        }
      ]
    },
    {
      "cell_type": "code",
      "metadata": {
        "id": "wUX5WLZXHD87"
      },
      "source": [
        "from nltk.translate.bleu_score import corpus_bleu\r\n",
        "def evaluate_bleu(photos, descriptions):\r\n",
        "\tactual, predicted = list(), list()\r\n",
        "\t# step over the whole set\r\n",
        "\tfor key, features in photos.items():\r\n",
        "\t\t# generate description\r\n",
        "\t\tyhat = greedySearch(features.reshape((1,2048)))\r\n",
        "\t\t# store actual and predicted\r\n",
        "\t\tdescriptions_key = key.split('.')[0]\r\n",
        "\t\treferences = [d.split() for d in descriptions.get(descriptions_key)]\r\n",
        "\t\tactual.append(references)\r\n",
        "\t\tpredicted.append(yhat.split())\r\n",
        "\t# calculate BLEU score\r\n",
        "\tprint('BLEU-1: %f' % corpus_bleu(actual, predicted, weights=(1.0, 0, 0, 0)))\r\n",
        "\tprint('BLEU-2: %f' % corpus_bleu(actual, predicted, weights=(0.5, 0.5, 0, 0)))\r\n",
        "\tprint('BLEU-3: %f' % corpus_bleu(actual, predicted, weights=(0.3, 0.3, 0.3, 0)))\r\n",
        "\tprint('BLEU-4: %f' % corpus_bleu(actual, predicted, weights=(0.25, 0.25, 0.25, 0.25)))"
      ],
      "execution_count": null,
      "outputs": []
    },
    {
      "cell_type": "code",
      "metadata": {
        "colab": {
          "base_uri": "https://localhost:8080/"
        },
        "id": "D3SDsdzjHEvH",
        "outputId": "64984c90-b6e4-49b9-bd93-07ea5f693f6a"
      },
      "source": [
        "evaluate_bleu(encoding_train,descriptions)"
      ],
      "execution_count": 110,
      "outputs": [
        {
          "output_type": "stream",
          "text": [
            "BLEU-1: 0.482826\n",
            "BLEU-2: 0.305243\n",
            "BLEU-3: 0.228981\n",
            "BLEU-4: 0.123858\n"
          ],
          "name": "stdout"
        }
      ]
    },
    {
      "cell_type": "code",
      "metadata": {
        "colab": {
          "base_uri": "https://localhost:8080/"
        },
        "id": "S82tbt4THmkd",
        "outputId": "56602606-cc74-4c41-e53a-bd0b5cd49ebc"
      },
      "source": [
        "evaluate_bleu(encoding_test,descriptions)"
      ],
      "execution_count": null,
      "outputs": [
        {
          "output_type": "stream",
          "text": [
            "BLEU-1: 0.436436\n",
            "BLEU-2: 0.260618\n",
            "BLEU-3: 0.189073\n",
            "BLEU-4: 0.089414\n"
          ],
          "name": "stdout"
        }
      ]
    }
  ]
}